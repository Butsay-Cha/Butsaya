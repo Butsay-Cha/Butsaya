{
  "nbformat": 4,
  "nbformat_minor": 0,
  "metadata": {
    "colab": {
      "private_outputs": true,
      "provenance": [],
      "toc_visible": true
    },
    "kernelspec": {
      "name": "python3",
      "display_name": "Python 3"
    },
    "language_info": {
      "name": "python"
    }
  },
  "cells": [
    {
      "cell_type": "code",
      "execution_count": null,
      "metadata": {
        "id": "7D8OJik5Jzn6"
      },
      "outputs": [],
      "source": [
        "!pip install pmdarima\n",
        "\n",
        "import warnings\n",
        "warnings.filterwarnings('ignore')\n",
        "import numpy as np\n",
        "import pandas as pd\n",
        "import matplotlib.pyplot as plt\n",
        "import seaborn as sns\n",
        "from pandas_datareader import data as pdr\n",
        "import yfinance as yf\n",
        "\n",
        "from sklearn.preprocessing import MinMaxScaler\n",
        "from pandas.plotting import lag_plot\n",
        "from pandas import datetime\n",
        "from statsmodels.tsa.stattools import adfuller\n",
        "from statsmodels.tsa.seasonal import seasonal_decompose\n",
        "from statsmodels.tsa.arima_model import ARIMA\n",
        "from pmdarima.arima import auto_arima\n",
        "from sklearn.metrics import mean_squared_error, mean_absolute_error\n",
        "from sklearn.metrics import mean_squared_error\n",
        "from math import sqrt"
      ]
    },
    {
      "cell_type": "markdown",
      "source": [
        "# Load Data"
      ],
      "metadata": {
        "id": "r168_q18J2G-"
      }
    },
    {
      "cell_type": "code",
      "source": [
        "from google.colab import drive\n",
        "drive.mount('/content/drive')"
      ],
      "metadata": {
        "id": "nLXYFXizJ9WG"
      },
      "execution_count": null,
      "outputs": []
    },
    {
      "cell_type": "code",
      "source": [
        "bmw5 = pd.read_csv('/content/drive/MyDrive/Colab Notebooks/CS346/car/BMW5.csv')\n",
        "rr5 = pd.read_csv('/content/drive/MyDrive/Colab Notebooks/CS346/car/RYCEY.csv')\n",
        "hyun5 = pd.read_csv('/content/drive/MyDrive/Colab Notebooks/CS346/car/HYMTF.csv')\n",
        "bosch5 = pd.read_csv('/content/drive/MyDrive/Colab Notebooks/CS346/car/BOSCH5.csv')"
      ],
      "metadata": {
        "id": "hykviMbXJ9um"
      },
      "execution_count": null,
      "outputs": []
    },
    {
      "cell_type": "markdown",
      "source": [
        "# Check missing value"
      ],
      "metadata": {
        "id": "JNB59QH-dT4s"
      }
    },
    {
      "cell_type": "code",
      "source": [
        "bm = bmw5.dropna()"
      ],
      "metadata": {
        "id": "x22llXxWKK4X"
      },
      "execution_count": null,
      "outputs": []
    },
    {
      "cell_type": "code",
      "source": [
        "rr = rr5.dropna()"
      ],
      "metadata": {
        "id": "G1ovE5P0KKaX"
      },
      "execution_count": null,
      "outputs": []
    },
    {
      "cell_type": "code",
      "source": [
        "hy = hyun5.dropna()"
      ],
      "metadata": {
        "id": "e1VD_Wr9KXaP"
      },
      "execution_count": null,
      "outputs": []
    },
    {
      "cell_type": "code",
      "source": [
        "bos = bosch5.dropna()"
      ],
      "metadata": {
        "id": "G-Rh8OjwZf1n"
      },
      "execution_count": null,
      "outputs": []
    },
    {
      "cell_type": "code",
      "source": [
        "bm.info()"
      ],
      "metadata": {
        "id": "7G-Kx_I9LQsW"
      },
      "execution_count": null,
      "outputs": []
    },
    {
      "cell_type": "code",
      "source": [
        "rr.info()"
      ],
      "metadata": {
        "id": "f3JmnCnSLR72"
      },
      "execution_count": null,
      "outputs": []
    },
    {
      "cell_type": "code",
      "source": [
        "hy.info()"
      ],
      "metadata": {
        "id": "BDMZvSv-LQn2"
      },
      "execution_count": null,
      "outputs": []
    },
    {
      "cell_type": "code",
      "source": [
        "bos.info()"
      ],
      "metadata": {
        "id": "yFLkHkJ9ZlDQ"
      },
      "execution_count": null,
      "outputs": []
    },
    {
      "cell_type": "code",
      "source": [
        "company_list = [bm, rr, hy, bos]\n",
        "company_name = [\"BMW\", \"Rolls-Royce\", \"Hyundai\", \"BOSCH\"]\n",
        "\n",
        "tech_list = ['BMW', 'Rolls-Royce', 'Hyundai', 'BOSCH']"
      ],
      "metadata": {
        "id": "DPahSjgUKCru"
      },
      "execution_count": null,
      "outputs": []
    },
    {
      "cell_type": "code",
      "source": [
        "plt.figure(figsize=(15, 10))\n",
        "plt.subplots_adjust(top=1.35, bottom=1.2)\n",
        "\n",
        "for i, company in enumerate(company_list, 1):\n",
        "  plt.subplot(2, 2, i)\n",
        "  company['Close'].plot()\n",
        "  plt.ylabel('Close')\n",
        "  plt.xlabel(None)\n",
        "  plt.title(f\"Closing Price of {tech_list[i - 1]}\")\n",
        "\n",
        "plt.tight_layout()"
      ],
      "metadata": {
        "id": "aSvI4_tcKDk2"
      },
      "execution_count": null,
      "outputs": []
    },
    {
      "cell_type": "code",
      "source": [
        "plt.figure(figsize=(15, 10))\n",
        "plt.subplots_adjust(top=1.35, bottom=1.2)\n",
        "\n",
        "for i, company in enumerate(company_list, 1):\n",
        "  plt.subplot(2, 2, i)\n",
        "  company['Volume'].plot()\n",
        "  plt.ylabel('Volume')\n",
        "  plt.xlabel(None)\n",
        "  plt.title(f\"Sales Volume for {tech_list[i - 1]}\")\n",
        "\n",
        "plt.tight_layout()"
      ],
      "metadata": {
        "id": "dfPdGt3FKJdG"
      },
      "execution_count": null,
      "outputs": []
    },
    {
      "cell_type": "code",
      "source": [
        "plt.figure(figsize=(12, 9))\n",
        "\n",
        "for i, company in enumerate(company_list, 1):\n",
        "    plt.subplot(2, 2, i)\n",
        "    company['Adj Close'].hist(bins=50)\n",
        "    plt.xlabel('Adj Close')\n",
        "    plt.ylabel('Counts')\n",
        "    plt.title(f'{company_name[i - 1]}')\n",
        "    \n",
        "plt.tight_layout()"
      ],
      "metadata": {
        "id": "QV0upbOhK-RG"
      },
      "execution_count": null,
      "outputs": []
    },
    {
      "cell_type": "code",
      "source": [
        "plt.figure(figsize=(12, 9))\n",
        "\n",
        "for i, company in enumerate(company_list, 1):\n",
        "    plt.subplot(2, 2, i)\n",
        "    company['Adj Close'].hist(bins=50)\n",
        "    plt.xlabel('Adj Close')\n",
        "    plt.ylabel('Counts')\n",
        "    plt.title(f'{company_name[i - 1]}')\n",
        "    \n",
        "plt.tight_layout()"
      ],
      "metadata": {
        "id": "aBYfFA-qMQ2W"
      },
      "execution_count": null,
      "outputs": []
    },
    {
      "cell_type": "code",
      "source": [
        "plt.figure()\n",
        "lag_plot(bm['Close'], lag=3)\n",
        "plt.title('BMW Stock - Autocorrelation plot with lag = 3')\n",
        "plt.show()"
      ],
      "metadata": {
        "id": "7M7yw-FrRnLx"
      },
      "execution_count": null,
      "outputs": []
    },
    {
      "cell_type": "code",
      "source": [
        "plt.figure()\n",
        "lag_plot(rr['Close'], lag=3)\n",
        "plt.title('ROLL_ROYCE Stock - Autocorrelation plot with lag = 3')\n",
        "plt.show()"
      ],
      "metadata": {
        "id": "0W93W6ljRrnB"
      },
      "execution_count": null,
      "outputs": []
    },
    {
      "cell_type": "code",
      "source": [
        "plt.figure()\n",
        "lag_plot(hy['Close'], lag=3)\n",
        "plt.title('HYUNDAI Stock - Autocorrelation plot with lag = 3')\n",
        "plt.show()"
      ],
      "metadata": {
        "id": "SEWW0hr8Rses"
      },
      "execution_count": null,
      "outputs": []
    },
    {
      "cell_type": "code",
      "source": [
        "plt.figure()\n",
        "lag_plot(bos['Close'], lag=3)\n",
        "plt.title('BOSCH Stock - Autocorrelation plot with lag = 3')\n",
        "plt.show()"
      ],
      "metadata": {
        "id": "230UDkzEMcNQ"
      },
      "execution_count": null,
      "outputs": []
    },
    {
      "cell_type": "code",
      "source": [
        "plt.plot(bm[\"Date\"], bm[\"Close\"])\n",
        "plt.xticks(np.arange(0,1259, 200), bm['Date'][0:1259:200])\n",
        "plt.title(\"BMW stock price over time\")\n",
        "plt.xlabel(\"time\")\n",
        "plt.ylabel(\"price\")\n",
        "plt.show()"
      ],
      "metadata": {
        "id": "RoRmgZGSRt1J"
      },
      "execution_count": null,
      "outputs": []
    },
    {
      "cell_type": "code",
      "source": [
        "plt.figure(figsize = (18,9))\n",
        "plt.plot(range(bm.shape[0]),(bm['Close']))\n",
        "plt.xticks(range(0,bm.shape[0],500),bm['Date'].loc[::500],rotation=45)\n",
        "plt.xlabel('Date',fontsize=18)\n",
        "plt.ylabel('BMW stock price over time',fontsize=18)\n",
        "plt.show()"
      ],
      "metadata": {
        "id": "dyckFzKkRvmQ"
      },
      "execution_count": null,
      "outputs": []
    },
    {
      "cell_type": "code",
      "source": [
        "plt.figure(figsize = (18,9))\n",
        "plt.plot(range(rr.shape[0]),(rr['Close']))\n",
        "plt.xticks(range(0,rr.shape[0],500),rr['Date'].loc[::500],rotation=45)\n",
        "plt.xlabel('Date',fontsize=18)\n",
        "plt.ylabel('ROLL ROYCE stock price over time',fontsize=18)\n",
        "plt.show()"
      ],
      "metadata": {
        "id": "I4aeCQIHTbLu"
      },
      "execution_count": null,
      "outputs": []
    },
    {
      "cell_type": "code",
      "source": [
        "plt.figure(figsize = (18,9))\n",
        "plt.plot(range(hy.shape[0]),(hy['Close']))\n",
        "plt.xticks(range(0,hy.shape[0],500),hy['Date'].loc[::500],rotation=45)\n",
        "plt.xlabel('Date',fontsize=18)\n",
        "plt.ylabel('HYUNDAI stock price over time',fontsize=18)\n",
        "plt.show()"
      ],
      "metadata": {
        "id": "2fe8ZwPvTbDH"
      },
      "execution_count": null,
      "outputs": []
    },
    {
      "cell_type": "code",
      "source": [
        "plt.figure(figsize = (18,9))\n",
        "plt.plot(range(bos.shape[0]),(bos['Close']))\n",
        "plt.xticks(range(0,bos.shape[0],500),bos['Date'].loc[::500],rotation=45)\n",
        "plt.xlabel('Date',fontsize=18)\n",
        "plt.ylabel('BOSCH stock price over time',fontsize=18)\n",
        "plt.show()"
      ],
      "metadata": {
        "id": "DaNjIbzvTayG"
      },
      "execution_count": null,
      "outputs": []
    },
    {
      "cell_type": "code",
      "source": [
        "dateparse = lambda dates: pd.datetime.strptime(dates, '%Y-%m-%d')\n",
        "#stock_data = pd.read_csv('acgl.us.txt',sep=',', index_col='Date', parse_dates=['Date'], date_parser=dateparse).fillna(0)\n",
        "\n",
        "\n",
        "bm = pd.read_csv('/content/drive/MyDrive/Colab Notebooks/CS346/car/BMW5.csv',sep=',', index_col='Date', parse_dates=['Date'], date_parser=dateparse).dropna()\n",
        "rr = pd.read_csv('/content/drive/MyDrive/Colab Notebooks/CS346/car/RYCEY.csv',sep=',', index_col='Date', parse_dates=['Date'], date_parser=dateparse).dropna()\n",
        "hy = pd.read_csv('/content/drive/MyDrive/Colab Notebooks/CS346/car/HYMTF.csv',sep=',', index_col='Date', parse_dates=['Date'], date_parser=dateparse).dropna()\n",
        "bos = pd.read_csv('/content/drive/MyDrive/Colab Notebooks/CS346/car/BOSCH5.csv',sep=',', index_col='Date', parse_dates=['Date'], date_parser=dateparse).dropna()\n",
        "\n",
        "bm"
      ],
      "metadata": {
        "id": "zea_VX2VRxbx"
      },
      "execution_count": null,
      "outputs": []
    },
    {
      "cell_type": "code",
      "source": [
        "rr"
      ],
      "metadata": {
        "id": "hNhuilKDR2u5"
      },
      "execution_count": null,
      "outputs": []
    },
    {
      "cell_type": "code",
      "source": [
        "hy"
      ],
      "metadata": {
        "id": "GxhnAqN-R3G4"
      },
      "execution_count": null,
      "outputs": []
    },
    {
      "cell_type": "code",
      "source": [
        "bos"
      ],
      "metadata": {
        "id": "7DLbs3q9MoGI"
      },
      "execution_count": null,
      "outputs": []
    },
    {
      "cell_type": "code",
      "source": [
        "#plot close price\n",
        "plt.figure(figsize=(10,6))\n",
        "plt.grid(True)\n",
        "plt.xlabel('Date')\n",
        "plt.ylabel('Close Prices')\n",
        "plt.plot(bm['Close'])\n",
        "plt.title('BMW closing price')\n",
        "plt.show()"
      ],
      "metadata": {
        "id": "J4igTm2OR4Wg"
      },
      "execution_count": null,
      "outputs": []
    },
    {
      "cell_type": "code",
      "source": [
        "#plot close price\n",
        "plt.figure(figsize=(10,6))\n",
        "plt.grid(True)\n",
        "plt.xlabel('Date')\n",
        "plt.ylabel('Close Prices')\n",
        "plt.plot(rr['Close'])\n",
        "plt.title('ROLL_ROYCE closing price')\n",
        "plt.show()"
      ],
      "metadata": {
        "id": "ZhRn7NR8R5JT"
      },
      "execution_count": null,
      "outputs": []
    },
    {
      "cell_type": "code",
      "source": [
        "#plot close price\n",
        "plt.figure(figsize=(10,6))\n",
        "plt.grid(True)\n",
        "plt.xlabel('Date')\n",
        "plt.ylabel('Close Prices')\n",
        "plt.plot(hy['Close'])\n",
        "plt.title('HYUNDAI closing price')\n",
        "plt.show()"
      ],
      "metadata": {
        "id": "sO2aqFb6R6CQ"
      },
      "execution_count": null,
      "outputs": []
    },
    {
      "cell_type": "code",
      "source": [
        "#plot close price\n",
        "plt.figure(figsize=(10,6))\n",
        "plt.grid(True)\n",
        "plt.xlabel('Date')\n",
        "plt.ylabel('Close Prices')\n",
        "plt.plot(bos['Close'])\n",
        "plt.title('BOSCH closing price')\n",
        "plt.show()"
      ],
      "metadata": {
        "id": "jE0o4xe3M7qP"
      },
      "execution_count": null,
      "outputs": []
    },
    {
      "cell_type": "code",
      "source": [
        "#Distribution of the dataset\n",
        "bm_close = bm['Close']\n",
        "bm_close.plot(kind='kde', title='BMW')"
      ],
      "metadata": {
        "id": "1ThZWHSwR6uh"
      },
      "execution_count": null,
      "outputs": []
    },
    {
      "cell_type": "code",
      "source": [
        "#Distribution of the dataset\n",
        "rr_close = rr['Close']\n",
        "rr_close.plot(kind='kde', title='ROLL ROYCE')"
      ],
      "metadata": {
        "id": "CWatbFXdR815"
      },
      "execution_count": null,
      "outputs": []
    },
    {
      "cell_type": "code",
      "source": [
        "#Distribution of the dataset\n",
        "hy_close = hy['Close']\n",
        "hy_close.plot(kind='kde', title='HYUNDAI')"
      ],
      "metadata": {
        "id": "cSBoXYiOR8mx"
      },
      "execution_count": null,
      "outputs": []
    },
    {
      "cell_type": "code",
      "source": [
        "#Distribution of the dataset\n",
        "bos_close = bos['Close']\n",
        "bos_close.plot(kind='kde', title='BOSCH')"
      ],
      "metadata": {
        "id": "ODTb_L6XhSU8"
      },
      "execution_count": null,
      "outputs": []
    },
    {
      "cell_type": "markdown",
      "source": [
        "# ADF Test"
      ],
      "metadata": {
        "id": "nNj-a3IsdZAs"
      }
    },
    {
      "cell_type": "code",
      "source": [
        "#Test for staionarity\n",
        "def test_stationarity(timeseries):\n",
        "    #Determing rolling statistics\n",
        "    rolmean = timeseries.rolling(12).mean()\n",
        "    rolstd = timeseries.rolling(12).std()\n",
        "    #Plot rolling statistics:\n",
        "    plt.plot(timeseries, color='blue',label='Original')\n",
        "    plt.plot(rolmean, color='red', label='Rolling Mean')\n",
        "    plt.plot(rolstd, color='black', label = 'Rolling Std')\n",
        "    plt.legend(loc='best')\n",
        "    plt.title('Rolling Mean and Standard Deviation - BMW')\n",
        "    plt.show(block=False)\n",
        "    print(\"Results of dickey fuller test\")\n",
        "    adft = adfuller(timeseries,autolag='AIC')\n",
        "    # output for dft will give us without defining what the values are.\n",
        "    #hence we manually write what values does it explains using a for loop\n",
        "    output = pd.Series(adft[0:4],index=['Test Statistics','p-value','No. of lags used','Number of observations used'])\n",
        "    for key,values in adft[4].items():\n",
        "        output['critical value (%s)'%key] =  values\n",
        "    print(output)\n",
        "test_stationarity(bm_close)"
      ],
      "metadata": {
        "id": "a0Hh4z7tR_QR"
      },
      "execution_count": null,
      "outputs": []
    },
    {
      "cell_type": "code",
      "source": [
        "#Test for staionarity\n",
        "def test_stationarity(timeseries):\n",
        "    #Determing rolling statistics\n",
        "    rolmean = timeseries.rolling(12).mean()\n",
        "    rolstd = timeseries.rolling(12).std()\n",
        "    #Plot rolling statistics:\n",
        "    plt.plot(timeseries, color='blue',label='Original')\n",
        "    plt.plot(rolmean, color='red', label='Rolling Mean')\n",
        "    plt.plot(rolstd, color='black', label = 'Rolling Std')\n",
        "    plt.legend(loc='best')\n",
        "    plt.title('Rolling Mean and Standard Deviation - ROLL ROYCE')\n",
        "    plt.show(block=False)\n",
        "    print(\"Results of dickey fuller test\")\n",
        "    adft = adfuller(timeseries,autolag='AIC')\n",
        "    # output for dft will give us without defining what the values are.\n",
        "    #hence we manually write what values does it explains using a for loop\n",
        "    output = pd.Series(adft[0:4],index=['Test Statistics','p-value','No. of lags used','Number of observations used'])\n",
        "    for key,values in adft[4].items():\n",
        "        output['critical value (%s)'%key] =  values\n",
        "    print(output)\n",
        "test_stationarity(rr_close)"
      ],
      "metadata": {
        "id": "ju8quVbcSAx7"
      },
      "execution_count": null,
      "outputs": []
    },
    {
      "cell_type": "code",
      "source": [
        "#Test for staionarity\n",
        "def test_stationarity(timeseries):\n",
        "    #Determing rolling statistics\n",
        "    rolmean = timeseries.rolling(12).mean()\n",
        "    rolstd = timeseries.rolling(12).std()\n",
        "    #Plot rolling statistics:\n",
        "    plt.plot(timeseries, color='blue',label='Original')\n",
        "    plt.plot(rolmean, color='red', label='Rolling Mean')\n",
        "    plt.plot(rolstd, color='black', label = 'Rolling Std')\n",
        "    plt.legend(loc='best')\n",
        "    plt.title('Rolling Mean and Standard Deviation - HYUNDAI')\n",
        "    plt.show(block=False)\n",
        "    print(\"Results of dickey fuller test\")\n",
        "    adft = adfuller(timeseries,autolag='AIC')\n",
        "    # output for dft will give us without defining what the values are.\n",
        "    #hence we manually write what values does it explains using a for loop\n",
        "    output = pd.Series(adft[0:4],index=['Test Statistics','p-value','No. of lags used','Number of observations used'])\n",
        "    for key,values in adft[4].items():\n",
        "        output['critical value (%s)'%key] =  values\n",
        "    print(output)\n",
        "test_stationarity(hy_close)"
      ],
      "metadata": {
        "id": "sQ_yvcbCSAcB"
      },
      "execution_count": null,
      "outputs": []
    },
    {
      "cell_type": "code",
      "source": [
        "#Test for staionarity\n",
        "def test_stationarity(timeseries):\n",
        "    #Determing rolling statistics\n",
        "    rolmean = timeseries.rolling(12).mean()\n",
        "    rolstd = timeseries.rolling(12).std()\n",
        "    #Plot rolling statistics:\n",
        "    plt.plot(timeseries, color='blue',label='Original')\n",
        "    plt.plot(rolmean, color='red', label='Rolling Mean')\n",
        "    plt.plot(rolstd, color='black', label = 'Rolling Std')\n",
        "    plt.legend(loc='best')\n",
        "    plt.title('Rolling Mean and Standard Deviation - BOSCH')\n",
        "    plt.show(block=False)\n",
        "    print(\"Results of dickey fuller test\")\n",
        "    adft = adfuller(timeseries,autolag='AIC')\n",
        "    # output for dft will give us without defining what the values are.\n",
        "    #hence we manually write what values does it explains using a for loop\n",
        "    output = pd.Series(adft[0:4],index=['Test Statistics','p-value','No. of lags used','Number of observations used'])\n",
        "    for key,values in adft[4].items():\n",
        "        output['critical value (%s)'%key] =  values\n",
        "    print(output)\n",
        "test_stationarity(bos_close)"
      ],
      "metadata": {
        "id": "QFxxSiithIJt"
      },
      "execution_count": null,
      "outputs": []
    },
    {
      "cell_type": "code",
      "source": [
        "#To separate the trend and the seasonality from a time series, \n",
        "# we can decompose the series using the following code.\n",
        "bm_sea = seasonal_decompose(bm_close, model='multiplicative', period = 30)\n",
        "fig = plt.figure()  \n",
        "fig = bm_sea.plot()  \n",
        "fig.set_size_inches(16, 9)"
      ],
      "metadata": {
        "id": "-QZM0NYjSCoZ"
      },
      "execution_count": null,
      "outputs": []
    },
    {
      "cell_type": "code",
      "source": [
        "#To separate the trend and the seasonality from a time series, \n",
        "# we can decompose the series using the following code.\n",
        "rr_sea = seasonal_decompose(rr_close, model='multiplicative', period = 30)\n",
        "fig = plt.figure()  \n",
        "fig = rr_sea.plot()  \n",
        "fig.set_size_inches(16, 9)"
      ],
      "metadata": {
        "id": "OuXF775hSDTp"
      },
      "execution_count": null,
      "outputs": []
    },
    {
      "cell_type": "code",
      "source": [
        "#To separate the trend and the seasonality from a time series, \n",
        "# we can decompose the series using the following code.\n",
        "hy_sea = seasonal_decompose(hy_close, model='multiplicative', period = 30)\n",
        "fig = plt.figure()  \n",
        "fig = hy_sea.plot()  \n",
        "fig.set_size_inches(16, 9)"
      ],
      "metadata": {
        "id": "qK6KloHlSDKo"
      },
      "execution_count": null,
      "outputs": []
    },
    {
      "cell_type": "code",
      "source": [
        "#To separate the trend and the seasonality from a time series, \n",
        "# we can decompose the series using the following code.\n",
        "bos_sea = seasonal_decompose(bos_close, model='multiplicative', period = 30)\n",
        "fig = plt.figure()  \n",
        "fig = bos_sea.plot()  \n",
        "fig.set_size_inches(16, 9)"
      ],
      "metadata": {
        "id": "nO8QXkA-CKZS"
      },
      "execution_count": null,
      "outputs": []
    },
    {
      "cell_type": "code",
      "source": [
        "#if not stationary then eliminate trend\n",
        "#Eliminate trend\n",
        "from pylab import rcParams\n",
        "rcParams['figure.figsize'] = 10, 6\n",
        "bm_log = np.log(bm_close)\n",
        "moving_avg = bm_log.rolling(12).mean()\n",
        "std_dev = bm_log.rolling(12).std()\n",
        "plt.legend(loc='best')\n",
        "plt.title('Moving Average BMW')\n",
        "plt.plot(std_dev, color =\"black\", label = \"Standard Deviation\")\n",
        "plt.plot(moving_avg, color=\"red\", label = \"Mean\")\n",
        "plt.legend()\n",
        "plt.show()"
      ],
      "metadata": {
        "id": "AjHSsBhYSFX-"
      },
      "execution_count": null,
      "outputs": []
    },
    {
      "cell_type": "code",
      "source": [
        "#if not stationary then eliminate trend\n",
        "#Eliminate trend\n",
        "from pylab import rcParams\n",
        "rcParams['figure.figsize'] = 10, 6\n",
        "rr_log = np.log(bm_close)\n",
        "moving_avg = rr_log.rolling(12).mean()\n",
        "std_dev = rr_log.rolling(12).std()\n",
        "plt.legend(loc='best')\n",
        "plt.title('Moving Average ROLL ROYCE')\n",
        "plt.plot(std_dev, color =\"black\", label = \"Standard Deviation\")\n",
        "plt.plot(moving_avg, color=\"red\", label = \"Mean\")\n",
        "plt.legend()\n",
        "plt.show()"
      ],
      "metadata": {
        "id": "XVrOH3H3SGkA"
      },
      "execution_count": null,
      "outputs": []
    },
    {
      "cell_type": "code",
      "source": [
        "#if not stationary then eliminate trend\n",
        "#Eliminate trend\n",
        "from pylab import rcParams\n",
        "rcParams['figure.figsize'] = 10, 6\n",
        "hy_log = np.log(bm_close)\n",
        "moving_avg = hy_log.rolling(12).mean()\n",
        "std_dev = hy_log.rolling(12).std()\n",
        "plt.legend(loc='best')\n",
        "plt.title('Moving Average HYUNDAI')\n",
        "plt.plot(std_dev, color =\"black\", label = \"Standard Deviation\")\n",
        "plt.plot(moving_avg, color=\"red\", label = \"Mean\")\n",
        "plt.legend()\n",
        "plt.show()"
      ],
      "metadata": {
        "id": "tpjVhIKzSGQw"
      },
      "execution_count": null,
      "outputs": []
    },
    {
      "cell_type": "code",
      "source": [
        "#if not stationary then eliminate trend\n",
        "#Eliminate trend\n",
        "from pylab import rcParams\n",
        "rcParams['figure.figsize'] = 10, 6\n",
        "bos_log = np.log(bos_close)\n",
        "moving_avg = bos_log.rolling(12).mean()\n",
        "std_dev = bos_log.rolling(12).std()\n",
        "plt.legend(loc='best')\n",
        "plt.title('Moving Average BOSCH')\n",
        "plt.plot(std_dev, color =\"black\", label = \"Standard Deviation\")\n",
        "plt.plot(moving_avg, color=\"red\", label = \"Mean\")\n",
        "plt.legend()\n",
        "plt.show()"
      ],
      "metadata": {
        "id": "ZO7TYTtjh6Pt"
      },
      "execution_count": null,
      "outputs": []
    },
    {
      "cell_type": "code",
      "source": [
        "#split data into train and training set\n",
        "train_bm, test_bm = bm_log[3:int(len(bm_log)*0.9)], bm_log[int(len(bm_log)*0.9):]\n",
        "plt.figure(figsize=(10,6))\n",
        "plt.grid(True)\n",
        "plt.xlabel('Dates')\n",
        "plt.ylabel('Closing Prices')\n",
        "plt.title('BMW')\n",
        "plt.plot(bm_log, 'green', label='Train data')\n",
        "plt.plot(test_bm, 'blue', label='Test data')\n",
        "plt.legend()"
      ],
      "metadata": {
        "id": "7GRJv1HqSJgR"
      },
      "execution_count": null,
      "outputs": []
    },
    {
      "cell_type": "code",
      "source": [
        "#split data into train and training set\n",
        "train_rr, test_rr = bm_log[3:int(len(rr_log)*0.9)], rr_log[int(len(rr_log)*0.9):]\n",
        "plt.figure(figsize=(10,6))\n",
        "plt.grid(True)\n",
        "plt.xlabel('Dates')\n",
        "plt.ylabel('Closing Prices')\n",
        "plt.title('ROLL ROYCE')\n",
        "plt.plot(rr_log, 'green', label='Train data')\n",
        "plt.plot(test_rr, 'blue', label='Test data')\n",
        "plt.legend()"
      ],
      "metadata": {
        "id": "6yhkgNjASJQZ"
      },
      "execution_count": null,
      "outputs": []
    },
    {
      "cell_type": "code",
      "source": [
        "#split data into train and training set\n",
        "train_hy, test_hy = hy_log[3:int(len(hy_log)*0.9)], hy_log[int(len(hy_log)*0.9):]\n",
        "plt.figure(figsize=(10,6))\n",
        "plt.grid(True)\n",
        "plt.xlabel('Dates')\n",
        "plt.ylabel('Closing Prices')\n",
        "plt.title('HYUNDAI')\n",
        "plt.plot(hy_log, 'green', label='Train data')\n",
        "plt.plot(test_hy, 'blue', label='Test data')\n",
        "plt.legend()"
      ],
      "metadata": {
        "id": "5Weg5XVdSL_x"
      },
      "execution_count": null,
      "outputs": []
    },
    {
      "cell_type": "code",
      "source": [
        "#split data into train and training set\n",
        "train_bos, test_bos = bos_log[3:int(len(bos_log)*0.9)], bos_log[int(len(bos_log)*0.9):]\n",
        "plt.figure(figsize=(10,6))\n",
        "plt.grid(True)\n",
        "plt.xlabel('Dates')\n",
        "plt.ylabel('Closing Prices')\n",
        "plt.title('BOSCH')\n",
        "plt.plot(bos_log, 'green', label='Train data')\n",
        "plt.plot(test_bos, 'blue', label='Test data')\n",
        "plt.legend()"
      ],
      "metadata": {
        "id": "8cxM6jyNhxov"
      },
      "execution_count": null,
      "outputs": []
    },
    {
      "cell_type": "code",
      "source": [
        "model_autoARIMA = auto_arima(train_bm, start_p=0, start_q=0,\n",
        "                      test='adf',       # use adftest to find optimal 'd'\n",
        "                      max_p=3, max_q=3, # maximum p and q\n",
        "                      m=1,              # frequency of series\n",
        "                      d=None,           # let model determine 'd'\n",
        "                      seasonal=False,   # No Seasonality\n",
        "                      start_P=0, \n",
        "                      D=0, \n",
        "                      trace=True,\n",
        "                      error_action='ignore',  \n",
        "                      suppress_warnings=True, \n",
        "                      stepwise=True)\n",
        "print(model_autoARIMA.summary())\n",
        "model_autoARIMA.plot_diagnostics(figsize=(15,8))\n",
        "plt.show()"
      ],
      "metadata": {
        "id": "QRQ9B2TVSNyK"
      },
      "execution_count": null,
      "outputs": []
    },
    {
      "cell_type": "code",
      "source": [
        "model_autoARIMA = auto_arima(train_rr, start_p=0, start_q=0,\n",
        "                      test='adf',       # use adftest to find optimal 'd'\n",
        "                      max_p=3, max_q=3, # maximum p and q\n",
        "                      m=1,              # frequency of series\n",
        "                      d=None,           # let model determine 'd'\n",
        "                      seasonal=False,   # No Seasonality\n",
        "                      start_P=0, \n",
        "                      D=0, \n",
        "                      trace=True,\n",
        "                      error_action='ignore',  \n",
        "                      suppress_warnings=True, \n",
        "                      stepwise=True)\n",
        "print(model_autoARIMA.summary())\n",
        "model_autoARIMA.plot_diagnostics(figsize=(15,8))\n",
        "plt.show()"
      ],
      "metadata": {
        "id": "soX4fcpcSNog"
      },
      "execution_count": null,
      "outputs": []
    },
    {
      "cell_type": "code",
      "source": [
        "model_autoARIMA = auto_arima(train_hy, start_p=0, start_q=0,\n",
        "                      test='adf',       # use adftest to find optimal 'd'\n",
        "                      max_p=3, max_q=3, # maximum p and q\n",
        "                      m=1,              # frequency of series\n",
        "                      d=None,           # let model determine 'd'\n",
        "                      seasonal=False,   # No Seasonality\n",
        "                      start_P=0, \n",
        "                      D=0, \n",
        "                      trace=True,\n",
        "                      error_action='ignore',  \n",
        "                      suppress_warnings=True, \n",
        "                      stepwise=True)\n",
        "print(model_autoARIMA.summary())\n",
        "model_autoARIMA.plot_diagnostics(figsize=(15,8))\n",
        "plt.show()"
      ],
      "metadata": {
        "id": "lm7iqYDXSNdZ"
      },
      "execution_count": null,
      "outputs": []
    },
    {
      "cell_type": "code",
      "source": [
        "model_autoARIMA = auto_arima(train_bos, start_p=0, start_q=0,\n",
        "                      test='adf',       # use adftest to find optimal 'd'\n",
        "                      max_p=3, max_q=3, # maximum p and q\n",
        "                      m=1,              # frequency of series\n",
        "                      d=None,           # let model determine 'd'\n",
        "                      seasonal=False,   # No Seasonality\n",
        "                      start_P=0, \n",
        "                      D=0, \n",
        "                      trace=True,\n",
        "                      error_action='ignore',  \n",
        "                      suppress_warnings=True, \n",
        "                      stepwise=True)\n",
        "print(model_autoARIMA.summary())\n",
        "model_autoARIMA.plot_diagnostics(figsize=(15,8))\n",
        "plt.show()"
      ],
      "metadata": {
        "id": "wr1Adh2GNcuQ"
      },
      "execution_count": null,
      "outputs": []
    },
    {
      "cell_type": "markdown",
      "source": [
        "# Generate train and test "
      ],
      "metadata": {
        "id": "F8zKXuM4dmis"
      }
    },
    {
      "cell_type": "code",
      "source": [
        "import statsmodels.api as sm\n",
        "from statsmodels.graphics.tsaplots import plot_pacf"
      ],
      "metadata": {
        "id": "V-t3HZefSQDh"
      },
      "execution_count": null,
      "outputs": []
    },
    {
      "cell_type": "code",
      "source": [
        "#Modeling\n",
        "# Build Model\n",
        "model_bm = sm.tsa.arima.ARIMA(train_bm, order=(1,1,2))  \n",
        "fitted = model_bm.fit()  \n",
        "print(fitted.summary())"
      ],
      "metadata": {
        "id": "wMU5e2_uSQ1I"
      },
      "execution_count": null,
      "outputs": []
    },
    {
      "cell_type": "code",
      "source": [
        "#Modeling\n",
        "# Build Model\n",
        "model_rr = sm.tsa.arima.ARIMA(train_rr, order=(1,1,2))  \n",
        "fitted = model_rr.fit()  \n",
        "print(fitted.summary())"
      ],
      "metadata": {
        "id": "HzCEA0l1SRho"
      },
      "execution_count": null,
      "outputs": []
    },
    {
      "cell_type": "code",
      "source": [
        "#Modeling\n",
        "# Build Model\n",
        "model_hy = sm.tsa.arima.ARIMA(train_hy, order=(1,1,2))  \n",
        "fitted = model_hy.fit()  \n",
        "print(fitted.summary())"
      ],
      "metadata": {
        "id": "7B1ktlDJSRTQ"
      },
      "execution_count": null,
      "outputs": []
    },
    {
      "cell_type": "code",
      "source": [
        "#Modeling\n",
        "# Build Model\n",
        "model_bos = sm.tsa.arima.ARIMA(train_bos, order=(1,1,2))  \n",
        "fitted = model_bos.fit()  \n",
        "print(fitted.summary())"
      ],
      "metadata": {
        "id": "CahZJnOONr3u"
      },
      "execution_count": null,
      "outputs": []
    },
    {
      "cell_type": "markdown",
      "source": [
        "# Forecasting and Evaluation metrics"
      ],
      "metadata": {
        "id": "I9HLR04kd149"
      }
    },
    {
      "cell_type": "code",
      "source": [
        "train_bm, test_bm = bm[0:int(len(bm)*0.7)], bm[int(len(bm)*0.7):]\n",
        "training_bm = train_bm['Close'].values\n",
        "test_bm = test_bm['Close'].values\n",
        "history = [x for x in training_bm]\n",
        "model_predictions = []\n",
        "N_test_observations = len(test_bm)\n",
        "for time_point in range(N_test_observations):\n",
        "    model = sm.tsa.arima.ARIMA(history, order=(4,1,0))\n",
        "    model_fit = model.fit()\n",
        "    output = model_fit.forecast()\n",
        "    yhat = output[0]\n",
        "    model_predictions.append(yhat)\n",
        "    true_test_value = test_bm[time_point]\n",
        "    history.append(true_test_value)\n",
        "\n",
        "#MSE_train = mean_squared_error(training_bm, model_predictions)\n",
        "#RMSE_train = sqrt(MSE_train)\n",
        "#MAE_train =mean_absolute_error(training_bm, model_predictions)\n",
        "\n",
        "MSE_test = mean_squared_error(test_bm, model_predictions)\n",
        "RMSE_test = sqrt(MSE_test)\n",
        "MAE_test =mean_absolute_error(test_bm, model_predictions)\n",
        "\n",
        "#print('Training Root Mean Squared Error is {}'.format(RMSE_train))\n",
        "#print('Training Mean Squared Error is {}'.format(MSE_train))\n",
        "#print('Training Mean Absolute Error is {}'.format(MAE_train))\n",
        "\n",
        "MSE = f\"{MSE_test:.4f}\"\n",
        "RMSE = f\"{RMSE_test:.4f}\"\n",
        "MAE = f\"{MAE_test:.4f}\"\n",
        "\n",
        "print('Testing Root Mean Squared Error is {}'.format(RMSE))\n",
        "print('Testing Mean Squared Error is {}'.format(MSE))\n",
        "print('Testing Mean Absolute Error is {}'.format(MAE))\n"
      ],
      "metadata": {
        "id": "4N_d5XUKSWuJ"
      },
      "execution_count": null,
      "outputs": []
    },
    {
      "cell_type": "code",
      "source": [
        "test_set_range = bm[int(len(bm)*0.7):].index\n",
        "plt.plot(test_set_range, model_predictions, color='blue', marker='o', linestyle='dashed',label='Predicted Price')\n",
        "plt.plot(test_set_range, test_bm, color='red', label='Actual Price')\n",
        "plt.title('BMW Prices Prediction')\n",
        "plt.xlabel('Date')\n",
        "plt.ylabel('Prices')\n",
        "plt.xticks(np.arange(881,1259,50), bm.Date[881:1259:50])\n",
        "plt.legend()\n",
        "plt.show()"
      ],
      "metadata": {
        "id": "KsTKnhFmSX1A"
      },
      "execution_count": null,
      "outputs": []
    },
    {
      "cell_type": "code",
      "source": [
        "train_rr, test_rr = rr[0:int(len(rr)*0.7)], rr[int(len(rr)*0.7):]\n",
        "training_rr = train_rr['Close'].values\n",
        "test_rr = test_rr['Close'].values\n",
        "history = [x for x in training_rr]\n",
        "model_predictions = []\n",
        "N_test_observations = len(test_rr)\n",
        "for time_point in range(N_test_observations):\n",
        "    model = sm.tsa.arima.ARIMA(history, order=(4,1,0))\n",
        "    model_fit = model.fit()\n",
        "    output = model_fit.forecast()\n",
        "    yhat = output[0]\n",
        "    model_predictions.append(yhat)\n",
        "    true_test_value = test_rr[time_point]\n",
        "    history.append(true_test_value)\n",
        "\n",
        "MSE_error = mean_squared_error(test_rr, model_predictions)\n",
        "RMSE_error = sqrt(MSE_error)\n",
        "MAE_error =mean_absolute_error(test_rr, model_predictions)\n",
        "\n",
        "MSE = f\"{MSE_error:.4f}\"\n",
        "RMSE = f\"{RMSE_error:.4f}\"\n",
        "MAE = f\"{MAE_error:.4f}\"\n",
        "\n",
        "print('Testing Root Mean Squared Error is {}'.format(RMSE))\n",
        "print('Testing Mean Squared Error is {}'.format(MSE))\n",
        "print('Testing Mean Absolute Error is {}'.format(MAE))\n"
      ],
      "metadata": {
        "id": "BFr3CXfYVZEQ"
      },
      "execution_count": null,
      "outputs": []
    },
    {
      "cell_type": "code",
      "source": [
        "test_set_range = rr[int(len(rr)*0.7):].index\n",
        "plt.plot(test_set_range, model_predictions, color='blue', marker='o', linestyle='dashed',label='Predicted Price')\n",
        "plt.plot(test_set_range, test_rr, color='red', label='Actual Price')\n",
        "plt.title('ROLL_ROYCE Prices Prediction')\n",
        "plt.xlabel('Date')\n",
        "plt.ylabel('Prices')\n",
        "plt.xticks(np.arange(881,1259,50), rr.Date[881:1259:50])\n",
        "plt.legend()\n",
        "plt.show()"
      ],
      "metadata": {
        "id": "h5uN2JvGVY-8"
      },
      "execution_count": null,
      "outputs": []
    },
    {
      "cell_type": "code",
      "source": [
        "train_hy, test_hy = hy[0:int(len(hy)*0.7)], hy[int(len(hy)*0.7):]\n",
        "training_hy = train_hy['Close'].values\n",
        "test_hy = test_hy['Close'].values\n",
        "history = [x for x in training_hy]\n",
        "model_predictions = []\n",
        "N_test_observations = len(test_hy)\n",
        "for time_point in range(N_test_observations):\n",
        "    model = sm.tsa.arima.ARIMA(history, order=(4,1,0))\n",
        "    model_fit = model.fit()\n",
        "    output = model_fit.forecast()\n",
        "    yhat = output[0]\n",
        "    model_predictions.append(yhat)\n",
        "    true_test_value = test_bm[time_point]\n",
        "    history.append(true_test_value)\n",
        "\n",
        "MSE_error = mean_squared_error(test_hy, model_predictions)\n",
        "RMSE_error = sqrt(MSE_error)\n",
        "MAE_error =mean_absolute_error(test_hy, model_predictions)\n",
        "\n",
        "MSE = f\"{MSE_error:.4f}\"\n",
        "RMSE = f\"{RMSE_error:.4f}\"\n",
        "MAE = f\"{MAE_error:.4f}\"\n",
        "\n",
        "print('Testing Root Mean Squared Error is {}'.format(RMSE))\n",
        "print('Testing Mean Squared Error is {}'.format(MSE))\n",
        "print('Testing Mean Absolute Error is {}'.format(MAE))\n"
      ],
      "metadata": {
        "id": "dgvk2wMVVY6Q"
      },
      "execution_count": null,
      "outputs": []
    },
    {
      "cell_type": "code",
      "source": [
        "test_set_range = hy[int(len(hy)*0.7):].index\n",
        "plt.plot(test_set_range, model_predictions, color='blue', marker='o', linestyle='dashed',label='Predicted Price')\n",
        "plt.plot(test_set_range, test_hy, color='red', label='Actual Price')\n",
        "plt.title('HYUNDAI Prices Prediction')\n",
        "plt.xlabel('Date')\n",
        "plt.ylabel('Prices')\n",
        "plt.xticks(np.arange(881,1259,50), hy.Date[881:1259:50])\n",
        "plt.legend()\n",
        "plt.show()"
      ],
      "metadata": {
        "id": "SZrfzK9tVY0Q"
      },
      "execution_count": null,
      "outputs": []
    },
    {
      "cell_type": "code",
      "source": [
        "train_bos, test_bos = bos[0:int(len(bos)*0.7)], bos[int(len(bos)*0.7):]\n",
        "training_bos = train_bos['Close'].values\n",
        "test_bos = test_bos['Close'].values\n",
        "history = [x for x in training_bos]\n",
        "model_predictions = []\n",
        "N_test_observations = len(test_bos)\n",
        "for time_point in range(N_test_observations):\n",
        "    model = sm.tsa.arima.ARIMA(history, order=(4,1,0))\n",
        "    model_fit = model.fit()\n",
        "    output = model_fit.forecast()\n",
        "    yhat = output[0]\n",
        "    model_predictions.append(yhat)\n",
        "    true_test_value = test_bos[time_point]\n",
        "    history.append(true_test_value)\n",
        "\n",
        "MSE_error = mean_squared_error(test_bos, model_predictions)\n",
        "RMSE_error = sqrt(MSE_error)\n",
        "MAE_error =mean_absolute_error(test_bos, model_predictions)\n",
        "\n",
        "MSE = f\"{MSE_error:.4f}\"\n",
        "RMSE = f\"{RMSE_error:.4f}\"\n",
        "MAE = f\"{MAE_error:.4f}\"\n",
        "\n",
        "print('Testing Root Mean Squared Error is {}'.format(RMSE))\n",
        "print('Testing Mean Squared Error is {}'.format(MSE))\n",
        "print('Testing Mean Absolute Error is {}'.format(MAE))"
      ],
      "metadata": {
        "id": "yV47ze-lf9v1"
      },
      "execution_count": null,
      "outputs": []
    },
    {
      "cell_type": "code",
      "source": [
        "test_set_range = bos[int(len(bos)*0.7):].index\n",
        "plt.plot(test_set_range, model_predictions, color='blue', marker='o', linestyle='dashed',label='Predicted Price')\n",
        "plt.plot(test_set_range, test_bos, color='red', label='Actual Price')\n",
        "plt.title('BOSCH Prices Prediction')\n",
        "plt.xlabel('Date')\n",
        "plt.ylabel('Prices')\n",
        "plt.xticks(np.arange(881,1259,50), bos.Date[881:1259:50])\n",
        "plt.legend()\n",
        "plt.show()"
      ],
      "metadata": {
        "id": "dRpI5oGkf_em"
      },
      "execution_count": null,
      "outputs": []
    }
  ]
}