{
  "metadata": {
    "kernelspec": {
      "language": "python",
      "display_name": "Python 3",
      "name": "python3"
    },
    "language_info": {
      "name": "python",
      "version": "3.7.10",
      "mimetype": "text/x-python",
      "codemirror_mode": {
        "name": "ipython",
        "version": 3
      },
      "pygments_lexer": "ipython3",
      "nbconvert_exporter": "python",
      "file_extension": ".py"
    },
    "colab": {
      "provenance": [],
      "include_colab_link": true
    }
  },
  "nbformat_minor": 0,
  "nbformat": 4,
  "cells": [
    {
      "cell_type": "markdown",
      "metadata": {
        "id": "view-in-github",
        "colab_type": "text"
      },
      "source": [
        "<a href=\"https://colab.research.google.com/github/Butsay-Cha/Butsaya-Portfolio/blob/main/GRU_BMW.ipynb\" target=\"_parent\"><img src=\"https://colab.research.google.com/assets/colab-badge.svg\" alt=\"Open In Colab\"/></a>"
      ]
    },
    {
      "cell_type": "code",
      "source": [
        "import os\n",
        "import pandas as pd\n",
        "import numpy as np\n",
        "import math\n",
        "import datetime as dt\n",
        "\n",
        "from sklearn.metrics import mean_squared_error, mean_absolute_error, explained_variance_score, r2_score\n",
        "from sklearn.metrics import mean_poisson_deviance, mean_gamma_deviance, accuracy_score\n",
        "from sklearn.preprocessing import MinMaxScaler\n",
        "\n",
        "import tensorflow as tf\n",
        "from tensorflow.keras.models import Sequential\n",
        "from tensorflow.keras.layers import Dense, Dropout\n",
        "from tensorflow.keras.layers import LSTM, GRU\n",
        "\n",
        "from itertools import cycle\n",
        "import plotly.graph_objects as go\n",
        "import plotly.express as px\n",
        "from plotly.subplots import make_subplots\n"
      ],
      "metadata": {
        "_uuid": "8f2839f25d086af736a60e9eeb907d3b93b6e0e5",
        "_cell_guid": "b1076dfc-b9ad-4769-8c92-a6c4dae69d19",
        "execution": {
          "iopub.status.busy": "2021-08-16T08:12:22.079553Z",
          "iopub.execute_input": "2021-08-16T08:12:22.080231Z",
          "iopub.status.idle": "2021-08-16T08:12:25.382042Z",
          "shell.execute_reply.started": "2021-08-16T08:12:22.080099Z",
          "shell.execute_reply": "2021-08-16T08:12:25.381271Z"
        },
        "trusted": true,
        "id": "4xXAAPAWgz4m"
      },
      "execution_count": null,
      "outputs": []
    },
    {
      "cell_type": "markdown",
      "source": [
        "# Download Dataset"
      ],
      "metadata": {
        "id": "f6-MQ4-6gz4n"
      }
    },
    {
      "cell_type": "code",
      "source": [
        "df = pd.read_csv('/content/BMW.DE.csv')\n",
        "df = df.rename(columns={'Date': 'date', 'Open':'open', 'High':'high', 'Low':'low', 'Close':'close', 'Adj Close':'adj_close', 'Volume':'volume'})\n",
        "df.head()"
      ],
      "metadata": {
        "execution": {
          "iopub.status.busy": "2021-08-16T08:12:25.383425Z",
          "iopub.execute_input": "2021-08-16T08:12:25.384008Z",
          "iopub.status.idle": "2021-08-16T08:12:25.417882Z",
          "shell.execute_reply.started": "2021-08-16T08:12:25.383953Z",
          "shell.execute_reply": "2021-08-16T08:12:25.417153Z"
        },
        "trusted": true,
        "colab": {
          "base_uri": "https://localhost:8080/"
        },
        "id": "Dk4iwYWFgz4n",
        "outputId": "b6e83283-f360-41df-dee1-1aa0ef711e1f"
      },
      "execution_count": null,
      "outputs": [
        {
          "output_type": "execute_result",
          "data": {
            "text/plain": [
              "         date       open       high        low      close  adj_close  \\\n",
              "0  2022-05-30  80.250000  80.250000  80.250000  80.250000  73.957329   \n",
              "1  2022-05-31  81.320000  81.639999  80.169998  80.629997  74.307533   \n",
              "2  2022-06-01  81.529999  83.180000  81.250000  82.330002  75.874237   \n",
              "3  2022-06-02  82.330002  82.330002  82.330002  82.330002  75.874237   \n",
              "4  2022-06-03  82.330002  82.330002  82.330002  82.330002  75.874237   \n",
              "\n",
              "      volume  \n",
              "0        0.0  \n",
              "1  1807592.0  \n",
              "2  1608890.0  \n",
              "3        0.0  \n",
              "4        0.0  "
            ],
            "text/html": [
              "\n",
              "  <div id=\"df-c0789037-1c5d-46d5-aaf4-4aba318ef124\">\n",
              "    <div class=\"colab-df-container\">\n",
              "      <div>\n",
              "<style scoped>\n",
              "    .dataframe tbody tr th:only-of-type {\n",
              "        vertical-align: middle;\n",
              "    }\n",
              "\n",
              "    .dataframe tbody tr th {\n",
              "        vertical-align: top;\n",
              "    }\n",
              "\n",
              "    .dataframe thead th {\n",
              "        text-align: right;\n",
              "    }\n",
              "</style>\n",
              "<table border=\"1\" class=\"dataframe\">\n",
              "  <thead>\n",
              "    <tr style=\"text-align: right;\">\n",
              "      <th></th>\n",
              "      <th>date</th>\n",
              "      <th>open</th>\n",
              "      <th>high</th>\n",
              "      <th>low</th>\n",
              "      <th>close</th>\n",
              "      <th>adj_close</th>\n",
              "      <th>volume</th>\n",
              "    </tr>\n",
              "  </thead>\n",
              "  <tbody>\n",
              "    <tr>\n",
              "      <th>0</th>\n",
              "      <td>2022-05-30</td>\n",
              "      <td>80.250000</td>\n",
              "      <td>80.250000</td>\n",
              "      <td>80.250000</td>\n",
              "      <td>80.250000</td>\n",
              "      <td>73.957329</td>\n",
              "      <td>0.0</td>\n",
              "    </tr>\n",
              "    <tr>\n",
              "      <th>1</th>\n",
              "      <td>2022-05-31</td>\n",
              "      <td>81.320000</td>\n",
              "      <td>81.639999</td>\n",
              "      <td>80.169998</td>\n",
              "      <td>80.629997</td>\n",
              "      <td>74.307533</td>\n",
              "      <td>1807592.0</td>\n",
              "    </tr>\n",
              "    <tr>\n",
              "      <th>2</th>\n",
              "      <td>2022-06-01</td>\n",
              "      <td>81.529999</td>\n",
              "      <td>83.180000</td>\n",
              "      <td>81.250000</td>\n",
              "      <td>82.330002</td>\n",
              "      <td>75.874237</td>\n",
              "      <td>1608890.0</td>\n",
              "    </tr>\n",
              "    <tr>\n",
              "      <th>3</th>\n",
              "      <td>2022-06-02</td>\n",
              "      <td>82.330002</td>\n",
              "      <td>82.330002</td>\n",
              "      <td>82.330002</td>\n",
              "      <td>82.330002</td>\n",
              "      <td>75.874237</td>\n",
              "      <td>0.0</td>\n",
              "    </tr>\n",
              "    <tr>\n",
              "      <th>4</th>\n",
              "      <td>2022-06-03</td>\n",
              "      <td>82.330002</td>\n",
              "      <td>82.330002</td>\n",
              "      <td>82.330002</td>\n",
              "      <td>82.330002</td>\n",
              "      <td>75.874237</td>\n",
              "      <td>0.0</td>\n",
              "    </tr>\n",
              "  </tbody>\n",
              "</table>\n",
              "</div>\n",
              "      <button class=\"colab-df-convert\" onclick=\"convertToInteractive('df-c0789037-1c5d-46d5-aaf4-4aba318ef124')\"\n",
              "              title=\"Convert this dataframe to an interactive table.\"\n",
              "              style=\"display:none;\">\n",
              "        \n",
              "  <svg xmlns=\"http://www.w3.org/2000/svg\" height=\"24px\"viewBox=\"0 0 24 24\"\n",
              "       width=\"24px\">\n",
              "    <path d=\"M0 0h24v24H0V0z\" fill=\"none\"/>\n",
              "    <path d=\"M18.56 5.44l.94 2.06.94-2.06 2.06-.94-2.06-.94-.94-2.06-.94 2.06-2.06.94zm-11 1L8.5 8.5l.94-2.06 2.06-.94-2.06-.94L8.5 2.5l-.94 2.06-2.06.94zm10 10l.94 2.06.94-2.06 2.06-.94-2.06-.94-.94-2.06-.94 2.06-2.06.94z\"/><path d=\"M17.41 7.96l-1.37-1.37c-.4-.4-.92-.59-1.43-.59-.52 0-1.04.2-1.43.59L10.3 9.45l-7.72 7.72c-.78.78-.78 2.05 0 2.83L4 21.41c.39.39.9.59 1.41.59.51 0 1.02-.2 1.41-.59l7.78-7.78 2.81-2.81c.8-.78.8-2.07 0-2.86zM5.41 20L4 18.59l7.72-7.72 1.47 1.35L5.41 20z\"/>\n",
              "  </svg>\n",
              "      </button>\n",
              "      \n",
              "  <style>\n",
              "    .colab-df-container {\n",
              "      display:flex;\n",
              "      flex-wrap:wrap;\n",
              "      gap: 12px;\n",
              "    }\n",
              "\n",
              "    .colab-df-convert {\n",
              "      background-color: #E8F0FE;\n",
              "      border: none;\n",
              "      border-radius: 50%;\n",
              "      cursor: pointer;\n",
              "      display: none;\n",
              "      fill: #1967D2;\n",
              "      height: 32px;\n",
              "      padding: 0 0 0 0;\n",
              "      width: 32px;\n",
              "    }\n",
              "\n",
              "    .colab-df-convert:hover {\n",
              "      background-color: #E2EBFA;\n",
              "      box-shadow: 0px 1px 2px rgba(60, 64, 67, 0.3), 0px 1px 3px 1px rgba(60, 64, 67, 0.15);\n",
              "      fill: #174EA6;\n",
              "    }\n",
              "\n",
              "    [theme=dark] .colab-df-convert {\n",
              "      background-color: #3B4455;\n",
              "      fill: #D2E3FC;\n",
              "    }\n",
              "\n",
              "    [theme=dark] .colab-df-convert:hover {\n",
              "      background-color: #434B5C;\n",
              "      box-shadow: 0px 1px 3px 1px rgba(0, 0, 0, 0.15);\n",
              "      filter: drop-shadow(0px 1px 2px rgba(0, 0, 0, 0.3));\n",
              "      fill: #FFFFFF;\n",
              "    }\n",
              "  </style>\n",
              "\n",
              "      <script>\n",
              "        const buttonEl =\n",
              "          document.querySelector('#df-c0789037-1c5d-46d5-aaf4-4aba318ef124 button.colab-df-convert');\n",
              "        buttonEl.style.display =\n",
              "          google.colab.kernel.accessAllowed ? 'block' : 'none';\n",
              "\n",
              "        async function convertToInteractive(key) {\n",
              "          const element = document.querySelector('#df-c0789037-1c5d-46d5-aaf4-4aba318ef124');\n",
              "          const dataTable =\n",
              "            await google.colab.kernel.invokeFunction('convertToInteractive',\n",
              "                                                     [key], {});\n",
              "          if (!dataTable) return;\n",
              "\n",
              "          const docLinkHtml = 'Like what you see? Visit the ' +\n",
              "            '<a target=\"_blank\" href=https://colab.research.google.com/notebooks/data_table.ipynb>data table notebook</a>'\n",
              "            + ' to learn more about interactive tables.';\n",
              "          element.innerHTML = '';\n",
              "          dataTable['output_type'] = 'display_data';\n",
              "          await google.colab.output.renderOutput(dataTable, element);\n",
              "          const docLink = document.createElement('div');\n",
              "          docLink.innerHTML = docLinkHtml;\n",
              "          element.appendChild(docLink);\n",
              "        }\n",
              "      </script>\n",
              "    </div>\n",
              "  </div>\n",
              "  "
            ]
          },
          "metadata": {},
          "execution_count": 32
        }
      ]
    },
    {
      "cell_type": "markdown",
      "source": [
        "<a name=\"na\"></a>\n",
        "\n",
        "# Checking missing value"
      ],
      "metadata": {
        "id": "ZltYpIWMgz4p"
      }
    },
    {
      "cell_type": "code",
      "source": [
        "print(\"Null values :\", df.isnull().values.sum())\n",
        "print(\"NA values :\", df.isna().values.any())"
      ],
      "metadata": {
        "execution": {
          "iopub.status.busy": "2021-08-16T08:12:25.426327Z",
          "iopub.execute_input": "2021-08-16T08:12:25.426658Z",
          "iopub.status.idle": "2021-08-16T08:12:25.441149Z",
          "shell.execute_reply.started": "2021-08-16T08:12:25.426628Z",
          "shell.execute_reply": "2021-08-16T08:12:25.440082Z"
        },
        "trusted": true,
        "colab": {
          "base_uri": "https://localhost:8080/"
        },
        "id": "how-B_Aqgz4p",
        "outputId": "c2791883-8e17-4057-d611-4a3bac07faa6"
      },
      "execution_count": null,
      "outputs": [
        {
          "output_type": "stream",
          "name": "stdout",
          "text": [
            "Null values : 12\n",
            "NA values : True\n"
          ]
        }
      ]
    },
    {
      "cell_type": "code",
      "source": [
        "df = df.dropna()"
      ],
      "metadata": {
        "id": "x-ZQqYfgy0tX"
      },
      "execution_count": null,
      "outputs": []
    },
    {
      "cell_type": "code",
      "source": [
        "print(\"Null values :\", df.isnull().values.sum())\n",
        "print(\"NA values :\", df.isna().values.any())"
      ],
      "metadata": {
        "colab": {
          "base_uri": "https://localhost:8080/"
        },
        "id": "yxzwY_Bly1nP",
        "outputId": "30c0f467-8e80-431e-8cb8-980ba28692f4"
      },
      "execution_count": null,
      "outputs": [
        {
          "output_type": "stream",
          "name": "stdout",
          "text": [
            "Null values : 0\n",
            "NA values : False\n"
          ]
        }
      ]
    },
    {
      "cell_type": "markdown",
      "source": [
        "<a name=\"predate\"></a>\n",
        "\n",
        "# Convert Date to datetime format"
      ],
      "metadata": {
        "id": "8YoTFWJRgz4q"
      }
    },
    {
      "cell_type": "code",
      "source": [
        "df['date'] = pd.to_datetime(df.date)\n",
        "df.head()"
      ],
      "metadata": {
        "execution": {
          "iopub.status.busy": "2021-08-16T08:12:25.442779Z",
          "iopub.execute_input": "2021-08-16T08:12:25.443122Z",
          "iopub.status.idle": "2021-08-16T08:12:25.462531Z",
          "shell.execute_reply.started": "2021-08-16T08:12:25.443091Z",
          "shell.execute_reply": "2021-08-16T08:12:25.461399Z"
        },
        "trusted": true,
        "colab": {
          "base_uri": "https://localhost:8080/"
        },
        "id": "u6z4jd8Jgz4q",
        "outputId": "f958fc6b-f2bb-4d38-f55c-5aaea1225f88"
      },
      "execution_count": null,
      "outputs": [
        {
          "output_type": "execute_result",
          "data": {
            "text/plain": [
              "        date       open       high        low      close  adj_close     volume\n",
              "0 2022-05-30  80.250000  80.250000  80.250000  80.250000  73.957329        0.0\n",
              "1 2022-05-31  81.320000  81.639999  80.169998  80.629997  74.307533  1807592.0\n",
              "2 2022-06-01  81.529999  83.180000  81.250000  82.330002  75.874237  1608890.0\n",
              "3 2022-06-02  82.330002  82.330002  82.330002  82.330002  75.874237        0.0\n",
              "4 2022-06-03  82.330002  82.330002  82.330002  82.330002  75.874237        0.0"
            ],
            "text/html": [
              "\n",
              "  <div id=\"df-dca03ab3-d829-4142-a030-4a628d92ae4a\">\n",
              "    <div class=\"colab-df-container\">\n",
              "      <div>\n",
              "<style scoped>\n",
              "    .dataframe tbody tr th:only-of-type {\n",
              "        vertical-align: middle;\n",
              "    }\n",
              "\n",
              "    .dataframe tbody tr th {\n",
              "        vertical-align: top;\n",
              "    }\n",
              "\n",
              "    .dataframe thead th {\n",
              "        text-align: right;\n",
              "    }\n",
              "</style>\n",
              "<table border=\"1\" class=\"dataframe\">\n",
              "  <thead>\n",
              "    <tr style=\"text-align: right;\">\n",
              "      <th></th>\n",
              "      <th>date</th>\n",
              "      <th>open</th>\n",
              "      <th>high</th>\n",
              "      <th>low</th>\n",
              "      <th>close</th>\n",
              "      <th>adj_close</th>\n",
              "      <th>volume</th>\n",
              "    </tr>\n",
              "  </thead>\n",
              "  <tbody>\n",
              "    <tr>\n",
              "      <th>0</th>\n",
              "      <td>2022-05-30</td>\n",
              "      <td>80.250000</td>\n",
              "      <td>80.250000</td>\n",
              "      <td>80.250000</td>\n",
              "      <td>80.250000</td>\n",
              "      <td>73.957329</td>\n",
              "      <td>0.0</td>\n",
              "    </tr>\n",
              "    <tr>\n",
              "      <th>1</th>\n",
              "      <td>2022-05-31</td>\n",
              "      <td>81.320000</td>\n",
              "      <td>81.639999</td>\n",
              "      <td>80.169998</td>\n",
              "      <td>80.629997</td>\n",
              "      <td>74.307533</td>\n",
              "      <td>1807592.0</td>\n",
              "    </tr>\n",
              "    <tr>\n",
              "      <th>2</th>\n",
              "      <td>2022-06-01</td>\n",
              "      <td>81.529999</td>\n",
              "      <td>83.180000</td>\n",
              "      <td>81.250000</td>\n",
              "      <td>82.330002</td>\n",
              "      <td>75.874237</td>\n",
              "      <td>1608890.0</td>\n",
              "    </tr>\n",
              "    <tr>\n",
              "      <th>3</th>\n",
              "      <td>2022-06-02</td>\n",
              "      <td>82.330002</td>\n",
              "      <td>82.330002</td>\n",
              "      <td>82.330002</td>\n",
              "      <td>82.330002</td>\n",
              "      <td>75.874237</td>\n",
              "      <td>0.0</td>\n",
              "    </tr>\n",
              "    <tr>\n",
              "      <th>4</th>\n",
              "      <td>2022-06-03</td>\n",
              "      <td>82.330002</td>\n",
              "      <td>82.330002</td>\n",
              "      <td>82.330002</td>\n",
              "      <td>82.330002</td>\n",
              "      <td>75.874237</td>\n",
              "      <td>0.0</td>\n",
              "    </tr>\n",
              "  </tbody>\n",
              "</table>\n",
              "</div>\n",
              "      <button class=\"colab-df-convert\" onclick=\"convertToInteractive('df-dca03ab3-d829-4142-a030-4a628d92ae4a')\"\n",
              "              title=\"Convert this dataframe to an interactive table.\"\n",
              "              style=\"display:none;\">\n",
              "        \n",
              "  <svg xmlns=\"http://www.w3.org/2000/svg\" height=\"24px\"viewBox=\"0 0 24 24\"\n",
              "       width=\"24px\">\n",
              "    <path d=\"M0 0h24v24H0V0z\" fill=\"none\"/>\n",
              "    <path d=\"M18.56 5.44l.94 2.06.94-2.06 2.06-.94-2.06-.94-.94-2.06-.94 2.06-2.06.94zm-11 1L8.5 8.5l.94-2.06 2.06-.94-2.06-.94L8.5 2.5l-.94 2.06-2.06.94zm10 10l.94 2.06.94-2.06 2.06-.94-2.06-.94-.94-2.06-.94 2.06-2.06.94z\"/><path d=\"M17.41 7.96l-1.37-1.37c-.4-.4-.92-.59-1.43-.59-.52 0-1.04.2-1.43.59L10.3 9.45l-7.72 7.72c-.78.78-.78 2.05 0 2.83L4 21.41c.39.39.9.59 1.41.59.51 0 1.02-.2 1.41-.59l7.78-7.78 2.81-2.81c.8-.78.8-2.07 0-2.86zM5.41 20L4 18.59l7.72-7.72 1.47 1.35L5.41 20z\"/>\n",
              "  </svg>\n",
              "      </button>\n",
              "      \n",
              "  <style>\n",
              "    .colab-df-container {\n",
              "      display:flex;\n",
              "      flex-wrap:wrap;\n",
              "      gap: 12px;\n",
              "    }\n",
              "\n",
              "    .colab-df-convert {\n",
              "      background-color: #E8F0FE;\n",
              "      border: none;\n",
              "      border-radius: 50%;\n",
              "      cursor: pointer;\n",
              "      display: none;\n",
              "      fill: #1967D2;\n",
              "      height: 32px;\n",
              "      padding: 0 0 0 0;\n",
              "      width: 32px;\n",
              "    }\n",
              "\n",
              "    .colab-df-convert:hover {\n",
              "      background-color: #E2EBFA;\n",
              "      box-shadow: 0px 1px 2px rgba(60, 64, 67, 0.3), 0px 1px 3px 1px rgba(60, 64, 67, 0.15);\n",
              "      fill: #174EA6;\n",
              "    }\n",
              "\n",
              "    [theme=dark] .colab-df-convert {\n",
              "      background-color: #3B4455;\n",
              "      fill: #D2E3FC;\n",
              "    }\n",
              "\n",
              "    [theme=dark] .colab-df-convert:hover {\n",
              "      background-color: #434B5C;\n",
              "      box-shadow: 0px 1px 3px 1px rgba(0, 0, 0, 0.15);\n",
              "      filter: drop-shadow(0px 1px 2px rgba(0, 0, 0, 0.3));\n",
              "      fill: #FFFFFF;\n",
              "    }\n",
              "  </style>\n",
              "\n",
              "      <script>\n",
              "        const buttonEl =\n",
              "          document.querySelector('#df-dca03ab3-d829-4142-a030-4a628d92ae4a button.colab-df-convert');\n",
              "        buttonEl.style.display =\n",
              "          google.colab.kernel.accessAllowed ? 'block' : 'none';\n",
              "\n",
              "        async function convertToInteractive(key) {\n",
              "          const element = document.querySelector('#df-dca03ab3-d829-4142-a030-4a628d92ae4a');\n",
              "          const dataTable =\n",
              "            await google.colab.kernel.invokeFunction('convertToInteractive',\n",
              "                                                     [key], {});\n",
              "          if (!dataTable) return;\n",
              "\n",
              "          const docLinkHtml = 'Like what you see? Visit the ' +\n",
              "            '<a target=\"_blank\" href=https://colab.research.google.com/notebooks/data_table.ipynb>data table notebook</a>'\n",
              "            + ' to learn more about interactive tables.';\n",
              "          element.innerHTML = '';\n",
              "          dataTable['output_type'] = 'display_data';\n",
              "          await google.colab.output.renderOutput(dataTable, element);\n",
              "          const docLink = document.createElement('div');\n",
              "          docLink.innerHTML = docLinkHtml;\n",
              "          element.appendChild(docLink);\n",
              "        }\n",
              "      </script>\n",
              "    </div>\n",
              "  </div>\n",
              "  "
            ]
          },
          "metadata": {},
          "execution_count": 36
        }
      ]
    },
    {
      "cell_type": "markdown",
      "source": [
        "<a name=\"sc\"></a>\n",
        "\n",
        "# Stock Close Price Forecasting"
      ],
      "metadata": {
        "id": "2urxy_6pgz4u"
      }
    },
    {
      "cell_type": "markdown",
      "source": [
        "<a name=\"df\"></a>\n",
        "\n",
        "### Make separate dataframe of close price"
      ],
      "metadata": {
        "id": "hOO6wxgzgz4u"
      }
    },
    {
      "cell_type": "code",
      "source": [
        "closedf = df[['date', 'close']]\n",
        "closedf.shape"
      ],
      "metadata": {
        "execution": {
          "iopub.status.busy": "2021-08-16T08:12:26.137059Z",
          "iopub.execute_input": "2021-08-16T08:12:26.137457Z",
          "iopub.status.idle": "2021-08-16T08:12:26.142726Z",
          "shell.execute_reply.started": "2021-08-16T08:12:26.137429Z",
          "shell.execute_reply": "2021-08-16T08:12:26.142063Z"
        },
        "trusted": true,
        "colab": {
          "base_uri": "https://localhost:8080/"
        },
        "id": "hDox3vhSgz4u",
        "outputId": "748f1938-e384-45b0-a5e7-e8da6c4c0e95"
      },
      "execution_count": null,
      "outputs": [
        {
          "output_type": "execute_result",
          "data": {
            "text/plain": [
              "(254, 2)"
            ]
          },
          "metadata": {},
          "execution_count": 37
        }
      ]
    },
    {
      "cell_type": "markdown",
      "source": [
        "<a name=\"year\"></a>\n",
        "\n",
        "# Consider only last 1 year data for prediction"
      ],
      "metadata": {
        "id": "Op4NlUSzgz4w"
      }
    },
    {
      "cell_type": "code",
      "source": [
        "closedf = closedf[closedf['date'] > '2022-05-30']\n",
        "close_stock = closedf.copy()\n",
        "closedf.shape[0]"
      ],
      "metadata": {
        "execution": {
          "iopub.status.busy": "2021-08-16T08:12:26.281464Z",
          "iopub.execute_input": "2021-08-16T08:12:26.281738Z",
          "iopub.status.idle": "2021-08-16T08:12:26.287929Z",
          "shell.execute_reply.started": "2021-08-16T08:12:26.281712Z",
          "shell.execute_reply": "2021-08-16T08:12:26.286927Z"
        },
        "trusted": true,
        "colab": {
          "base_uri": "https://localhost:8080/"
        },
        "id": "pno8xLT0gz4w",
        "outputId": "46a9c757-46af-4391-c7f0-119947dd376d"
      },
      "execution_count": null,
      "outputs": [
        {
          "output_type": "execute_result",
          "data": {
            "text/plain": [
              "253"
            ]
          },
          "metadata": {},
          "execution_count": 38
        }
      ]
    },
    {
      "cell_type": "code",
      "source": [
        "fig = px.line(closedf, x=closedf.date, y=closedf.close,labels={'date':'Date','close':'Close Stock'})\n",
        "fig.update_traces(marker_line_width=2, opacity=0.8, marker_line_color='orange')\n",
        "fig.update_layout(title_text='Considered period to predict Stock close price', plot_bgcolor='white', font_size=15, font_color='black')\n",
        "fig.update_xaxes(showgrid=False)\n",
        "fig.update_yaxes(showgrid=False)\n",
        "fig.show()"
      ],
      "metadata": {
        "execution": {
          "iopub.status.busy": "2021-08-16T08:12:26.289334Z",
          "iopub.execute_input": "2021-08-16T08:12:26.289627Z",
          "iopub.status.idle": "2021-08-16T08:12:26.388309Z",
          "shell.execute_reply.started": "2021-08-16T08:12:26.289599Z",
          "shell.execute_reply": "2021-08-16T08:12:26.387172Z"
        },
        "trusted": true,
        "colab": {
          "base_uri": "https://localhost:8080/",
          "height": 542
        },
        "id": "YJnjnhflgz4x",
        "outputId": "19b9d1bb-4d69-4443-e763-36a704075170"
      },
      "execution_count": null,
      "outputs": [
        {
          "output_type": "display_data",
          "data": {
            "text/html": [
              "<html>\n",
              "<head><meta charset=\"utf-8\" /></head>\n",
              "<body>\n",
              "    <div>            <script src=\"https://cdnjs.cloudflare.com/ajax/libs/mathjax/2.7.5/MathJax.js?config=TeX-AMS-MML_SVG\"></script><script type=\"text/javascript\">if (window.MathJax && window.MathJax.Hub && window.MathJax.Hub.Config) {window.MathJax.Hub.Config({SVG: {font: \"STIX-Web\"}});}</script>                <script type=\"text/javascript\">window.PlotlyConfig = {MathJaxConfig: 'local'};</script>\n",
              "        <script src=\"https://cdn.plot.ly/plotly-2.18.2.min.js\"></script>                <div id=\"ff446203-402f-4c93-8f53-26180b04f8a1\" class=\"plotly-graph-div\" style=\"height:525px; width:100%;\"></div>            <script type=\"text/javascript\">                                    window.PLOTLYENV=window.PLOTLYENV || {};                                    if (document.getElementById(\"ff446203-402f-4c93-8f53-26180b04f8a1\")) {                    Plotly.newPlot(                        \"ff446203-402f-4c93-8f53-26180b04f8a1\",                        [{\"hovertemplate\":\"Date=%{x}<br>Close Stock=%{y}<extra></extra>\",\"legendgroup\":\"\",\"line\":{\"color\":\"#636efa\",\"dash\":\"solid\"},\"marker\":{\"symbol\":\"circle\",\"line\":{\"color\":\"orange\",\"width\":2}},\"mode\":\"lines\",\"name\":\"\",\"orientation\":\"v\",\"showlegend\":false,\"x\":[\"2022-05-31T00:00:00\",\"2022-06-01T00:00:00\",\"2022-06-02T00:00:00\",\"2022-06-03T00:00:00\",\"2022-06-06T00:00:00\",\"2022-06-07T00:00:00\",\"2022-06-08T00:00:00\",\"2022-06-09T00:00:00\",\"2022-06-10T00:00:00\",\"2022-06-13T00:00:00\",\"2022-06-14T00:00:00\",\"2022-06-15T00:00:00\",\"2022-06-16T00:00:00\",\"2022-06-17T00:00:00\",\"2022-06-20T00:00:00\",\"2022-06-21T00:00:00\",\"2022-06-22T00:00:00\",\"2022-06-23T00:00:00\",\"2022-06-24T00:00:00\",\"2022-06-27T00:00:00\",\"2022-06-28T00:00:00\",\"2022-06-29T00:00:00\",\"2022-06-30T00:00:00\",\"2022-07-01T00:00:00\",\"2022-07-04T00:00:00\",\"2022-07-05T00:00:00\",\"2022-07-06T00:00:00\",\"2022-07-07T00:00:00\",\"2022-07-08T00:00:00\",\"2022-07-11T00:00:00\",\"2022-07-12T00:00:00\",\"2022-07-13T00:00:00\",\"2022-07-14T00:00:00\",\"2022-07-15T00:00:00\",\"2022-07-18T00:00:00\",\"2022-07-19T00:00:00\",\"2022-07-20T00:00:00\",\"2022-07-21T00:00:00\",\"2022-07-22T00:00:00\",\"2022-07-25T00:00:00\",\"2022-07-26T00:00:00\",\"2022-07-27T00:00:00\",\"2022-07-28T00:00:00\",\"2022-07-29T00:00:00\",\"2022-08-01T00:00:00\",\"2022-08-02T00:00:00\",\"2022-08-03T00:00:00\",\"2022-08-04T00:00:00\",\"2022-08-05T00:00:00\",\"2022-08-08T00:00:00\",\"2022-08-09T00:00:00\",\"2022-08-10T00:00:00\",\"2022-08-11T00:00:00\",\"2022-08-12T00:00:00\",\"2022-08-15T00:00:00\",\"2022-08-16T00:00:00\",\"2022-08-17T00:00:00\",\"2022-08-18T00:00:00\",\"2022-08-19T00:00:00\",\"2022-08-22T00:00:00\",\"2022-08-23T00:00:00\",\"2022-08-24T00:00:00\",\"2022-08-25T00:00:00\",\"2022-08-26T00:00:00\",\"2022-08-29T00:00:00\",\"2022-08-30T00:00:00\",\"2022-08-31T00:00:00\",\"2022-09-01T00:00:00\",\"2022-09-02T00:00:00\",\"2022-09-05T00:00:00\",\"2022-09-06T00:00:00\",\"2022-09-07T00:00:00\",\"2022-09-08T00:00:00\",\"2022-09-09T00:00:00\",\"2022-09-12T00:00:00\",\"2022-09-13T00:00:00\",\"2022-09-14T00:00:00\",\"2022-09-15T00:00:00\",\"2022-09-16T00:00:00\",\"2022-09-19T00:00:00\",\"2022-09-20T00:00:00\",\"2022-09-21T00:00:00\",\"2022-09-22T00:00:00\",\"2022-09-23T00:00:00\",\"2022-09-26T00:00:00\",\"2022-09-27T00:00:00\",\"2022-09-28T00:00:00\",\"2022-09-29T00:00:00\",\"2022-09-30T00:00:00\",\"2022-10-03T00:00:00\",\"2022-10-04T00:00:00\",\"2022-10-05T00:00:00\",\"2022-10-06T00:00:00\",\"2022-10-07T00:00:00\",\"2022-10-10T00:00:00\",\"2022-10-11T00:00:00\",\"2022-10-12T00:00:00\",\"2022-10-13T00:00:00\",\"2022-10-14T00:00:00\",\"2022-10-17T00:00:00\",\"2022-10-18T00:00:00\",\"2022-10-19T00:00:00\",\"2022-10-20T00:00:00\",\"2022-10-21T00:00:00\",\"2022-10-24T00:00:00\",\"2022-10-25T00:00:00\",\"2022-10-26T00:00:00\",\"2022-10-27T00:00:00\",\"2022-10-28T00:00:00\",\"2022-10-31T00:00:00\",\"2022-11-01T00:00:00\",\"2022-11-02T00:00:00\",\"2022-11-03T00:00:00\",\"2022-11-04T00:00:00\",\"2022-11-07T00:00:00\",\"2022-11-08T00:00:00\",\"2022-11-09T00:00:00\",\"2022-11-10T00:00:00\",\"2022-11-11T00:00:00\",\"2022-11-14T00:00:00\",\"2022-11-15T00:00:00\",\"2022-11-16T00:00:00\",\"2022-11-17T00:00:00\",\"2022-11-18T00:00:00\",\"2022-11-21T00:00:00\",\"2022-11-22T00:00:00\",\"2022-11-23T00:00:00\",\"2022-11-24T00:00:00\",\"2022-11-25T00:00:00\",\"2022-11-28T00:00:00\",\"2022-11-29T00:00:00\",\"2022-11-30T00:00:00\",\"2022-12-01T00:00:00\",\"2022-12-02T00:00:00\",\"2022-12-05T00:00:00\",\"2022-12-06T00:00:00\",\"2022-12-07T00:00:00\",\"2022-12-08T00:00:00\",\"2022-12-09T00:00:00\",\"2022-12-12T00:00:00\",\"2022-12-13T00:00:00\",\"2022-12-14T00:00:00\",\"2022-12-15T00:00:00\",\"2022-12-16T00:00:00\",\"2022-12-19T00:00:00\",\"2022-12-20T00:00:00\",\"2022-12-21T00:00:00\",\"2022-12-22T00:00:00\",\"2022-12-23T00:00:00\",\"2022-12-27T00:00:00\",\"2022-12-28T00:00:00\",\"2022-12-29T00:00:00\",\"2022-12-30T00:00:00\",\"2023-01-02T00:00:00\",\"2023-01-03T00:00:00\",\"2023-01-04T00:00:00\",\"2023-01-05T00:00:00\",\"2023-01-06T00:00:00\",\"2023-01-09T00:00:00\",\"2023-01-10T00:00:00\",\"2023-01-11T00:00:00\",\"2023-01-12T00:00:00\",\"2023-01-13T00:00:00\",\"2023-01-16T00:00:00\",\"2023-01-17T00:00:00\",\"2023-01-18T00:00:00\",\"2023-01-19T00:00:00\",\"2023-01-20T00:00:00\",\"2023-01-23T00:00:00\",\"2023-01-24T00:00:00\",\"2023-01-25T00:00:00\",\"2023-01-26T00:00:00\",\"2023-01-27T00:00:00\",\"2023-01-30T00:00:00\",\"2023-01-31T00:00:00\",\"2023-02-01T00:00:00\",\"2023-02-02T00:00:00\",\"2023-02-03T00:00:00\",\"2023-02-06T00:00:00\",\"2023-02-07T00:00:00\",\"2023-02-08T00:00:00\",\"2023-02-09T00:00:00\",\"2023-02-10T00:00:00\",\"2023-02-13T00:00:00\",\"2023-02-14T00:00:00\",\"2023-02-15T00:00:00\",\"2023-02-16T00:00:00\",\"2023-02-17T00:00:00\",\"2023-02-20T00:00:00\",\"2023-02-21T00:00:00\",\"2023-02-22T00:00:00\",\"2023-02-23T00:00:00\",\"2023-02-24T00:00:00\",\"2023-02-27T00:00:00\",\"2023-02-28T00:00:00\",\"2023-03-01T00:00:00\",\"2023-03-02T00:00:00\",\"2023-03-03T00:00:00\",\"2023-03-06T00:00:00\",\"2023-03-07T00:00:00\",\"2023-03-08T00:00:00\",\"2023-03-09T00:00:00\",\"2023-03-10T00:00:00\",\"2023-03-13T00:00:00\",\"2023-03-14T00:00:00\",\"2023-03-15T00:00:00\",\"2023-03-16T00:00:00\",\"2023-03-17T00:00:00\",\"2023-03-20T00:00:00\",\"2023-03-21T00:00:00\",\"2023-03-22T00:00:00\",\"2023-03-23T00:00:00\",\"2023-03-24T00:00:00\",\"2023-03-27T00:00:00\",\"2023-03-28T00:00:00\",\"2023-03-29T00:00:00\",\"2023-03-30T00:00:00\",\"2023-03-31T00:00:00\",\"2023-04-03T00:00:00\",\"2023-04-04T00:00:00\",\"2023-04-05T00:00:00\",\"2023-04-06T00:00:00\",\"2023-04-12T00:00:00\",\"2023-04-13T00:00:00\",\"2023-04-14T00:00:00\",\"2023-04-17T00:00:00\",\"2023-04-18T00:00:00\",\"2023-04-19T00:00:00\",\"2023-04-20T00:00:00\",\"2023-04-21T00:00:00\",\"2023-04-24T00:00:00\",\"2023-04-25T00:00:00\",\"2023-04-26T00:00:00\",\"2023-04-27T00:00:00\",\"2023-04-28T00:00:00\",\"2023-05-02T00:00:00\",\"2023-05-03T00:00:00\",\"2023-05-04T00:00:00\",\"2023-05-05T00:00:00\",\"2023-05-08T00:00:00\",\"2023-05-09T00:00:00\",\"2023-05-10T00:00:00\",\"2023-05-11T00:00:00\",\"2023-05-12T00:00:00\",\"2023-05-15T00:00:00\",\"2023-05-16T00:00:00\",\"2023-05-17T00:00:00\",\"2023-05-18T00:00:00\",\"2023-05-19T00:00:00\",\"2023-05-22T00:00:00\",\"2023-05-24T00:00:00\",\"2023-05-25T00:00:00\",\"2023-05-26T00:00:00\"],\"xaxis\":\"x\",\"y\":[80.629997,82.330002,82.330002,82.330002,83.580002,82.589996,83.5,82.660004,80.540001,77.970001,77.610001,79.540001,77.150002,77.599998,78.720001,79.660004,78.160004,74.900002,74.940002,75.730003,76.480003,74.519997,73.459999,73.760002,72.790001,71.5,71.370003,74.779999,76.040001,73.790001,73.790001,72.459999,72.220001,75.120003,76.0,78.129997,77.529999,76.889999,77.099998,77.970001,76.080002,76.580002,78.43,79.480003,79.889999,81.080002,76.57,76.269997,76.610001,78.099998,77.089996,77.989998,77.709999,78.550003,78.120003,79.25,77.290001,77.889999,75.809998,73.019997,74.519997,74.139999,74.470001,73.120003,73.510002,73.809998,73.470001,72.809998,75.110001,72.440002,72.82,74.07,72.949997,73.510002,75.779999,74.860001,74.650002,74.68,74.389999,75.699997,75.07,75.25,74.169998,71.379997,72.160004,71.760002,71.580002,69.129997,69.989998,70.730003,72.849998,71.470001,71.970001,71.699997,72.029999,72.379997,73.169998,74.239998,75.019997,76.529999,77.620003,77.660004,77.529999,77.43,77.910004,78.220001,79.07,79.57,79.559998,79.519997,80.279999,80.239998,76.5,79.800003,81.029999,80.489998,80.25,82.849998,84.239998,85.029999,85.18,82.529999,82.269997,84.150002,83.599998,84.099998,83.769997,84.010002,83.959999,83.440002,84.75,86.309998,85.139999,85.260002,85.860001,85.190002,84.559998,82.959999,84.540001,84.43,84.010002,83.849998,82.800003,82.620003,83.620003,83.349998,84.150002,83.300003,83.5,83.650002,83.260002,83.830002,83.379997,85.800003,85.830002,87.879997,88.949997,89.529999,89.980003,90.519997,91.779999,93.220001,91.739998,91.839996,91.980003,91.43,90.019997,89.970001,91.529999,91.790001,91.790001,92.349998,92.349998,91.480003,93.230003,95.269997,97.790001,97.580002,97.059998,97.400002,97.57,99.459999,97.769997,97.610001,97.739998,99.18,99.239998,99.75,99.669998,98.699997,98.43,99.650002,97.190002,98.160004,97.75,99.339996,99.349998,101.480003,101.459999,101.0,100.959999,99.529999,98.330002,94.639999,95.599998,94.690002,95.769997,94.849998,95.610001,97.339996,98.199997,98.830002,97.760002,98.650002,98.790001,98.93,100.68,100.940002,100.739998,101.339996,99.089996,98.620003,102.68,102.32,103.68,103.199997,104.099998,103.779999,100.019997,100.599998,101.160004,101.440002,101.0,100.639999,101.440002,100.580002,101.019997,103.800003,107.540001,108.919998,108.720001,108.720001,108.400002,99.410004,100.080002,99.57,100.139999,102.5,103.379997,104.040001,102.599998,102.779999,104.459999],\"yaxis\":\"y\",\"type\":\"scatter\",\"opacity\":0.8}],                        {\"template\":{\"data\":{\"histogram2dcontour\":[{\"type\":\"histogram2dcontour\",\"colorbar\":{\"outlinewidth\":0,\"ticks\":\"\"},\"colorscale\":[[0.0,\"#0d0887\"],[0.1111111111111111,\"#46039f\"],[0.2222222222222222,\"#7201a8\"],[0.3333333333333333,\"#9c179e\"],[0.4444444444444444,\"#bd3786\"],[0.5555555555555556,\"#d8576b\"],[0.6666666666666666,\"#ed7953\"],[0.7777777777777778,\"#fb9f3a\"],[0.8888888888888888,\"#fdca26\"],[1.0,\"#f0f921\"]]}],\"choropleth\":[{\"type\":\"choropleth\",\"colorbar\":{\"outlinewidth\":0,\"ticks\":\"\"}}],\"histogram2d\":[{\"type\":\"histogram2d\",\"colorbar\":{\"outlinewidth\":0,\"ticks\":\"\"},\"colorscale\":[[0.0,\"#0d0887\"],[0.1111111111111111,\"#46039f\"],[0.2222222222222222,\"#7201a8\"],[0.3333333333333333,\"#9c179e\"],[0.4444444444444444,\"#bd3786\"],[0.5555555555555556,\"#d8576b\"],[0.6666666666666666,\"#ed7953\"],[0.7777777777777778,\"#fb9f3a\"],[0.8888888888888888,\"#fdca26\"],[1.0,\"#f0f921\"]]}],\"heatmap\":[{\"type\":\"heatmap\",\"colorbar\":{\"outlinewidth\":0,\"ticks\":\"\"},\"colorscale\":[[0.0,\"#0d0887\"],[0.1111111111111111,\"#46039f\"],[0.2222222222222222,\"#7201a8\"],[0.3333333333333333,\"#9c179e\"],[0.4444444444444444,\"#bd3786\"],[0.5555555555555556,\"#d8576b\"],[0.6666666666666666,\"#ed7953\"],[0.7777777777777778,\"#fb9f3a\"],[0.8888888888888888,\"#fdca26\"],[1.0,\"#f0f921\"]]}],\"heatmapgl\":[{\"type\":\"heatmapgl\",\"colorbar\":{\"outlinewidth\":0,\"ticks\":\"\"},\"colorscale\":[[0.0,\"#0d0887\"],[0.1111111111111111,\"#46039f\"],[0.2222222222222222,\"#7201a8\"],[0.3333333333333333,\"#9c179e\"],[0.4444444444444444,\"#bd3786\"],[0.5555555555555556,\"#d8576b\"],[0.6666666666666666,\"#ed7953\"],[0.7777777777777778,\"#fb9f3a\"],[0.8888888888888888,\"#fdca26\"],[1.0,\"#f0f921\"]]}],\"contourcarpet\":[{\"type\":\"contourcarpet\",\"colorbar\":{\"outlinewidth\":0,\"ticks\":\"\"}}],\"contour\":[{\"type\":\"contour\",\"colorbar\":{\"outlinewidth\":0,\"ticks\":\"\"},\"colorscale\":[[0.0,\"#0d0887\"],[0.1111111111111111,\"#46039f\"],[0.2222222222222222,\"#7201a8\"],[0.3333333333333333,\"#9c179e\"],[0.4444444444444444,\"#bd3786\"],[0.5555555555555556,\"#d8576b\"],[0.6666666666666666,\"#ed7953\"],[0.7777777777777778,\"#fb9f3a\"],[0.8888888888888888,\"#fdca26\"],[1.0,\"#f0f921\"]]}],\"surface\":[{\"type\":\"surface\",\"colorbar\":{\"outlinewidth\":0,\"ticks\":\"\"},\"colorscale\":[[0.0,\"#0d0887\"],[0.1111111111111111,\"#46039f\"],[0.2222222222222222,\"#7201a8\"],[0.3333333333333333,\"#9c179e\"],[0.4444444444444444,\"#bd3786\"],[0.5555555555555556,\"#d8576b\"],[0.6666666666666666,\"#ed7953\"],[0.7777777777777778,\"#fb9f3a\"],[0.8888888888888888,\"#fdca26\"],[1.0,\"#f0f921\"]]}],\"mesh3d\":[{\"type\":\"mesh3d\",\"colorbar\":{\"outlinewidth\":0,\"ticks\":\"\"}}],\"scatter\":[{\"fillpattern\":{\"fillmode\":\"overlay\",\"size\":10,\"solidity\":0.2},\"type\":\"scatter\"}],\"parcoords\":[{\"type\":\"parcoords\",\"line\":{\"colorbar\":{\"outlinewidth\":0,\"ticks\":\"\"}}}],\"scatterpolargl\":[{\"type\":\"scatterpolargl\",\"marker\":{\"colorbar\":{\"outlinewidth\":0,\"ticks\":\"\"}}}],\"bar\":[{\"error_x\":{\"color\":\"#2a3f5f\"},\"error_y\":{\"color\":\"#2a3f5f\"},\"marker\":{\"line\":{\"color\":\"#E5ECF6\",\"width\":0.5},\"pattern\":{\"fillmode\":\"overlay\",\"size\":10,\"solidity\":0.2}},\"type\":\"bar\"}],\"scattergeo\":[{\"type\":\"scattergeo\",\"marker\":{\"colorbar\":{\"outlinewidth\":0,\"ticks\":\"\"}}}],\"scatterpolar\":[{\"type\":\"scatterpolar\",\"marker\":{\"colorbar\":{\"outlinewidth\":0,\"ticks\":\"\"}}}],\"histogram\":[{\"marker\":{\"pattern\":{\"fillmode\":\"overlay\",\"size\":10,\"solidity\":0.2}},\"type\":\"histogram\"}],\"scattergl\":[{\"type\":\"scattergl\",\"marker\":{\"colorbar\":{\"outlinewidth\":0,\"ticks\":\"\"}}}],\"scatter3d\":[{\"type\":\"scatter3d\",\"line\":{\"colorbar\":{\"outlinewidth\":0,\"ticks\":\"\"}},\"marker\":{\"colorbar\":{\"outlinewidth\":0,\"ticks\":\"\"}}}],\"scattermapbox\":[{\"type\":\"scattermapbox\",\"marker\":{\"colorbar\":{\"outlinewidth\":0,\"ticks\":\"\"}}}],\"scatterternary\":[{\"type\":\"scatterternary\",\"marker\":{\"colorbar\":{\"outlinewidth\":0,\"ticks\":\"\"}}}],\"scattercarpet\":[{\"type\":\"scattercarpet\",\"marker\":{\"colorbar\":{\"outlinewidth\":0,\"ticks\":\"\"}}}],\"carpet\":[{\"aaxis\":{\"endlinecolor\":\"#2a3f5f\",\"gridcolor\":\"white\",\"linecolor\":\"white\",\"minorgridcolor\":\"white\",\"startlinecolor\":\"#2a3f5f\"},\"baxis\":{\"endlinecolor\":\"#2a3f5f\",\"gridcolor\":\"white\",\"linecolor\":\"white\",\"minorgridcolor\":\"white\",\"startlinecolor\":\"#2a3f5f\"},\"type\":\"carpet\"}],\"table\":[{\"cells\":{\"fill\":{\"color\":\"#EBF0F8\"},\"line\":{\"color\":\"white\"}},\"header\":{\"fill\":{\"color\":\"#C8D4E3\"},\"line\":{\"color\":\"white\"}},\"type\":\"table\"}],\"barpolar\":[{\"marker\":{\"line\":{\"color\":\"#E5ECF6\",\"width\":0.5},\"pattern\":{\"fillmode\":\"overlay\",\"size\":10,\"solidity\":0.2}},\"type\":\"barpolar\"}],\"pie\":[{\"automargin\":true,\"type\":\"pie\"}]},\"layout\":{\"autotypenumbers\":\"strict\",\"colorway\":[\"#636efa\",\"#EF553B\",\"#00cc96\",\"#ab63fa\",\"#FFA15A\",\"#19d3f3\",\"#FF6692\",\"#B6E880\",\"#FF97FF\",\"#FECB52\"],\"font\":{\"color\":\"#2a3f5f\"},\"hovermode\":\"closest\",\"hoverlabel\":{\"align\":\"left\"},\"paper_bgcolor\":\"white\",\"plot_bgcolor\":\"#E5ECF6\",\"polar\":{\"bgcolor\":\"#E5ECF6\",\"angularaxis\":{\"gridcolor\":\"white\",\"linecolor\":\"white\",\"ticks\":\"\"},\"radialaxis\":{\"gridcolor\":\"white\",\"linecolor\":\"white\",\"ticks\":\"\"}},\"ternary\":{\"bgcolor\":\"#E5ECF6\",\"aaxis\":{\"gridcolor\":\"white\",\"linecolor\":\"white\",\"ticks\":\"\"},\"baxis\":{\"gridcolor\":\"white\",\"linecolor\":\"white\",\"ticks\":\"\"},\"caxis\":{\"gridcolor\":\"white\",\"linecolor\":\"white\",\"ticks\":\"\"}},\"coloraxis\":{\"colorbar\":{\"outlinewidth\":0,\"ticks\":\"\"}},\"colorscale\":{\"sequential\":[[0.0,\"#0d0887\"],[0.1111111111111111,\"#46039f\"],[0.2222222222222222,\"#7201a8\"],[0.3333333333333333,\"#9c179e\"],[0.4444444444444444,\"#bd3786\"],[0.5555555555555556,\"#d8576b\"],[0.6666666666666666,\"#ed7953\"],[0.7777777777777778,\"#fb9f3a\"],[0.8888888888888888,\"#fdca26\"],[1.0,\"#f0f921\"]],\"sequentialminus\":[[0.0,\"#0d0887\"],[0.1111111111111111,\"#46039f\"],[0.2222222222222222,\"#7201a8\"],[0.3333333333333333,\"#9c179e\"],[0.4444444444444444,\"#bd3786\"],[0.5555555555555556,\"#d8576b\"],[0.6666666666666666,\"#ed7953\"],[0.7777777777777778,\"#fb9f3a\"],[0.8888888888888888,\"#fdca26\"],[1.0,\"#f0f921\"]],\"diverging\":[[0,\"#8e0152\"],[0.1,\"#c51b7d\"],[0.2,\"#de77ae\"],[0.3,\"#f1b6da\"],[0.4,\"#fde0ef\"],[0.5,\"#f7f7f7\"],[0.6,\"#e6f5d0\"],[0.7,\"#b8e186\"],[0.8,\"#7fbc41\"],[0.9,\"#4d9221\"],[1,\"#276419\"]]},\"xaxis\":{\"gridcolor\":\"white\",\"linecolor\":\"white\",\"ticks\":\"\",\"title\":{\"standoff\":15},\"zerolinecolor\":\"white\",\"automargin\":true,\"zerolinewidth\":2},\"yaxis\":{\"gridcolor\":\"white\",\"linecolor\":\"white\",\"ticks\":\"\",\"title\":{\"standoff\":15},\"zerolinecolor\":\"white\",\"automargin\":true,\"zerolinewidth\":2},\"scene\":{\"xaxis\":{\"backgroundcolor\":\"#E5ECF6\",\"gridcolor\":\"white\",\"linecolor\":\"white\",\"showbackground\":true,\"ticks\":\"\",\"zerolinecolor\":\"white\",\"gridwidth\":2},\"yaxis\":{\"backgroundcolor\":\"#E5ECF6\",\"gridcolor\":\"white\",\"linecolor\":\"white\",\"showbackground\":true,\"ticks\":\"\",\"zerolinecolor\":\"white\",\"gridwidth\":2},\"zaxis\":{\"backgroundcolor\":\"#E5ECF6\",\"gridcolor\":\"white\",\"linecolor\":\"white\",\"showbackground\":true,\"ticks\":\"\",\"zerolinecolor\":\"white\",\"gridwidth\":2}},\"shapedefaults\":{\"line\":{\"color\":\"#2a3f5f\"}},\"annotationdefaults\":{\"arrowcolor\":\"#2a3f5f\",\"arrowhead\":0,\"arrowwidth\":1},\"geo\":{\"bgcolor\":\"white\",\"landcolor\":\"#E5ECF6\",\"subunitcolor\":\"white\",\"showland\":true,\"showlakes\":true,\"lakecolor\":\"white\"},\"title\":{\"x\":0.05},\"mapbox\":{\"style\":\"light\"}}},\"xaxis\":{\"anchor\":\"y\",\"domain\":[0.0,1.0],\"title\":{\"text\":\"Date\"},\"showgrid\":false},\"yaxis\":{\"anchor\":\"x\",\"domain\":[0.0,1.0],\"title\":{\"text\":\"Close Stock\"},\"showgrid\":false},\"legend\":{\"tracegroupgap\":0},\"margin\":{\"t\":60},\"title\":{\"text\":\"Considered period to predict Stock close price\"},\"font\":{\"size\":15,\"color\":\"black\"},\"plot_bgcolor\":\"white\"},                        {\"responsive\": true}                    ).then(function(){\n",
              "                            \n",
              "var gd = document.getElementById('ff446203-402f-4c93-8f53-26180b04f8a1');\n",
              "var x = new MutationObserver(function (mutations, observer) {{\n",
              "        var display = window.getComputedStyle(gd).display;\n",
              "        if (!display || display === 'none') {{\n",
              "            console.log([gd, 'removed!']);\n",
              "            Plotly.purge(gd);\n",
              "            observer.disconnect();\n",
              "        }}\n",
              "}});\n",
              "\n",
              "// Listen for the removal of the full notebook cells\n",
              "var notebookContainer = gd.closest('#notebook-container');\n",
              "if (notebookContainer) {{\n",
              "    x.observe(notebookContainer, {childList: true});\n",
              "}}\n",
              "\n",
              "// Listen for the clearing of the current output cell\n",
              "var outputEl = gd.closest('.output');\n",
              "if (outputEl) {{\n",
              "    x.observe(outputEl, {childList: true});\n",
              "}}\n",
              "\n",
              "                        })                };                            </script>        </div>\n",
              "</body>\n",
              "</html>"
            ]
          },
          "metadata": {}
        }
      ]
    },
    {
      "cell_type": "markdown",
      "source": [
        "<a name=\"norm\"></a>\n",
        "\n",
        "### Normalizing close price"
      ],
      "metadata": {
        "id": "dT7WQte8gz4x"
      }
    },
    {
      "cell_type": "code",
      "source": [
        "del closedf['date']\n",
        "scaler = MinMaxScaler(feature_range = (0,1))\n",
        "closedf = scaler.fit_transform(np.array(closedf).reshape(-1,1))\n",
        "closedf.shape"
      ],
      "metadata": {
        "execution": {
          "iopub.status.busy": "2021-08-16T08:12:26.389854Z",
          "iopub.execute_input": "2021-08-16T08:12:26.390286Z",
          "iopub.status.idle": "2021-08-16T08:12:26.398470Z",
          "shell.execute_reply.started": "2021-08-16T08:12:26.390246Z",
          "shell.execute_reply": "2021-08-16T08:12:26.397358Z"
        },
        "trusted": true,
        "colab": {
          "base_uri": "https://localhost:8080/"
        },
        "id": "YEEW1anbgz4x",
        "outputId": "c6e11fae-4c76-4622-d2d5-e11a187528ab"
      },
      "execution_count": null,
      "outputs": [
        {
          "output_type": "execute_result",
          "data": {
            "text/plain": [
              "(253, 1)"
            ]
          },
          "metadata": {},
          "execution_count": 40
        }
      ]
    },
    {
      "cell_type": "markdown",
      "source": [
        "<a name=\"split\"></a>\n",
        "\n",
        "### Train & Test split"
      ],
      "metadata": {
        "id": "trkSUrS9gz4y"
      }
    },
    {
      "cell_type": "code",
      "source": [
        "training_size=int(len(closedf)*0.60)\n",
        "test_size=len(closedf)-training_size\n",
        "train_data,test_data=closedf[0:training_size,:],closedf[training_size:len(closedf),:1]\n",
        "print(\"train_data : \", train_data.shape)\n",
        "print(\"test_data : \", test_data.shape)"
      ],
      "metadata": {
        "execution": {
          "iopub.status.busy": "2021-08-16T08:12:26.400197Z",
          "iopub.execute_input": "2021-08-16T08:12:26.400625Z",
          "iopub.status.idle": "2021-08-16T08:12:26.410852Z",
          "shell.execute_reply.started": "2021-08-16T08:12:26.400584Z",
          "shell.execute_reply": "2021-08-16T08:12:26.409813Z"
        },
        "trusted": true,
        "colab": {
          "base_uri": "https://localhost:8080/"
        },
        "id": "CfeDf1JMgz4y",
        "outputId": "73c19e78-4d95-4650-bddf-03c4fe38ccb1"
      },
      "execution_count": null,
      "outputs": [
        {
          "output_type": "stream",
          "name": "stdout",
          "text": [
            "train_data :  (151, 1)\n",
            "test_data :  (102, 1)\n"
          ]
        }
      ]
    },
    {
      "cell_type": "markdown",
      "source": [
        "<a name=\"trans\"></a>\n",
        "\n",
        "### Transform Close price base on Time-series-analysis forecasting requirement"
      ],
      "metadata": {
        "id": "-1QrYtWcgz4y"
      }
    },
    {
      "cell_type": "code",
      "source": [
        "#convert an array of values into a dataset matrix\n",
        "def create_dataset(dataset, time_step=1):\n",
        "    dataX, dataY = [], []\n",
        "    for i in range(len(dataset)-time_step-1):\n",
        "        a = dataset[i:(i+time_step), 0]   ###i=0, 0,1,2,3-----99   100\n",
        "        dataX.append(a)\n",
        "        dataY.append(dataset[i + time_step, 0])\n",
        "    return np.array(dataX), np.array(dataY)"
      ],
      "metadata": {
        "execution": {
          "iopub.status.busy": "2021-08-16T08:12:26.412710Z",
          "iopub.execute_input": "2021-08-16T08:12:26.413162Z",
          "iopub.status.idle": "2021-08-16T08:12:26.420228Z",
          "shell.execute_reply.started": "2021-08-16T08:12:26.413119Z",
          "shell.execute_reply": "2021-08-16T08:12:26.419122Z"
        },
        "trusted": true,
        "id": "9vGmZ4D9gz4z"
      },
      "execution_count": null,
      "outputs": []
    },
    {
      "cell_type": "code",
      "source": [
        "time_step = 15\n",
        "X_train, y_train = create_dataset(train_data, time_step)\n",
        "X_test, y_test = create_dataset(test_data, time_step)\n",
        "\n",
        "print(\"X_train :\", X_train.shape)\n",
        "print(\"y_train :\", y_train.shape)\n",
        "print(\"X_test :\", X_test.shape)\n",
        "print(\"y_test :\", y_test.shape)"
      ],
      "metadata": {
        "execution": {
          "iopub.status.busy": "2021-08-16T08:12:26.421568Z",
          "iopub.execute_input": "2021-08-16T08:12:26.421993Z",
          "iopub.status.idle": "2021-08-16T08:12:26.434525Z",
          "shell.execute_reply.started": "2021-08-16T08:12:26.421935Z",
          "shell.execute_reply": "2021-08-16T08:12:26.433557Z"
        },
        "trusted": true,
        "colab": {
          "base_uri": "https://localhost:8080/"
        },
        "id": "DHEGF1vrgz4z",
        "outputId": "6d34070e-d107-43e5-d51e-12b746c9442d"
      },
      "execution_count": null,
      "outputs": [
        {
          "output_type": "stream",
          "name": "stdout",
          "text": [
            "X_train : (135, 15)\n",
            "y_train : (135,)\n",
            "X_test : (86, 15)\n",
            "y_test : (86,)\n"
          ]
        }
      ]
    },
    {
      "cell_type": "code",
      "source": [
        "#reshape input to be [samples, time steps, features]\n",
        "X_train =X_train.reshape(X_train.shape[0],X_train.shape[1] , 1)\n",
        "X_test = X_test.reshape(X_test.shape[0],X_test.shape[1] , 1)\n",
        "\n",
        "print(\"X_train :\", X_train.shape)\n",
        "print(\"X_test :\", X_test.shape)"
      ],
      "metadata": {
        "execution": {
          "iopub.status.busy": "2021-08-16T08:12:26.435723Z",
          "iopub.execute_input": "2021-08-16T08:12:26.436049Z",
          "iopub.status.idle": "2021-08-16T08:12:26.444395Z",
          "shell.execute_reply.started": "2021-08-16T08:12:26.436015Z",
          "shell.execute_reply": "2021-08-16T08:12:26.443123Z"
        },
        "trusted": true,
        "colab": {
          "base_uri": "https://localhost:8080/"
        },
        "id": "lXUF9f6Xgz4z",
        "outputId": "ae6bbdfd-8c9e-4e38-9d87-f7c22ce8ae1f"
      },
      "execution_count": null,
      "outputs": [
        {
          "output_type": "stream",
          "name": "stdout",
          "text": [
            "X_train : (135, 15, 1)\n",
            "X_test : (86, 15, 1)\n"
          ]
        }
      ]
    },
    {
      "cell_type": "markdown",
      "source": [
        "<a name=\"gru\"></a>\n",
        "\n",
        "# Model building"
      ],
      "metadata": {
        "id": "_1vIVc5Tgz40"
      }
    },
    {
      "cell_type": "code",
      "source": [
        "tf.keras.backend.clear_session()\n",
        "model=Sequential()\n",
        "model.add(GRU(32,return_sequences=True,input_shape=(time_step,1)))\n",
        "model.add(GRU(32,return_sequences=True))\n",
        "model.add(GRU(32))\n",
        "model.add(Dense(1))\n",
        "model.compile(loss='mean_squared_error',optimizer='adam')"
      ],
      "metadata": {
        "execution": {
          "iopub.status.busy": "2021-08-16T08:12:26.447485Z",
          "iopub.execute_input": "2021-08-16T08:12:26.447768Z",
          "iopub.status.idle": "2021-08-16T08:12:27.125796Z",
          "shell.execute_reply.started": "2021-08-16T08:12:26.447742Z",
          "shell.execute_reply": "2021-08-16T08:12:27.124888Z"
        },
        "trusted": true,
        "id": "s9t9cq-ggz5C"
      },
      "execution_count": null,
      "outputs": []
    },
    {
      "cell_type": "code",
      "source": [
        "model.summary()"
      ],
      "metadata": {
        "execution": {
          "iopub.status.busy": "2021-08-16T08:12:27.126909Z",
          "iopub.execute_input": "2021-08-16T08:12:27.127217Z",
          "iopub.status.idle": "2021-08-16T08:12:27.135772Z",
          "shell.execute_reply.started": "2021-08-16T08:12:27.127189Z",
          "shell.execute_reply": "2021-08-16T08:12:27.134801Z"
        },
        "trusted": true,
        "colab": {
          "base_uri": "https://localhost:8080/"
        },
        "id": "cVYc_Iuwgz5D",
        "outputId": "d1b176bc-aca3-4727-e550-cf6c7a263425"
      },
      "execution_count": null,
      "outputs": [
        {
          "output_type": "stream",
          "name": "stdout",
          "text": [
            "Model: \"sequential\"\n",
            "_________________________________________________________________\n",
            " Layer (type)                Output Shape              Param #   \n",
            "=================================================================\n",
            " gru (GRU)                   (None, 15, 32)            3360      \n",
            "                                                                 \n",
            " gru_1 (GRU)                 (None, 15, 32)            6336      \n",
            "                                                                 \n",
            " gru_2 (GRU)                 (None, 32)                6336      \n",
            "                                                                 \n",
            " dense (Dense)               (None, 1)                 33        \n",
            "                                                                 \n",
            "=================================================================\n",
            "Total params: 16,065\n",
            "Trainable params: 16,065\n",
            "Non-trainable params: 0\n",
            "_________________________________________________________________\n"
          ]
        }
      ]
    },
    {
      "cell_type": "code",
      "source": [
        "history = model.fit(X_train,y_train,validation_data=(X_test,y_test),epochs=100,batch_size=32,verbose=1)"
      ],
      "metadata": {
        "execution": {
          "iopub.status.busy": "2021-08-16T08:12:27.137072Z",
          "iopub.execute_input": "2021-08-16T08:12:27.137354Z",
          "iopub.status.idle": "2021-08-16T08:13:10.724456Z",
          "shell.execute_reply.started": "2021-08-16T08:12:27.137327Z",
          "shell.execute_reply": "2021-08-16T08:13:10.723655Z"
        },
        "trusted": true,
        "colab": {
          "base_uri": "https://localhost:8080/"
        },
        "id": "kRSb9GnHgz5D",
        "outputId": "bba331b8-a6bd-4ba9-96ec-bb26d775f377"
      },
      "execution_count": null,
      "outputs": [
        {
          "output_type": "stream",
          "name": "stdout",
          "text": [
            "Epoch 1/100\n",
            "5/5 [==============================] - 8s 416ms/step - loss: 0.0348 - val_loss: 0.1530\n",
            "Epoch 2/100\n",
            "5/5 [==============================] - 0s 57ms/step - loss: 0.0076 - val_loss: 0.0310\n",
            "Epoch 3/100\n",
            "5/5 [==============================] - 0s 49ms/step - loss: 0.0091 - val_loss: 0.0713\n",
            "Epoch 4/100\n",
            "5/5 [==============================] - 0s 49ms/step - loss: 0.0049 - val_loss: 0.1128\n",
            "Epoch 5/100\n",
            "5/5 [==============================] - 0s 53ms/step - loss: 0.0059 - val_loss: 0.0836\n",
            "Epoch 6/100\n",
            "5/5 [==============================] - 0s 61ms/step - loss: 0.0040 - val_loss: 0.0345\n",
            "Epoch 7/100\n",
            "5/5 [==============================] - 0s 40ms/step - loss: 0.0037 - val_loss: 0.0214\n",
            "Epoch 8/100\n",
            "5/5 [==============================] - 0s 32ms/step - loss: 0.0031 - val_loss: 0.0268\n",
            "Epoch 9/100\n",
            "5/5 [==============================] - 0s 34ms/step - loss: 0.0027 - val_loss: 0.0149\n",
            "Epoch 10/100\n",
            "5/5 [==============================] - 0s 33ms/step - loss: 0.0023 - val_loss: 0.0048\n",
            "Epoch 11/100\n",
            "5/5 [==============================] - 0s 33ms/step - loss: 0.0023 - val_loss: 0.0047\n",
            "Epoch 12/100\n",
            "5/5 [==============================] - 0s 40ms/step - loss: 0.0022 - val_loss: 0.0045\n",
            "Epoch 13/100\n",
            "5/5 [==============================] - 0s 35ms/step - loss: 0.0021 - val_loss: 0.0039\n",
            "Epoch 14/100\n",
            "5/5 [==============================] - 0s 33ms/step - loss: 0.0022 - val_loss: 0.0039\n",
            "Epoch 15/100\n",
            "5/5 [==============================] - 0s 34ms/step - loss: 0.0020 - val_loss: 0.0062\n",
            "Epoch 16/100\n",
            "5/5 [==============================] - 0s 33ms/step - loss: 0.0021 - val_loss: 0.0048\n",
            "Epoch 17/100\n",
            "5/5 [==============================] - 0s 34ms/step - loss: 0.0021 - val_loss: 0.0044\n",
            "Epoch 18/100\n",
            "5/5 [==============================] - 0s 38ms/step - loss: 0.0019 - val_loss: 0.0082\n",
            "Epoch 19/100\n",
            "5/5 [==============================] - 0s 32ms/step - loss: 0.0021 - val_loss: 0.0085\n",
            "Epoch 20/100\n",
            "5/5 [==============================] - 0s 32ms/step - loss: 0.0019 - val_loss: 0.0042\n",
            "Epoch 21/100\n",
            "5/5 [==============================] - 0s 33ms/step - loss: 0.0019 - val_loss: 0.0038\n",
            "Epoch 22/100\n",
            "5/5 [==============================] - 0s 34ms/step - loss: 0.0019 - val_loss: 0.0045\n",
            "Epoch 23/100\n",
            "5/5 [==============================] - 0s 34ms/step - loss: 0.0018 - val_loss: 0.0041\n",
            "Epoch 24/100\n",
            "5/5 [==============================] - 0s 35ms/step - loss: 0.0018 - val_loss: 0.0061\n",
            "Epoch 25/100\n",
            "5/5 [==============================] - 0s 32ms/step - loss: 0.0018 - val_loss: 0.0072\n",
            "Epoch 26/100\n",
            "5/5 [==============================] - 0s 32ms/step - loss: 0.0017 - val_loss: 0.0038\n",
            "Epoch 27/100\n",
            "5/5 [==============================] - 0s 32ms/step - loss: 0.0017 - val_loss: 0.0052\n",
            "Epoch 28/100\n",
            "5/5 [==============================] - 0s 35ms/step - loss: 0.0017 - val_loss: 0.0038\n",
            "Epoch 29/100\n",
            "5/5 [==============================] - 0s 34ms/step - loss: 0.0017 - val_loss: 0.0052\n",
            "Epoch 30/100\n",
            "5/5 [==============================] - 0s 34ms/step - loss: 0.0017 - val_loss: 0.0041\n",
            "Epoch 31/100\n",
            "5/5 [==============================] - 0s 32ms/step - loss: 0.0017 - val_loss: 0.0043\n",
            "Epoch 32/100\n",
            "5/5 [==============================] - 0s 35ms/step - loss: 0.0017 - val_loss: 0.0087\n",
            "Epoch 33/100\n",
            "5/5 [==============================] - 0s 35ms/step - loss: 0.0018 - val_loss: 0.0038\n",
            "Epoch 34/100\n",
            "5/5 [==============================] - 0s 34ms/step - loss: 0.0016 - val_loss: 0.0044\n",
            "Epoch 35/100\n",
            "5/5 [==============================] - 0s 31ms/step - loss: 0.0016 - val_loss: 0.0064\n",
            "Epoch 36/100\n",
            "5/5 [==============================] - 0s 33ms/step - loss: 0.0017 - val_loss: 0.0040\n",
            "Epoch 37/100\n",
            "5/5 [==============================] - 0s 36ms/step - loss: 0.0016 - val_loss: 0.0034\n",
            "Epoch 38/100\n",
            "5/5 [==============================] - 0s 32ms/step - loss: 0.0016 - val_loss: 0.0038\n",
            "Epoch 39/100\n",
            "5/5 [==============================] - 0s 33ms/step - loss: 0.0015 - val_loss: 0.0036\n",
            "Epoch 40/100\n",
            "5/5 [==============================] - 0s 35ms/step - loss: 0.0015 - val_loss: 0.0032\n",
            "Epoch 41/100\n",
            "5/5 [==============================] - 0s 32ms/step - loss: 0.0015 - val_loss: 0.0036\n",
            "Epoch 42/100\n",
            "5/5 [==============================] - 0s 34ms/step - loss: 0.0015 - val_loss: 0.0033\n",
            "Epoch 43/100\n",
            "5/5 [==============================] - 0s 33ms/step - loss: 0.0015 - val_loss: 0.0041\n",
            "Epoch 44/100\n",
            "5/5 [==============================] - 0s 33ms/step - loss: 0.0015 - val_loss: 0.0036\n",
            "Epoch 45/100\n",
            "5/5 [==============================] - 0s 36ms/step - loss: 0.0015 - val_loss: 0.0031\n",
            "Epoch 46/100\n",
            "5/5 [==============================] - 0s 33ms/step - loss: 0.0015 - val_loss: 0.0039\n",
            "Epoch 47/100\n",
            "5/5 [==============================] - 0s 32ms/step - loss: 0.0015 - val_loss: 0.0029\n",
            "Epoch 48/100\n",
            "5/5 [==============================] - 0s 33ms/step - loss: 0.0016 - val_loss: 0.0030\n",
            "Epoch 49/100\n",
            "5/5 [==============================] - 0s 34ms/step - loss: 0.0015 - val_loss: 0.0038\n",
            "Epoch 50/100\n",
            "5/5 [==============================] - 0s 34ms/step - loss: 0.0014 - val_loss: 0.0028\n",
            "Epoch 51/100\n",
            "5/5 [==============================] - 0s 42ms/step - loss: 0.0014 - val_loss: 0.0034\n",
            "Epoch 52/100\n",
            "5/5 [==============================] - 0s 39ms/step - loss: 0.0014 - val_loss: 0.0028\n",
            "Epoch 53/100\n",
            "5/5 [==============================] - 0s 36ms/step - loss: 0.0014 - val_loss: 0.0032\n",
            "Epoch 54/100\n",
            "5/5 [==============================] - 0s 35ms/step - loss: 0.0014 - val_loss: 0.0031\n",
            "Epoch 55/100\n",
            "5/5 [==============================] - 0s 43ms/step - loss: 0.0014 - val_loss: 0.0028\n",
            "Epoch 56/100\n",
            "5/5 [==============================] - 0s 38ms/step - loss: 0.0014 - val_loss: 0.0028\n",
            "Epoch 57/100\n",
            "5/5 [==============================] - 0s 32ms/step - loss: 0.0014 - val_loss: 0.0027\n",
            "Epoch 58/100\n",
            "5/5 [==============================] - 0s 33ms/step - loss: 0.0014 - val_loss: 0.0028\n",
            "Epoch 59/100\n",
            "5/5 [==============================] - 0s 33ms/step - loss: 0.0014 - val_loss: 0.0029\n",
            "Epoch 60/100\n",
            "5/5 [==============================] - 0s 33ms/step - loss: 0.0014 - val_loss: 0.0028\n",
            "Epoch 61/100\n",
            "5/5 [==============================] - 0s 33ms/step - loss: 0.0014 - val_loss: 0.0028\n",
            "Epoch 62/100\n",
            "5/5 [==============================] - 0s 36ms/step - loss: 0.0014 - val_loss: 0.0026\n",
            "Epoch 63/100\n",
            "5/5 [==============================] - 0s 34ms/step - loss: 0.0014 - val_loss: 0.0026\n",
            "Epoch 64/100\n",
            "5/5 [==============================] - 0s 33ms/step - loss: 0.0014 - val_loss: 0.0027\n",
            "Epoch 65/100\n",
            "5/5 [==============================] - 0s 35ms/step - loss: 0.0013 - val_loss: 0.0027\n",
            "Epoch 66/100\n",
            "5/5 [==============================] - 0s 35ms/step - loss: 0.0014 - val_loss: 0.0026\n",
            "Epoch 67/100\n",
            "5/5 [==============================] - 0s 63ms/step - loss: 0.0015 - val_loss: 0.0025\n",
            "Epoch 68/100\n",
            "5/5 [==============================] - 0s 62ms/step - loss: 0.0013 - val_loss: 0.0026\n",
            "Epoch 69/100\n",
            "5/5 [==============================] - 0s 50ms/step - loss: 0.0014 - val_loss: 0.0025\n",
            "Epoch 70/100\n",
            "5/5 [==============================] - 0s 50ms/step - loss: 0.0015 - val_loss: 0.0024\n",
            "Epoch 71/100\n",
            "5/5 [==============================] - 0s 52ms/step - loss: 0.0014 - val_loss: 0.0024\n",
            "Epoch 72/100\n",
            "5/5 [==============================] - 0s 62ms/step - loss: 0.0014 - val_loss: 0.0033\n",
            "Epoch 73/100\n",
            "5/5 [==============================] - 0s 62ms/step - loss: 0.0013 - val_loss: 0.0025\n",
            "Epoch 74/100\n",
            "5/5 [==============================] - 0s 63ms/step - loss: 0.0013 - val_loss: 0.0030\n",
            "Epoch 75/100\n",
            "5/5 [==============================] - 0s 55ms/step - loss: 0.0013 - val_loss: 0.0025\n",
            "Epoch 76/100\n",
            "5/5 [==============================] - 0s 64ms/step - loss: 0.0017 - val_loss: 0.0031\n",
            "Epoch 77/100\n",
            "5/5 [==============================] - 0s 34ms/step - loss: 0.0020 - val_loss: 0.0024\n",
            "Epoch 78/100\n",
            "5/5 [==============================] - 0s 34ms/step - loss: 0.0019 - val_loss: 0.0023\n",
            "Epoch 79/100\n",
            "5/5 [==============================] - 0s 36ms/step - loss: 0.0014 - val_loss: 0.0037\n",
            "Epoch 80/100\n",
            "5/5 [==============================] - 0s 32ms/step - loss: 0.0014 - val_loss: 0.0035\n",
            "Epoch 81/100\n",
            "5/5 [==============================] - 0s 41ms/step - loss: 0.0014 - val_loss: 0.0025\n",
            "Epoch 82/100\n",
            "5/5 [==============================] - 0s 36ms/step - loss: 0.0013 - val_loss: 0.0022\n",
            "Epoch 83/100\n",
            "5/5 [==============================] - 0s 34ms/step - loss: 0.0013 - val_loss: 0.0022\n",
            "Epoch 84/100\n",
            "5/5 [==============================] - 0s 34ms/step - loss: 0.0013 - val_loss: 0.0021\n",
            "Epoch 85/100\n",
            "5/5 [==============================] - 0s 36ms/step - loss: 0.0013 - val_loss: 0.0021\n",
            "Epoch 86/100\n",
            "5/5 [==============================] - 0s 33ms/step - loss: 0.0013 - val_loss: 0.0021\n",
            "Epoch 87/100\n",
            "5/5 [==============================] - 0s 32ms/step - loss: 0.0012 - val_loss: 0.0022\n",
            "Epoch 88/100\n",
            "5/5 [==============================] - 0s 35ms/step - loss: 0.0012 - val_loss: 0.0030\n",
            "Epoch 89/100\n",
            "5/5 [==============================] - 0s 35ms/step - loss: 0.0014 - val_loss: 0.0021\n",
            "Epoch 90/100\n",
            "5/5 [==============================] - 0s 40ms/step - loss: 0.0016 - val_loss: 0.0020\n",
            "Epoch 91/100\n",
            "5/5 [==============================] - 0s 36ms/step - loss: 0.0013 - val_loss: 0.0026\n",
            "Epoch 92/100\n",
            "5/5 [==============================] - 0s 35ms/step - loss: 0.0012 - val_loss: 0.0023\n",
            "Epoch 93/100\n",
            "5/5 [==============================] - 0s 34ms/step - loss: 0.0013 - val_loss: 0.0030\n",
            "Epoch 94/100\n",
            "5/5 [==============================] - 0s 33ms/step - loss: 0.0012 - val_loss: 0.0026\n",
            "Epoch 95/100\n",
            "5/5 [==============================] - 0s 33ms/step - loss: 0.0012 - val_loss: 0.0033\n",
            "Epoch 96/100\n",
            "5/5 [==============================] - 0s 32ms/step - loss: 0.0012 - val_loss: 0.0024\n",
            "Epoch 97/100\n",
            "5/5 [==============================] - 0s 37ms/step - loss: 0.0011 - val_loss: 0.0020\n",
            "Epoch 98/100\n",
            "5/5 [==============================] - 0s 34ms/step - loss: 0.0012 - val_loss: 0.0025\n",
            "Epoch 99/100\n",
            "5/5 [==============================] - 0s 39ms/step - loss: 0.0013 - val_loss: 0.0020\n",
            "Epoch 100/100\n",
            "5/5 [==============================] - 0s 37ms/step - loss: 0.0013 - val_loss: 0.0022\n"
          ]
        }
      ]
    },
    {
      "cell_type": "markdown",
      "source": [
        "<a name=\"loss\"></a>\n",
        "\n",
        "### Loss chart"
      ],
      "metadata": {
        "id": "fVqXfCJMgz5E"
      }
    },
    {
      "cell_type": "code",
      "source": [
        "import matplotlib.pyplot as plt\n",
        "\n",
        "loss = history.history['loss']\n",
        "val_loss = history.history['val_loss']\n",
        "\n",
        "epochs = range(len(loss))\n",
        "\n",
        "plt.plot(epochs, loss, 'r', label='Training loss')\n",
        "plt.plot(epochs, val_loss, 'b', label='Validation loss')\n",
        "plt.title('Training and validation loss')\n",
        "plt.legend(loc=0)\n",
        "plt.figure()\n",
        "\n",
        "\n",
        "plt.show()"
      ],
      "metadata": {
        "execution": {
          "iopub.status.busy": "2021-08-16T08:13:10.727675Z",
          "iopub.execute_input": "2021-08-16T08:13:10.728133Z",
          "iopub.status.idle": "2021-08-16T08:13:10.927178Z",
          "shell.execute_reply.started": "2021-08-16T08:13:10.728102Z",
          "shell.execute_reply": "2021-08-16T08:13:10.926165Z"
        },
        "trusted": true,
        "id": "2qL6jnzvgz5E",
        "colab": {
          "base_uri": "https://localhost:8080/",
          "height": 469
        },
        "outputId": "35a3ef18-6bae-480a-9e3a-53b75efd3103"
      },
      "execution_count": null,
      "outputs": [
        {
          "output_type": "display_data",
          "data": {
            "text/plain": [
              "<Figure size 640x480 with 1 Axes>"
            ],
            "image/png": "[encoded data removed]"
          },
          "metadata": {}
        },
        {
          "output_type": "display_data",
          "data": {
            "text/plain": [
              "<Figure size 640x480 with 0 Axes>"
            ]
          },
          "metadata": {}
        }
      ]
    },
    {
      "cell_type": "code",
      "source": [
        "#prediction\n",
        "train_predict=model.predict(X_train)\n",
        "test_predict=model.predict(X_test)\n",
        "train_predict.shape, test_predict.shape"
      ],
      "metadata": {
        "execution": {
          "iopub.status.busy": "2021-08-16T08:13:10.928686Z",
          "iopub.execute_input": "2021-08-16T08:13:10.928975Z",
          "iopub.status.idle": "2021-08-16T08:13:11.994650Z",
          "shell.execute_reply.started": "2021-08-16T08:13:10.928946Z",
          "shell.execute_reply": "2021-08-16T08:13:11.993383Z"
        },
        "trusted": true,
        "id": "Akanm0Ppgz5E",
        "colab": {
          "base_uri": "https://localhost:8080/"
        },
        "outputId": "9b74b914-9620-4ec2-a18c-91eee74133c8"
      },
      "execution_count": null,
      "outputs": [
        {
          "output_type": "stream",
          "name": "stdout",
          "text": [
            "5/5 [==============================] - 1s 6ms/step\n",
            "3/3 [==============================] - 0s 9ms/step\n"
          ]
        },
        {
          "output_type": "execute_result",
          "data": {
            "text/plain": [
              "((135, 1), (86, 1))"
            ]
          },
          "metadata": {},
          "execution_count": 49
        }
      ]
    },
    {
      "cell_type": "markdown",
      "source": [
        "<a name=\"eval\"></a>\n",
        "\n",
        "# Model evaluation"
      ],
      "metadata": {
        "id": "uHs3xCdigz5F"
      }
    },
    {
      "cell_type": "code",
      "source": [
        "#transform back to original form\n",
        "\n",
        "train_predict = scaler.inverse_transform(train_predict)\n",
        "test_predict = scaler.inverse_transform(test_predict)\n",
        "original_ytrain = scaler.inverse_transform(y_train.reshape(-1,1))\n",
        "original_ytest = scaler.inverse_transform(y_test.reshape(-1,1))"
      ],
      "metadata": {
        "execution": {
          "iopub.status.busy": "2021-08-16T08:13:11.996501Z",
          "iopub.execute_input": "2021-08-16T08:13:11.996976Z",
          "iopub.status.idle": "2021-08-16T08:13:12.007044Z",
          "shell.execute_reply.started": "2021-08-16T08:13:11.996944Z",
          "shell.execute_reply": "2021-08-16T08:13:12.005061Z"
        },
        "trusted": true,
        "id": "MLhOWDYTgz5F"
      },
      "execution_count": null,
      "outputs": []
    },
    {
      "cell_type": "markdown",
      "source": [
        "<a name=\"mse\"></a>\n",
        "\n",
        "### Evaluation metrices - RMSE, MSE and MAE"
      ],
      "metadata": {
        "execution": {
          "iopub.status.busy": "2021-08-13T14:37:27.193015Z",
          "iopub.execute_input": "2021-08-13T14:37:27.193402Z",
          "iopub.status.idle": "2021-08-13T14:37:27.20143Z",
          "shell.execute_reply.started": "2021-08-13T14:37:27.193367Z",
          "shell.execute_reply": "2021-08-13T14:37:27.199897Z"
        },
        "id": "TW5z6h-Xgz5F"
      }
    },
    {
      "cell_type": "code",
      "source": [
        "print(\"Train data RMSE :\", '{:.4f}'.format(math.sqrt(mean_squared_error(original_ytrain, train_predict))))\n",
        "print(\"Train data MSE :\", '{:.4f}'.format(mean_squared_error(original_ytrain, train_predict)))\n",
        "print(\"Train data MAE :\", '{:.4f}'.format(mean_absolute_error(original_ytrain, train_predict)))\n",
        "print(\"------------------------------------\")\n",
        "print(\"Test data RMSE :\", '{:.4f}'.format(math.sqrt(mean_squared_error(original_ytest, test_predict))))\n",
        "print(\"Test data MSE :\", '{:.4f}'.format(mean_squared_error(original_ytest, test_predict)))\n",
        "print(\"Test data MAE :\", '{:.4f}'.format(mean_absolute_error(original_ytest, test_predict)))"
      ],
      "metadata": {
        "execution": {
          "iopub.status.busy": "2021-08-16T08:13:12.008754Z",
          "iopub.execute_input": "2021-08-16T08:13:12.009168Z",
          "iopub.status.idle": "2021-08-16T08:13:12.022913Z",
          "shell.execute_reply.started": "2021-08-16T08:13:12.009082Z",
          "shell.execute_reply": "2021-08-16T08:13:12.021896Z"
        },
        "trusted": true,
        "id": "zQhs5Th6gz5G",
        "colab": {
          "base_uri": "https://localhost:8080/"
        },
        "outputId": "a162b9b3-2f24-4977-d667-0f951b8c8604"
      },
      "execution_count": null,
      "outputs": [
        {
          "output_type": "stream",
          "name": "stdout",
          "text": [
            "Train data RMSE : 1.4111\n",
            "Train data MSE : 1.9911\n",
            "Train data MAE : 1.1013\n",
            "------------------------------------\n",
            "Test data RMSE : 1.8777\n",
            "Test data MSE : 3.5259\n",
            "Test data MAE : 1.3336\n"
          ]
        }
      ]
    },
    {
      "cell_type": "markdown",
      "source": [
        "<a name=\"r2\"></a>\n",
        "\n",
        "### R<sup>2</sup> score"
      ],
      "metadata": {
        "id": "7j5TxPTOgz5H"
      }
    },
    {
      "cell_type": "code",
      "source": [
        "print(\"Train data R2 score :\", '{:.4f}'.format(r2_score(original_ytrain, train_predict)))\n",
        "print(\"Test data R2 score :\", '{:.4f}'.format(r2_score(original_ytest, test_predict)))"
      ],
      "metadata": {
        "execution": {
          "iopub.status.busy": "2021-08-16T08:13:12.036237Z",
          "iopub.execute_input": "2021-08-16T08:13:12.036663Z",
          "iopub.status.idle": "2021-08-16T08:13:12.047016Z",
          "shell.execute_reply.started": "2021-08-16T08:13:12.036633Z",
          "shell.execute_reply": "2021-08-16T08:13:12.046118Z"
        },
        "trusted": true,
        "id": "CLo6AlOQgz5H",
        "colab": {
          "base_uri": "https://localhost:8080/"
        },
        "outputId": "1b519a38-7a9f-4b28-b5a1-4b48b239cd0c"
      },
      "execution_count": null,
      "outputs": [
        {
          "output_type": "stream",
          "name": "stdout",
          "text": [
            "Train data R2 score : 0.8972\n",
            "Test data R2 score : 0.7781\n"
          ]
        }
      ]
    },
    {
      "cell_type": "markdown",
      "source": [
        "<a name=\"cp\"></a>\n",
        "\n",
        "# Comparison of original close price and predicted close price"
      ],
      "metadata": {
        "id": "M9qS4S_qgz5I"
      }
    },
    {
      "cell_type": "code",
      "source": [
        "# shift train predictions for plotting\n",
        "look_back=time_step\n",
        "trainPredictPlot = np.empty_like(closedf)\n",
        "trainPredictPlot[:, :] = np.nan\n",
        "trainPredictPlot[look_back:len(train_predict)+look_back, :] = train_predict\n",
        "print(\"Train predicted data: \", trainPredictPlot.shape)\n",
        "\n",
        "# shift test predictions for plotting\n",
        "testPredictPlot = np.empty_like(closedf)\n",
        "testPredictPlot[:, :] = np.nan\n",
        "testPredictPlot[len(train_predict)+(look_back*2)+1:len(closedf)-1, :] = test_predict\n",
        "print(\"Test predicted data: \", testPredictPlot.shape)\n",
        "\n",
        "names = cycle(['Original close price','Train predicted close price','Test predicted close price'])\n",
        "\n",
        "\n",
        "plotdf = pd.DataFrame({'date': close_stock['date'],\n",
        "                       'original_close': close_stock['close'],\n",
        "                      'train_predicted_close': trainPredictPlot.reshape(1,-1)[0].tolist(),\n",
        "                      'test_predicted_close': testPredictPlot.reshape(1,-1)[0].tolist()})\n",
        "\n",
        "fig = px.line(plotdf,x=plotdf['date'], y=[plotdf['original_close'],plotdf['train_predicted_close'],\n",
        "                                          plotdf['test_predicted_close']],\n",
        "              labels={'value':'Stock price','date': 'Date'})\n",
        "fig.update_layout(title_text='Comparison of original close price and predicted close price',\n",
        "                  plot_bgcolor='white', font_size=15, font_color='black', legend_title_text='Close Price')\n",
        "fig.for_each_trace(lambda t:  t.update(name = next(names)))\n",
        "\n",
        "fig.update_xaxes(showgrid=False)\n",
        "fig.update_yaxes(showgrid=False)\n",
        "fig.show()"
      ],
      "metadata": {
        "execution": {
          "iopub.status.busy": "2021-08-16T08:13:12.063782Z",
          "iopub.execute_input": "2021-08-16T08:13:12.064387Z",
          "iopub.status.idle": "2021-08-16T08:13:12.201034Z",
          "shell.execute_reply.started": "2021-08-16T08:13:12.064339Z",
          "shell.execute_reply": "2021-08-16T08:13:12.200017Z"
        },
        "trusted": true,
        "id": "5SDDtXCggz5I",
        "colab": {
          "base_uri": "https://localhost:8080/",
          "height": 577
        },
        "outputId": "afcc9f78-2fc9-4c8e-d50e-bdffb01fca3e"
      },
      "execution_count": null,
      "outputs": [
        {
          "output_type": "stream",
          "name": "stdout",
          "text": [
            "Train predicted data:  (253, 1)\n",
            "Test predicted data:  (253, 1)\n"
          ]
        },
        {
          "output_type": "display_data",
          "data": {
            "text/html": [
              "<html>\n",
              "<head><meta charset=\"utf-8\" /></head>\n",
              "<body>\n",
              "    <div>            <script src=\"https://cdnjs.cloudflare.com/ajax/libs/mathjax/2.7.5/MathJax.js?config=TeX-AMS-MML_SVG\"></script><script type=\"text/javascript\">if (window.MathJax && window.MathJax.Hub && window.MathJax.Hub.Config) {window.MathJax.Hub.Config({SVG: {font: \"STIX-Web\"}});}</script>                <script type=\"text/javascript\">window.PlotlyConfig = {MathJaxConfig: 'local'};</script>\n",
              "        <script src=\"https://cdn.plot.ly/plotly-2.18.2.min.js\"></script>                <div id=\"ad8c98c8-d7a0-4c26-bfd4-02dc4010f250\" class=\"plotly-graph-div\" style=\"height:525px; width:100%;\"></div>            <script type=\"text/javascript\">                                    window.PLOTLYENV=window.PLOTLYENV || {};                                    if (document.getElementById(\"ad8c98c8-d7a0-4c26-bfd4-02dc4010f250\")) {                    Plotly.newPlot(                        \"ad8c98c8-d7a0-4c26-bfd4-02dc4010f250\",                        [{\"hovertemplate\":\"variable=original_close<br>Date=%{x}<br>Stock price=%{y}<extra></extra>\",\"legendgroup\":\"original_close\",\"line\":{\"color\":\"#636efa\",\"dash\":\"solid\"},\"marker\":{\"symbol\":\"circle\"},\"mode\":\"lines\",\"name\":\"Original close price\",\"orientation\":\"v\",\"showlegend\":true,\"x\":[\"2022-05-31T00:00:00\",\"2022-06-01T00:00:00\",\"2022-06-02T00:00:00\",\"2022-06-03T00:00:00\",\"2022-06-06T00:00:00\",\"2022-06-07T00:00:00\",\"2022-06-08T00:00:00\",\"2022-06-09T00:00:00\",\"2022-06-10T00:00:00\",\"2022-06-13T00:00:00\",\"2022-06-14T00:00:00\",\"2022-06-15T00:00:00\",\"2022-06-16T00:00:00\",\"2022-06-17T00:00:00\",\"2022-06-20T00:00:00\",\"2022-06-21T00:00:00\",\"2022-06-22T00:00:00\",\"2022-06-23T00:00:00\",\"2022-06-24T00:00:00\",\"2022-06-27T00:00:00\",\"2022-06-28T00:00:00\",\"2022-06-29T00:00:00\",\"2022-06-30T00:00:00\",\"2022-07-01T00:00:00\",\"2022-07-04T00:00:00\",\"2022-07-05T00:00:00\",\"2022-07-06T00:00:00\",\"2022-07-07T00:00:00\",\"2022-07-08T00:00:00\",\"2022-07-11T00:00:00\",\"2022-07-12T00:00:00\",\"2022-07-13T00:00:00\",\"2022-07-14T00:00:00\",\"2022-07-15T00:00:00\",\"2022-07-18T00:00:00\",\"2022-07-19T00:00:00\",\"2022-07-20T00:00:00\",\"2022-07-21T00:00:00\",\"2022-07-22T00:00:00\",\"2022-07-25T00:00:00\",\"2022-07-26T00:00:00\",\"2022-07-27T00:00:00\",\"2022-07-28T00:00:00\",\"2022-07-29T00:00:00\",\"2022-08-01T00:00:00\",\"2022-08-02T00:00:00\",\"2022-08-03T00:00:00\",\"2022-08-04T00:00:00\",\"2022-08-05T00:00:00\",\"2022-08-08T00:00:00\",\"2022-08-09T00:00:00\",\"2022-08-10T00:00:00\",\"2022-08-11T00:00:00\",\"2022-08-12T00:00:00\",\"2022-08-15T00:00:00\",\"2022-08-16T00:00:00\",\"2022-08-17T00:00:00\",\"2022-08-18T00:00:00\",\"2022-08-19T00:00:00\",\"2022-08-22T00:00:00\",\"2022-08-23T00:00:00\",\"2022-08-24T00:00:00\",\"2022-08-25T00:00:00\",\"2022-08-26T00:00:00\",\"2022-08-29T00:00:00\",\"2022-08-30T00:00:00\",\"2022-08-31T00:00:00\",\"2022-09-01T00:00:00\",\"2022-09-02T00:00:00\",\"2022-09-05T00:00:00\",\"2022-09-06T00:00:00\",\"2022-09-07T00:00:00\",\"2022-09-08T00:00:00\",\"2022-09-09T00:00:00\",\"2022-09-12T00:00:00\",\"2022-09-13T00:00:00\",\"2022-09-14T00:00:00\",\"2022-09-15T00:00:00\",\"2022-09-16T00:00:00\",\"2022-09-19T00:00:00\",\"2022-09-20T00:00:00\",\"2022-09-21T00:00:00\",\"2022-09-22T00:00:00\",\"2022-09-23T00:00:00\",\"2022-09-26T00:00:00\",\"2022-09-27T00:00:00\",\"2022-09-28T00:00:00\",\"2022-09-29T00:00:00\",\"2022-09-30T00:00:00\",\"2022-10-03T00:00:00\",\"2022-10-04T00:00:00\",\"2022-10-05T00:00:00\",\"2022-10-06T00:00:00\",\"2022-10-07T00:00:00\",\"2022-10-10T00:00:00\",\"2022-10-11T00:00:00\",\"2022-10-12T00:00:00\",\"2022-10-13T00:00:00\",\"2022-10-14T00:00:00\",\"2022-10-17T00:00:00\",\"2022-10-18T00:00:00\",\"2022-10-19T00:00:00\",\"2022-10-20T00:00:00\",\"2022-10-21T00:00:00\",\"2022-10-24T00:00:00\",\"2022-10-25T00:00:00\",\"2022-10-26T00:00:00\",\"2022-10-27T00:00:00\",\"2022-10-28T00:00:00\",\"2022-10-31T00:00:00\",\"2022-11-01T00:00:00\",\"2022-11-02T00:00:00\",\"2022-11-03T00:00:00\",\"2022-11-04T00:00:00\",\"2022-11-07T00:00:00\",\"2022-11-08T00:00:00\",\"2022-11-09T00:00:00\",\"2022-11-10T00:00:00\",\"2022-11-11T00:00:00\",\"2022-11-14T00:00:00\",\"2022-11-15T00:00:00\",\"2022-11-16T00:00:00\",\"2022-11-17T00:00:00\",\"2022-11-18T00:00:00\",\"2022-11-21T00:00:00\",\"2022-11-22T00:00:00\",\"2022-11-23T00:00:00\",\"2022-11-24T00:00:00\",\"2022-11-25T00:00:00\",\"2022-11-28T00:00:00\",\"2022-11-29T00:00:00\",\"2022-11-30T00:00:00\",\"2022-12-01T00:00:00\",\"2022-12-02T00:00:00\",\"2022-12-05T00:00:00\",\"2022-12-06T00:00:00\",\"2022-12-07T00:00:00\",\"2022-12-08T00:00:00\",\"2022-12-09T00:00:00\",\"2022-12-12T00:00:00\",\"2022-12-13T00:00:00\",\"2022-12-14T00:00:00\",\"2022-12-15T00:00:00\",\"2022-12-16T00:00:00\",\"2022-12-19T00:00:00\",\"2022-12-20T00:00:00\",\"2022-12-21T00:00:00\",\"2022-12-22T00:00:00\",\"2022-12-23T00:00:00\",\"2022-12-27T00:00:00\",\"2022-12-28T00:00:00\",\"2022-12-29T00:00:00\",\"2022-12-30T00:00:00\",\"2023-01-02T00:00:00\",\"2023-01-03T00:00:00\",\"2023-01-04T00:00:00\",\"2023-01-05T00:00:00\",\"2023-01-06T00:00:00\",\"2023-01-09T00:00:00\",\"2023-01-10T00:00:00\",\"2023-01-11T00:00:00\",\"2023-01-12T00:00:00\",\"2023-01-13T00:00:00\",\"2023-01-16T00:00:00\",\"2023-01-17T00:00:00\",\"2023-01-18T00:00:00\",\"2023-01-19T00:00:00\",\"2023-01-20T00:00:00\",\"2023-01-23T00:00:00\",\"2023-01-24T00:00:00\",\"2023-01-25T00:00:00\",\"2023-01-26T00:00:00\",\"2023-01-27T00:00:00\",\"2023-01-30T00:00:00\",\"2023-01-31T00:00:00\",\"2023-02-01T00:00:00\",\"2023-02-02T00:00:00\",\"2023-02-03T00:00:00\",\"2023-02-06T00:00:00\",\"2023-02-07T00:00:00\",\"2023-02-08T00:00:00\",\"2023-02-09T00:00:00\",\"2023-02-10T00:00:00\",\"2023-02-13T00:00:00\",\"2023-02-14T00:00:00\",\"2023-02-15T00:00:00\",\"2023-02-16T00:00:00\",\"2023-02-17T00:00:00\",\"2023-02-20T00:00:00\",\"2023-02-21T00:00:00\",\"2023-02-22T00:00:00\",\"2023-02-23T00:00:00\",\"2023-02-24T00:00:00\",\"2023-02-27T00:00:00\",\"2023-02-28T00:00:00\",\"2023-03-01T00:00:00\",\"2023-03-02T00:00:00\",\"2023-03-03T00:00:00\",\"2023-03-06T00:00:00\",\"2023-03-07T00:00:00\",\"2023-03-08T00:00:00\",\"2023-03-09T00:00:00\",\"2023-03-10T00:00:00\",\"2023-03-13T00:00:00\",\"2023-03-14T00:00:00\",\"2023-03-15T00:00:00\",\"2023-03-16T00:00:00\",\"2023-03-17T00:00:00\",\"2023-03-20T00:00:00\",\"2023-03-21T00:00:00\",\"2023-03-22T00:00:00\",\"2023-03-23T00:00:00\",\"2023-03-24T00:00:00\",\"2023-03-27T00:00:00\",\"2023-03-28T00:00:00\",\"2023-03-29T00:00:00\",\"2023-03-30T00:00:00\",\"2023-03-31T00:00:00\",\"2023-04-03T00:00:00\",\"2023-04-04T00:00:00\",\"2023-04-05T00:00:00\",\"2023-04-06T00:00:00\",\"2023-04-12T00:00:00\",\"2023-04-13T00:00:00\",\"2023-04-14T00:00:00\",\"2023-04-17T00:00:00\",\"2023-04-18T00:00:00\",\"2023-04-19T00:00:00\",\"2023-04-20T00:00:00\",\"2023-04-21T00:00:00\",\"2023-04-24T00:00:00\",\"2023-04-25T00:00:00\",\"2023-04-26T00:00:00\",\"2023-04-27T00:00:00\",\"2023-04-28T00:00:00\",\"2023-05-02T00:00:00\",\"2023-05-03T00:00:00\",\"2023-05-04T00:00:00\",\"2023-05-05T00:00:00\",\"2023-05-08T00:00:00\",\"2023-05-09T00:00:00\",\"2023-05-10T00:00:00\",\"2023-05-11T00:00:00\",\"2023-05-12T00:00:00\",\"2023-05-15T00:00:00\",\"2023-05-16T00:00:00\",\"2023-05-17T00:00:00\",\"2023-05-18T00:00:00\",\"2023-05-19T00:00:00\",\"2023-05-22T00:00:00\",\"2023-05-24T00:00:00\",\"2023-05-25T00:00:00\",\"2023-05-26T00:00:00\"],\"xaxis\":\"x\",\"y\":[80.629997,82.330002,82.330002,82.330002,83.580002,82.589996,83.5,82.660004,80.540001,77.970001,77.610001,79.540001,77.150002,77.599998,78.720001,79.660004,78.160004,74.900002,74.940002,75.730003,76.480003,74.519997,73.459999,73.760002,72.790001,71.5,71.370003,74.779999,76.040001,73.790001,73.790001,72.459999,72.220001,75.120003,76.0,78.129997,77.529999,76.889999,77.099998,77.970001,76.080002,76.580002,78.43,79.480003,79.889999,81.080002,76.57,76.269997,76.610001,78.099998,77.089996,77.989998,77.709999,78.550003,78.120003,79.25,77.290001,77.889999,75.809998,73.019997,74.519997,74.139999,74.470001,73.120003,73.510002,73.809998,73.470001,72.809998,75.110001,72.440002,72.82,74.07,72.949997,73.510002,75.779999,74.860001,74.650002,74.68,74.389999,75.699997,75.07,75.25,74.169998,71.379997,72.160004,71.760002,71.580002,69.129997,69.989998,70.730003,72.849998,71.470001,71.970001,71.699997,72.029999,72.379997,73.169998,74.239998,75.019997,76.529999,77.620003,77.660004,77.529999,77.43,77.910004,78.220001,79.07,79.57,79.559998,79.519997,80.279999,80.239998,76.5,79.800003,81.029999,80.489998,80.25,82.849998,84.239998,85.029999,85.18,82.529999,82.269997,84.150002,83.599998,84.099998,83.769997,84.010002,83.959999,83.440002,84.75,86.309998,85.139999,85.260002,85.860001,85.190002,84.559998,82.959999,84.540001,84.43,84.010002,83.849998,82.800003,82.620003,83.620003,83.349998,84.150002,83.300003,83.5,83.650002,83.260002,83.830002,83.379997,85.800003,85.830002,87.879997,88.949997,89.529999,89.980003,90.519997,91.779999,93.220001,91.739998,91.839996,91.980003,91.43,90.019997,89.970001,91.529999,91.790001,91.790001,92.349998,92.349998,91.480003,93.230003,95.269997,97.790001,97.580002,97.059998,97.400002,97.57,99.459999,97.769997,97.610001,97.739998,99.18,99.239998,99.75,99.669998,98.699997,98.43,99.650002,97.190002,98.160004,97.75,99.339996,99.349998,101.480003,101.459999,101.0,100.959999,99.529999,98.330002,94.639999,95.599998,94.690002,95.769997,94.849998,95.610001,97.339996,98.199997,98.830002,97.760002,98.650002,98.790001,98.93,100.68,100.940002,100.739998,101.339996,99.089996,98.620003,102.68,102.32,103.68,103.199997,104.099998,103.779999,100.019997,100.599998,101.160004,101.440002,101.0,100.639999,101.440002,100.580002,101.019997,103.800003,107.540001,108.919998,108.720001,108.720001,108.400002,99.410004,100.080002,99.57,100.139999,102.5,103.379997,104.040001,102.599998,102.779999,104.459999],\"yaxis\":\"y\",\"type\":\"scatter\"},{\"hovertemplate\":\"variable=train_predicted_close<br>Date=%{x}<br>Stock price=%{y}<extra></extra>\",\"legendgroup\":\"train_predicted_close\",\"line\":{\"color\":\"#EF553B\",\"dash\":\"solid\"},\"marker\":{\"symbol\":\"circle\"},\"mode\":\"lines\",\"name\":\"Train predicted close price\",\"orientation\":\"v\",\"showlegend\":true,\"x\":[\"2022-05-31T00:00:00\",\"2022-06-01T00:00:00\",\"2022-06-02T00:00:00\",\"2022-06-03T00:00:00\",\"2022-06-06T00:00:00\",\"2022-06-07T00:00:00\",\"2022-06-08T00:00:00\",\"2022-06-09T00:00:00\",\"2022-06-10T00:00:00\",\"2022-06-13T00:00:00\",\"2022-06-14T00:00:00\",\"2022-06-15T00:00:00\",\"2022-06-16T00:00:00\",\"2022-06-17T00:00:00\",\"2022-06-20T00:00:00\",\"2022-06-21T00:00:00\",\"2022-06-22T00:00:00\",\"2022-06-23T00:00:00\",\"2022-06-24T00:00:00\",\"2022-06-27T00:00:00\",\"2022-06-28T00:00:00\",\"2022-06-29T00:00:00\",\"2022-06-30T00:00:00\",\"2022-07-01T00:00:00\",\"2022-07-04T00:00:00\",\"2022-07-05T00:00:00\",\"2022-07-06T00:00:00\",\"2022-07-07T00:00:00\",\"2022-07-08T00:00:00\",\"2022-07-11T00:00:00\",\"2022-07-12T00:00:00\",\"2022-07-13T00:00:00\",\"2022-07-14T00:00:00\",\"2022-07-15T00:00:00\",\"2022-07-18T00:00:00\",\"2022-07-19T00:00:00\",\"2022-07-20T00:00:00\",\"2022-07-21T00:00:00\",\"2022-07-22T00:00:00\",\"2022-07-25T00:00:00\",\"2022-07-26T00:00:00\",\"2022-07-27T00:00:00\",\"2022-07-28T00:00:00\",\"2022-07-29T00:00:00\",\"2022-08-01T00:00:00\",\"2022-08-02T00:00:00\",\"2022-08-03T00:00:00\",\"2022-08-04T00:00:00\",\"2022-08-05T00:00:00\",\"2022-08-08T00:00:00\",\"2022-08-09T00:00:00\",\"2022-08-10T00:00:00\",\"2022-08-11T00:00:00\",\"2022-08-12T00:00:00\",\"2022-08-15T00:00:00\",\"2022-08-16T00:00:00\",\"2022-08-17T00:00:00\",\"2022-08-18T00:00:00\",\"2022-08-19T00:00:00\",\"2022-08-22T00:00:00\",\"2022-08-23T00:00:00\",\"2022-08-24T00:00:00\",\"2022-08-25T00:00:00\",\"2022-08-26T00:00:00\",\"2022-08-29T00:00:00\",\"2022-08-30T00:00:00\",\"2022-08-31T00:00:00\",\"2022-09-01T00:00:00\",\"2022-09-02T00:00:00\",\"2022-09-05T00:00:00\",\"2022-09-06T00:00:00\",\"2022-09-07T00:00:00\",\"2022-09-08T00:00:00\",\"2022-09-09T00:00:00\",\"2022-09-12T00:00:00\",\"2022-09-13T00:00:00\",\"2022-09-14T00:00:00\",\"2022-09-15T00:00:00\",\"2022-09-16T00:00:00\",\"2022-09-19T00:00:00\",\"2022-09-20T00:00:00\",\"2022-09-21T00:00:00\",\"2022-09-22T00:00:00\",\"2022-09-23T00:00:00\",\"2022-09-26T00:00:00\",\"2022-09-27T00:00:00\",\"2022-09-28T00:00:00\",\"2022-09-29T00:00:00\",\"2022-09-30T00:00:00\",\"2022-10-03T00:00:00\",\"2022-10-04T00:00:00\",\"2022-10-05T00:00:00\",\"2022-10-06T00:00:00\",\"2022-10-07T00:00:00\",\"2022-10-10T00:00:00\",\"2022-10-11T00:00:00\",\"2022-10-12T00:00:00\",\"2022-10-13T00:00:00\",\"2022-10-14T00:00:00\",\"2022-10-17T00:00:00\",\"2022-10-18T00:00:00\",\"2022-10-19T00:00:00\",\"2022-10-20T00:00:00\",\"2022-10-21T00:00:00\",\"2022-10-24T00:00:00\",\"2022-10-25T00:00:00\",\"2022-10-26T00:00:00\",\"2022-10-27T00:00:00\",\"2022-10-28T00:00:00\",\"2022-10-31T00:00:00\",\"2022-11-01T00:00:00\",\"2022-11-02T00:00:00\",\"2022-11-03T00:00:00\",\"2022-11-04T00:00:00\",\"2022-11-07T00:00:00\",\"2022-11-08T00:00:00\",\"2022-11-09T00:00:00\",\"2022-11-10T00:00:00\",\"2022-11-11T00:00:00\",\"2022-11-14T00:00:00\",\"2022-11-15T00:00:00\",\"2022-11-16T00:00:00\",\"2022-11-17T00:00:00\",\"2022-11-18T00:00:00\",\"2022-11-21T00:00:00\",\"2022-11-22T00:00:00\",\"2022-11-23T00:00:00\",\"2022-11-24T00:00:00\",\"2022-11-25T00:00:00\",\"2022-11-28T00:00:00\",\"2022-11-29T00:00:00\",\"2022-11-30T00:00:00\",\"2022-12-01T00:00:00\",\"2022-12-02T00:00:00\",\"2022-12-05T00:00:00\",\"2022-12-06T00:00:00\",\"2022-12-07T00:00:00\",\"2022-12-08T00:00:00\",\"2022-12-09T00:00:00\",\"2022-12-12T00:00:00\",\"2022-12-13T00:00:00\",\"2022-12-14T00:00:00\",\"2022-12-15T00:00:00\",\"2022-12-16T00:00:00\",\"2022-12-19T00:00:00\",\"2022-12-20T00:00:00\",\"2022-12-21T00:00:00\",\"2022-12-22T00:00:00\",\"2022-12-23T00:00:00\",\"2022-12-27T00:00:00\",\"2022-12-28T00:00:00\",\"2022-12-29T00:00:00\",\"2022-12-30T00:00:00\",\"2023-01-02T00:00:00\",\"2023-01-03T00:00:00\",\"2023-01-04T00:00:00\",\"2023-01-05T00:00:00\",\"2023-01-06T00:00:00\",\"2023-01-09T00:00:00\",\"2023-01-10T00:00:00\",\"2023-01-11T00:00:00\",\"2023-01-12T00:00:00\",\"2023-01-13T00:00:00\",\"2023-01-16T00:00:00\",\"2023-01-17T00:00:00\",\"2023-01-18T00:00:00\",\"2023-01-19T00:00:00\",\"2023-01-20T00:00:00\",\"2023-01-23T00:00:00\",\"2023-01-24T00:00:00\",\"2023-01-25T00:00:00\",\"2023-01-26T00:00:00\",\"2023-01-27T00:00:00\",\"2023-01-30T00:00:00\",\"2023-01-31T00:00:00\",\"2023-02-01T00:00:00\",\"2023-02-02T00:00:00\",\"2023-02-03T00:00:00\",\"2023-02-06T00:00:00\",\"2023-02-07T00:00:00\",\"2023-02-08T00:00:00\",\"2023-02-09T00:00:00\",\"2023-02-10T00:00:00\",\"2023-02-13T00:00:00\",\"2023-02-14T00:00:00\",\"2023-02-15T00:00:00\",\"2023-02-16T00:00:00\",\"2023-02-17T00:00:00\",\"2023-02-20T00:00:00\",\"2023-02-21T00:00:00\",\"2023-02-22T00:00:00\",\"2023-02-23T00:00:00\",\"2023-02-24T00:00:00\",\"2023-02-27T00:00:00\",\"2023-02-28T00:00:00\",\"2023-03-01T00:00:00\",\"2023-03-02T00:00:00\",\"2023-03-03T00:00:00\",\"2023-03-06T00:00:00\",\"2023-03-07T00:00:00\",\"2023-03-08T00:00:00\",\"2023-03-09T00:00:00\",\"2023-03-10T00:00:00\",\"2023-03-13T00:00:00\",\"2023-03-14T00:00:00\",\"2023-03-15T00:00:00\",\"2023-03-16T00:00:00\",\"2023-03-17T00:00:00\",\"2023-03-20T00:00:00\",\"2023-03-21T00:00:00\",\"2023-03-22T00:00:00\",\"2023-03-23T00:00:00\",\"2023-03-24T00:00:00\",\"2023-03-27T00:00:00\",\"2023-03-28T00:00:00\",\"2023-03-29T00:00:00\",\"2023-03-30T00:00:00\",\"2023-03-31T00:00:00\",\"2023-04-03T00:00:00\",\"2023-04-04T00:00:00\",\"2023-04-05T00:00:00\",\"2023-04-06T00:00:00\",\"2023-04-12T00:00:00\",\"2023-04-13T00:00:00\",\"2023-04-14T00:00:00\",\"2023-04-17T00:00:00\",\"2023-04-18T00:00:00\",\"2023-04-19T00:00:00\",\"2023-04-20T00:00:00\",\"2023-04-21T00:00:00\",\"2023-04-24T00:00:00\",\"2023-04-25T00:00:00\",\"2023-04-26T00:00:00\",\"2023-04-27T00:00:00\",\"2023-04-28T00:00:00\",\"2023-05-02T00:00:00\",\"2023-05-03T00:00:00\",\"2023-05-04T00:00:00\",\"2023-05-05T00:00:00\",\"2023-05-08T00:00:00\",\"2023-05-09T00:00:00\",\"2023-05-10T00:00:00\",\"2023-05-11T00:00:00\",\"2023-05-12T00:00:00\",\"2023-05-15T00:00:00\",\"2023-05-16T00:00:00\",\"2023-05-17T00:00:00\",\"2023-05-18T00:00:00\",\"2023-05-19T00:00:00\",\"2023-05-22T00:00:00\",\"2023-05-24T00:00:00\",\"2023-05-25T00:00:00\",\"2023-05-26T00:00:00\"],\"xaxis\":\"x\",\"y\":[null,null,null,null,null,null,null,null,null,null,null,null,null,null,null,77.71630859375,78.59208679199219,78.00170135498047,75.78829193115234,74.96240997314453,75.15959930419922,75.718505859375,74.83821868896484,73.83728790283203,73.6105728149414,73.04530334472656,72.10678100585938,71.62781524658203,73.25885009765625,74.87169647216797,74.3118896484375,73.94501495361328,73.09564208984375,72.5673599243164,73.91020202636719,75.12638854980469,76.8340072631836,77.2064208984375,76.89189147949219,76.85823822021484,77.35883331298828,76.42539978027344,76.28560638427734,77.35939025878906,78.45436096191406,79.10517883300781,80.07200622558594,77.58995819091797,76.44818115234375,76.26902770996094,77.10350799560547,76.85075378417969,77.24925994873047,77.27365112304688,77.77899932861328,77.73172760009766,78.38287353515625,77.44831085205078,77.41273498535156,76.18750762939453,74.06429290771484,74.04434967041016,73.94027709960938,74.07584381103516,73.42330932617188,73.3328857421875,73.51626586914062,73.44092559814453,73.0465316772461,74.11075592041016,73.23016357421875,72.92584228515625,73.5192642211914,73.23877716064453,73.35173797607422,74.67334747314453,74.81490325927734,74.66800689697266,74.60935974121094,74.42262268066406,75.05973815917969,75.0140380859375,75.04527282714844,74.45563507080078,72.65115356445312,72.23853302001953,71.95098876953125,71.74067687988281,70.42467498779297,70.17943572998047,70.5541000366211,71.86853790283203,71.88457489013672,72.03170013427734,71.98652648925781,72.11685180664062,72.36907196044922,72.8995361328125,73.72201538085938,74.52080535888672,75.69083404541016,76.81793975830078,77.27294158935547,77.31690979003906,77.23687744140625,77.46633911132812,77.73145294189453,78.32813262939453,78.85588073730469,79.02523803710938,79.04004669189453,79.51156616210938,79.65557861328125,77.3407974243164,78.4908447265625,79.79936218261719,79.896484375,79.74578857421875,81.38117218017578,82.90512084960938,83.92160034179688,84.33676147460938,82.62326049804688,81.93450927734375,82.99358367919922,82.92102813720703,83.21005249023438,83.07608795166016,83.19634246826172,83.20092010498047,82.83930206298828,83.6330337524414,84.96953582763672,84.52610778808594,84.49400329589844,84.92639923095703,84.5631332397461,84.00703430175781,82.72672271728516,83.44391632080078,83.5757827758789,83.30342102050781,83.1203842163086,82.3499984741211,81.99627685546875,82.57264709472656,82.56888580322266,83.11227416992188,82.70755004882812,82.7232437133789,null,null,null,null,null,null,null,null,null,null,null,null,null,null,null,null,null,null,null,null,null,null,null,null,null,null,null,null,null,null,null,null,null,null,null,null,null,null,null,null,null,null,null,null,null,null,null,null,null,null,null,null,null,null,null,null,null,null,null,null,null,null,null,null,null,null,null,null,null,null,null,null,null,null,null,null,null,null,null,null,null,null,null,null,null,null,null,null,null,null,null,null,null,null,null,null,null,null,null,null,null,null,null],\"yaxis\":\"y\",\"type\":\"scatter\"},{\"hovertemplate\":\"variable=test_predicted_close<br>Date=%{x}<br>Stock price=%{y}<extra></extra>\",\"legendgroup\":\"test_predicted_close\",\"line\":{\"color\":\"#00cc96\",\"dash\":\"solid\"},\"marker\":{\"symbol\":\"circle\"},\"mode\":\"lines\",\"name\":\"Test predicted close price\",\"orientation\":\"v\",\"showlegend\":true,\"x\":[\"2022-05-31T00:00:00\",\"2022-06-01T00:00:00\",\"2022-06-02T00:00:00\",\"2022-06-03T00:00:00\",\"2022-06-06T00:00:00\",\"2022-06-07T00:00:00\",\"2022-06-08T00:00:00\",\"2022-06-09T00:00:00\",\"2022-06-10T00:00:00\",\"2022-06-13T00:00:00\",\"2022-06-14T00:00:00\",\"2022-06-15T00:00:00\",\"2022-06-16T00:00:00\",\"2022-06-17T00:00:00\",\"2022-06-20T00:00:00\",\"2022-06-21T00:00:00\",\"2022-06-22T00:00:00\",\"2022-06-23T00:00:00\",\"2022-06-24T00:00:00\",\"2022-06-27T00:00:00\",\"2022-06-28T00:00:00\",\"2022-06-29T00:00:00\",\"2022-06-30T00:00:00\",\"2022-07-01T00:00:00\",\"2022-07-04T00:00:00\",\"2022-07-05T00:00:00\",\"2022-07-06T00:00:00\",\"2022-07-07T00:00:00\",\"2022-07-08T00:00:00\",\"2022-07-11T00:00:00\",\"2022-07-12T00:00:00\",\"2022-07-13T00:00:00\",\"2022-07-14T00:00:00\",\"2022-07-15T00:00:00\",\"2022-07-18T00:00:00\",\"2022-07-19T00:00:00\",\"2022-07-20T00:00:00\",\"2022-07-21T00:00:00\",\"2022-07-22T00:00:00\",\"2022-07-25T00:00:00\",\"2022-07-26T00:00:00\",\"2022-07-27T00:00:00\",\"2022-07-28T00:00:00\",\"2022-07-29T00:00:00\",\"2022-08-01T00:00:00\",\"2022-08-02T00:00:00\",\"2022-08-03T00:00:00\",\"2022-08-04T00:00:00\",\"2022-08-05T00:00:00\",\"2022-08-08T00:00:00\",\"2022-08-09T00:00:00\",\"2022-08-10T00:00:00\",\"2022-08-11T00:00:00\",\"2022-08-12T00:00:00\",\"2022-08-15T00:00:00\",\"2022-08-16T00:00:00\",\"2022-08-17T00:00:00\",\"2022-08-18T00:00:00\",\"2022-08-19T00:00:00\",\"2022-08-22T00:00:00\",\"2022-08-23T00:00:00\",\"2022-08-24T00:00:00\",\"2022-08-25T00:00:00\",\"2022-08-26T00:00:00\",\"2022-08-29T00:00:00\",\"2022-08-30T00:00:00\",\"2022-08-31T00:00:00\",\"2022-09-01T00:00:00\",\"2022-09-02T00:00:00\",\"2022-09-05T00:00:00\",\"2022-09-06T00:00:00\",\"2022-09-07T00:00:00\",\"2022-09-08T00:00:00\",\"2022-09-09T00:00:00\",\"2022-09-12T00:00:00\",\"2022-09-13T00:00:00\",\"2022-09-14T00:00:00\",\"2022-09-15T00:00:00\",\"2022-09-16T00:00:00\",\"2022-09-19T00:00:00\",\"2022-09-20T00:00:00\",\"2022-09-21T00:00:00\",\"2022-09-22T00:00:00\",\"2022-09-23T00:00:00\",\"2022-09-26T00:00:00\",\"2022-09-27T00:00:00\",\"2022-09-28T00:00:00\",\"2022-09-29T00:00:00\",\"2022-09-30T00:00:00\",\"2022-10-03T00:00:00\",\"2022-10-04T00:00:00\",\"2022-10-05T00:00:00\",\"2022-10-06T00:00:00\",\"2022-10-07T00:00:00\",\"2022-10-10T00:00:00\",\"2022-10-11T00:00:00\",\"2022-10-12T00:00:00\",\"2022-10-13T00:00:00\",\"2022-10-14T00:00:00\",\"2022-10-17T00:00:00\",\"2022-10-18T00:00:00\",\"2022-10-19T00:00:00\",\"2022-10-20T00:00:00\",\"2022-10-21T00:00:00\",\"2022-10-24T00:00:00\",\"2022-10-25T00:00:00\",\"2022-10-26T00:00:00\",\"2022-10-27T00:00:00\",\"2022-10-28T00:00:00\",\"2022-10-31T00:00:00\",\"2022-11-01T00:00:00\",\"2022-11-02T00:00:00\",\"2022-11-03T00:00:00\",\"2022-11-04T00:00:00\",\"2022-11-07T00:00:00\",\"2022-11-08T00:00:00\",\"2022-11-09T00:00:00\",\"2022-11-10T00:00:00\",\"2022-11-11T00:00:00\",\"2022-11-14T00:00:00\",\"2022-11-15T00:00:00\",\"2022-11-16T00:00:00\",\"2022-11-17T00:00:00\",\"2022-11-18T00:00:00\",\"2022-11-21T00:00:00\",\"2022-11-22T00:00:00\",\"2022-11-23T00:00:00\",\"2022-11-24T00:00:00\",\"2022-11-25T00:00:00\",\"2022-11-28T00:00:00\",\"2022-11-29T00:00:00\",\"2022-11-30T00:00:00\",\"2022-12-01T00:00:00\",\"2022-12-02T00:00:00\",\"2022-12-05T00:00:00\",\"2022-12-06T00:00:00\",\"2022-12-07T00:00:00\",\"2022-12-08T00:00:00\",\"2022-12-09T00:00:00\",\"2022-12-12T00:00:00\",\"2022-12-13T00:00:00\",\"2022-12-14T00:00:00\",\"2022-12-15T00:00:00\",\"2022-12-16T00:00:00\",\"2022-12-19T00:00:00\",\"2022-12-20T00:00:00\",\"2022-12-21T00:00:00\",\"2022-12-22T00:00:00\",\"2022-12-23T00:00:00\",\"2022-12-27T00:00:00\",\"2022-12-28T00:00:00\",\"2022-12-29T00:00:00\",\"2022-12-30T00:00:00\",\"2023-01-02T00:00:00\",\"2023-01-03T00:00:00\",\"2023-01-04T00:00:00\",\"2023-01-05T00:00:00\",\"2023-01-06T00:00:00\",\"2023-01-09T00:00:00\",\"2023-01-10T00:00:00\",\"2023-01-11T00:00:00\",\"2023-01-12T00:00:00\",\"2023-01-13T00:00:00\",\"2023-01-16T00:00:00\",\"2023-01-17T00:00:00\",\"2023-01-18T00:00:00\",\"2023-01-19T00:00:00\",\"2023-01-20T00:00:00\",\"2023-01-23T00:00:00\",\"2023-01-24T00:00:00\",\"2023-01-25T00:00:00\",\"2023-01-26T00:00:00\",\"2023-01-27T00:00:00\",\"2023-01-30T00:00:00\",\"2023-01-31T00:00:00\",\"2023-02-01T00:00:00\",\"2023-02-02T00:00:00\",\"2023-02-03T00:00:00\",\"2023-02-06T00:00:00\",\"2023-02-07T00:00:00\",\"2023-02-08T00:00:00\",\"2023-02-09T00:00:00\",\"2023-02-10T00:00:00\",\"2023-02-13T00:00:00\",\"2023-02-14T00:00:00\",\"2023-02-15T00:00:00\",\"2023-02-16T00:00:00\",\"2023-02-17T00:00:00\",\"2023-02-20T00:00:00\",\"2023-02-21T00:00:00\",\"2023-02-22T00:00:00\",\"2023-02-23T00:00:00\",\"2023-02-24T00:00:00\",\"2023-02-27T00:00:00\",\"2023-02-28T00:00:00\",\"2023-03-01T00:00:00\",\"2023-03-02T00:00:00\",\"2023-03-03T00:00:00\",\"2023-03-06T00:00:00\",\"2023-03-07T00:00:00\",\"2023-03-08T00:00:00\",\"2023-03-09T00:00:00\",\"2023-03-10T00:00:00\",\"2023-03-13T00:00:00\",\"2023-03-14T00:00:00\",\"2023-03-15T00:00:00\",\"2023-03-16T00:00:00\",\"2023-03-17T00:00:00\",\"2023-03-20T00:00:00\",\"2023-03-21T00:00:00\",\"2023-03-22T00:00:00\",\"2023-03-23T00:00:00\",\"2023-03-24T00:00:00\",\"2023-03-27T00:00:00\",\"2023-03-28T00:00:00\",\"2023-03-29T00:00:00\",\"2023-03-30T00:00:00\",\"2023-03-31T00:00:00\",\"2023-04-03T00:00:00\",\"2023-04-04T00:00:00\",\"2023-04-05T00:00:00\",\"2023-04-06T00:00:00\",\"2023-04-12T00:00:00\",\"2023-04-13T00:00:00\",\"2023-04-14T00:00:00\",\"2023-04-17T00:00:00\",\"2023-04-18T00:00:00\",\"2023-04-19T00:00:00\",\"2023-04-20T00:00:00\",\"2023-04-21T00:00:00\",\"2023-04-24T00:00:00\",\"2023-04-25T00:00:00\",\"2023-04-26T00:00:00\",\"2023-04-27T00:00:00\",\"2023-04-28T00:00:00\",\"2023-05-02T00:00:00\",\"2023-05-03T00:00:00\",\"2023-05-04T00:00:00\",\"2023-05-05T00:00:00\",\"2023-05-08T00:00:00\",\"2023-05-09T00:00:00\",\"2023-05-10T00:00:00\",\"2023-05-11T00:00:00\",\"2023-05-12T00:00:00\",\"2023-05-15T00:00:00\",\"2023-05-16T00:00:00\",\"2023-05-17T00:00:00\",\"2023-05-18T00:00:00\",\"2023-05-19T00:00:00\",\"2023-05-22T00:00:00\",\"2023-05-24T00:00:00\",\"2023-05-25T00:00:00\",\"2023-05-26T00:00:00\"],\"xaxis\":\"x\",\"y\":[null,null,null,null,null,null,null,null,null,null,null,null,null,null,null,null,null,null,null,null,null,null,null,null,null,null,null,null,null,null,null,null,null,null,null,null,null,null,null,null,null,null,null,null,null,null,null,null,null,null,null,null,null,null,null,null,null,null,null,null,null,null,null,null,null,null,null,null,null,null,null,null,null,null,null,null,null,null,null,null,null,null,null,null,null,null,null,null,null,null,null,null,null,null,null,null,null,null,null,null,null,null,null,null,null,null,null,null,null,null,null,null,null,null,null,null,null,null,null,null,null,null,null,null,null,null,null,null,null,null,null,null,null,null,null,null,null,null,null,null,null,null,null,null,null,null,null,null,null,null,null,null,null,null,null,null,null,null,null,null,null,null,null,null,null,null,90.80157470703125,89.59355926513672,89.29512786865234,90.39683532714844,90.79293823242188,90.88899230957031,91.382080078125,91.49722290039062,90.85120391845703,92.12471008300781,93.98099517822266,96.38826751708984,96.69158935546875,96.4454345703125,96.7751235961914,96.96468353271484,98.5744857788086,97.34611511230469,97.13027954101562,97.19058227539062,98.37604522705078,98.55638885498047,99.06053161621094,99.08811950683594,98.29742431640625,97.99443817138672,98.96265411376953,96.93315124511719,97.5512466430664,97.2061767578125,98.49153900146484,98.6463623046875,100.54096221923828,100.78189849853516,100.52056121826172,100.5306396484375,99.29814147949219,98.13211822509766,94.78845977783203,95.10505676269531,94.20092010498047,94.88489532470703,94.1802978515625,94.7201156616211,96.23123931884766,97.19515228271484,97.94068145751953,97.22432708740234,97.96217346191406,98.16621398925781,98.32484436035156,99.85176849365234,100.2632064819336,100.21050262451172,100.78475952148438,98.90985870361328,98.34619140625,101.68123626708984,101.65082550048828,102.96759796142578,102.75638580322266,103.63174438476562,103.4515151977539,100.16463470458984,100.4223403930664,100.74939727783203,100.92971801757812,100.55475616455078,100.22554779052734,100.88343811035156,100.17866516113281,100.51634216308594,102.94517517089844,106.4517822265625,108.10166931152344,108.31880187988281,108.5781478881836,108.40914916992188,100.2745361328125,100.46556091308594,99.54996490478516,99.6969223022461,101.63172149658203,102.56997680664062,103.3503646850586,102.27666473388672,null],\"yaxis\":\"y\",\"type\":\"scatter\"}],                        {\"template\":{\"data\":{\"histogram2dcontour\":[{\"type\":\"histogram2dcontour\",\"colorbar\":{\"outlinewidth\":0,\"ticks\":\"\"},\"colorscale\":[[0.0,\"#0d0887\"],[0.1111111111111111,\"#46039f\"],[0.2222222222222222,\"#7201a8\"],[0.3333333333333333,\"#9c179e\"],[0.4444444444444444,\"#bd3786\"],[0.5555555555555556,\"#d8576b\"],[0.6666666666666666,\"#ed7953\"],[0.7777777777777778,\"#fb9f3a\"],[0.8888888888888888,\"#fdca26\"],[1.0,\"#f0f921\"]]}],\"choropleth\":[{\"type\":\"choropleth\",\"colorbar\":{\"outlinewidth\":0,\"ticks\":\"\"}}],\"histogram2d\":[{\"type\":\"histogram2d\",\"colorbar\":{\"outlinewidth\":0,\"ticks\":\"\"},\"colorscale\":[[0.0,\"#0d0887\"],[0.1111111111111111,\"#46039f\"],[0.2222222222222222,\"#7201a8\"],[0.3333333333333333,\"#9c179e\"],[0.4444444444444444,\"#bd3786\"],[0.5555555555555556,\"#d8576b\"],[0.6666666666666666,\"#ed7953\"],[0.7777777777777778,\"#fb9f3a\"],[0.8888888888888888,\"#fdca26\"],[1.0,\"#f0f921\"]]}],\"heatmap\":[{\"type\":\"heatmap\",\"colorbar\":{\"outlinewidth\":0,\"ticks\":\"\"},\"colorscale\":[[0.0,\"#0d0887\"],[0.1111111111111111,\"#46039f\"],[0.2222222222222222,\"#7201a8\"],[0.3333333333333333,\"#9c179e\"],[0.4444444444444444,\"#bd3786\"],[0.5555555555555556,\"#d8576b\"],[0.6666666666666666,\"#ed7953\"],[0.7777777777777778,\"#fb9f3a\"],[0.8888888888888888,\"#fdca26\"],[1.0,\"#f0f921\"]]}],\"heatmapgl\":[{\"type\":\"heatmapgl\",\"colorbar\":{\"outlinewidth\":0,\"ticks\":\"\"},\"colorscale\":[[0.0,\"#0d0887\"],[0.1111111111111111,\"#46039f\"],[0.2222222222222222,\"#7201a8\"],[0.3333333333333333,\"#9c179e\"],[0.4444444444444444,\"#bd3786\"],[0.5555555555555556,\"#d8576b\"],[0.6666666666666666,\"#ed7953\"],[0.7777777777777778,\"#fb9f3a\"],[0.8888888888888888,\"#fdca26\"],[1.0,\"#f0f921\"]]}],\"contourcarpet\":[{\"type\":\"contourcarpet\",\"colorbar\":{\"outlinewidth\":0,\"ticks\":\"\"}}],\"contour\":[{\"type\":\"contour\",\"colorbar\":{\"outlinewidth\":0,\"ticks\":\"\"},\"colorscale\":[[0.0,\"#0d0887\"],[0.1111111111111111,\"#46039f\"],[0.2222222222222222,\"#7201a8\"],[0.3333333333333333,\"#9c179e\"],[0.4444444444444444,\"#bd3786\"],[0.5555555555555556,\"#d8576b\"],[0.6666666666666666,\"#ed7953\"],[0.7777777777777778,\"#fb9f3a\"],[0.8888888888888888,\"#fdca26\"],[1.0,\"#f0f921\"]]}],\"surface\":[{\"type\":\"surface\",\"colorbar\":{\"outlinewidth\":0,\"ticks\":\"\"},\"colorscale\":[[0.0,\"#0d0887\"],[0.1111111111111111,\"#46039f\"],[0.2222222222222222,\"#7201a8\"],[0.3333333333333333,\"#9c179e\"],[0.4444444444444444,\"#bd3786\"],[0.5555555555555556,\"#d8576b\"],[0.6666666666666666,\"#ed7953\"],[0.7777777777777778,\"#fb9f3a\"],[0.8888888888888888,\"#fdca26\"],[1.0,\"#f0f921\"]]}],\"mesh3d\":[{\"type\":\"mesh3d\",\"colorbar\":{\"outlinewidth\":0,\"ticks\":\"\"}}],\"scatter\":[{\"fillpattern\":{\"fillmode\":\"overlay\",\"size\":10,\"solidity\":0.2},\"type\":\"scatter\"}],\"parcoords\":[{\"type\":\"parcoords\",\"line\":{\"colorbar\":{\"outlinewidth\":0,\"ticks\":\"\"}}}],\"scatterpolargl\":[{\"type\":\"scatterpolargl\",\"marker\":{\"colorbar\":{\"outlinewidth\":0,\"ticks\":\"\"}}}],\"bar\":[{\"error_x\":{\"color\":\"#2a3f5f\"},\"error_y\":{\"color\":\"#2a3f5f\"},\"marker\":{\"line\":{\"color\":\"#E5ECF6\",\"width\":0.5},\"pattern\":{\"fillmode\":\"overlay\",\"size\":10,\"solidity\":0.2}},\"type\":\"bar\"}],\"scattergeo\":[{\"type\":\"scattergeo\",\"marker\":{\"colorbar\":{\"outlinewidth\":0,\"ticks\":\"\"}}}],\"scatterpolar\":[{\"type\":\"scatterpolar\",\"marker\":{\"colorbar\":{\"outlinewidth\":0,\"ticks\":\"\"}}}],\"histogram\":[{\"marker\":{\"pattern\":{\"fillmode\":\"overlay\",\"size\":10,\"solidity\":0.2}},\"type\":\"histogram\"}],\"scattergl\":[{\"type\":\"scattergl\",\"marker\":{\"colorbar\":{\"outlinewidth\":0,\"ticks\":\"\"}}}],\"scatter3d\":[{\"type\":\"scatter3d\",\"line\":{\"colorbar\":{\"outlinewidth\":0,\"ticks\":\"\"}},\"marker\":{\"colorbar\":{\"outlinewidth\":0,\"ticks\":\"\"}}}],\"scattermapbox\":[{\"type\":\"scattermapbox\",\"marker\":{\"colorbar\":{\"outlinewidth\":0,\"ticks\":\"\"}}}],\"scatterternary\":[{\"type\":\"scatterternary\",\"marker\":{\"colorbar\":{\"outlinewidth\":0,\"ticks\":\"\"}}}],\"scattercarpet\":[{\"type\":\"scattercarpet\",\"marker\":{\"colorbar\":{\"outlinewidth\":0,\"ticks\":\"\"}}}],\"carpet\":[{\"aaxis\":{\"endlinecolor\":\"#2a3f5f\",\"gridcolor\":\"white\",\"linecolor\":\"white\",\"minorgridcolor\":\"white\",\"startlinecolor\":\"#2a3f5f\"},\"baxis\":{\"endlinecolor\":\"#2a3f5f\",\"gridcolor\":\"white\",\"linecolor\":\"white\",\"minorgridcolor\":\"white\",\"startlinecolor\":\"#2a3f5f\"},\"type\":\"carpet\"}],\"table\":[{\"cells\":{\"fill\":{\"color\":\"#EBF0F8\"},\"line\":{\"color\":\"white\"}},\"header\":{\"fill\":{\"color\":\"#C8D4E3\"},\"line\":{\"color\":\"white\"}},\"type\":\"table\"}],\"barpolar\":[{\"marker\":{\"line\":{\"color\":\"#E5ECF6\",\"width\":0.5},\"pattern\":{\"fillmode\":\"overlay\",\"size\":10,\"solidity\":0.2}},\"type\":\"barpolar\"}],\"pie\":[{\"automargin\":true,\"type\":\"pie\"}]},\"layout\":{\"autotypenumbers\":\"strict\",\"colorway\":[\"#636efa\",\"#EF553B\",\"#00cc96\",\"#ab63fa\",\"#FFA15A\",\"#19d3f3\",\"#FF6692\",\"#B6E880\",\"#FF97FF\",\"#FECB52\"],\"font\":{\"color\":\"#2a3f5f\"},\"hovermode\":\"closest\",\"hoverlabel\":{\"align\":\"left\"},\"paper_bgcolor\":\"white\",\"plot_bgcolor\":\"#E5ECF6\",\"polar\":{\"bgcolor\":\"#E5ECF6\",\"angularaxis\":{\"gridcolor\":\"white\",\"linecolor\":\"white\",\"ticks\":\"\"},\"radialaxis\":{\"gridcolor\":\"white\",\"linecolor\":\"white\",\"ticks\":\"\"}},\"ternary\":{\"bgcolor\":\"#E5ECF6\",\"aaxis\":{\"gridcolor\":\"white\",\"linecolor\":\"white\",\"ticks\":\"\"},\"baxis\":{\"gridcolor\":\"white\",\"linecolor\":\"white\",\"ticks\":\"\"},\"caxis\":{\"gridcolor\":\"white\",\"linecolor\":\"white\",\"ticks\":\"\"}},\"coloraxis\":{\"colorbar\":{\"outlinewidth\":0,\"ticks\":\"\"}},\"colorscale\":{\"sequential\":[[0.0,\"#0d0887\"],[0.1111111111111111,\"#46039f\"],[0.2222222222222222,\"#7201a8\"],[0.3333333333333333,\"#9c179e\"],[0.4444444444444444,\"#bd3786\"],[0.5555555555555556,\"#d8576b\"],[0.6666666666666666,\"#ed7953\"],[0.7777777777777778,\"#fb9f3a\"],[0.8888888888888888,\"#fdca26\"],[1.0,\"#f0f921\"]],\"sequentialminus\":[[0.0,\"#0d0887\"],[0.1111111111111111,\"#46039f\"],[0.2222222222222222,\"#7201a8\"],[0.3333333333333333,\"#9c179e\"],[0.4444444444444444,\"#bd3786\"],[0.5555555555555556,\"#d8576b\"],[0.6666666666666666,\"#ed7953\"],[0.7777777777777778,\"#fb9f3a\"],[0.8888888888888888,\"#fdca26\"],[1.0,\"#f0f921\"]],\"diverging\":[[0,\"#8e0152\"],[0.1,\"#c51b7d\"],[0.2,\"#de77ae\"],[0.3,\"#f1b6da\"],[0.4,\"#fde0ef\"],[0.5,\"#f7f7f7\"],[0.6,\"#e6f5d0\"],[0.7,\"#b8e186\"],[0.8,\"#7fbc41\"],[0.9,\"#4d9221\"],[1,\"#276419\"]]},\"xaxis\":{\"gridcolor\":\"white\",\"linecolor\":\"white\",\"ticks\":\"\",\"title\":{\"standoff\":15},\"zerolinecolor\":\"white\",\"automargin\":true,\"zerolinewidth\":2},\"yaxis\":{\"gridcolor\":\"white\",\"linecolor\":\"white\",\"ticks\":\"\",\"title\":{\"standoff\":15},\"zerolinecolor\":\"white\",\"automargin\":true,\"zerolinewidth\":2},\"scene\":{\"xaxis\":{\"backgroundcolor\":\"#E5ECF6\",\"gridcolor\":\"white\",\"linecolor\":\"white\",\"showbackground\":true,\"ticks\":\"\",\"zerolinecolor\":\"white\",\"gridwidth\":2},\"yaxis\":{\"backgroundcolor\":\"#E5ECF6\",\"gridcolor\":\"white\",\"linecolor\":\"white\",\"showbackground\":true,\"ticks\":\"\",\"zerolinecolor\":\"white\",\"gridwidth\":2},\"zaxis\":{\"backgroundcolor\":\"#E5ECF6\",\"gridcolor\":\"white\",\"linecolor\":\"white\",\"showbackground\":true,\"ticks\":\"\",\"zerolinecolor\":\"white\",\"gridwidth\":2}},\"shapedefaults\":{\"line\":{\"color\":\"#2a3f5f\"}},\"annotationdefaults\":{\"arrowcolor\":\"#2a3f5f\",\"arrowhead\":0,\"arrowwidth\":1},\"geo\":{\"bgcolor\":\"white\",\"landcolor\":\"#E5ECF6\",\"subunitcolor\":\"white\",\"showland\":true,\"showlakes\":true,\"lakecolor\":\"white\"},\"title\":{\"x\":0.05},\"mapbox\":{\"style\":\"light\"}}},\"xaxis\":{\"anchor\":\"y\",\"domain\":[0.0,1.0],\"title\":{\"text\":\"Date\"},\"showgrid\":false},\"yaxis\":{\"anchor\":\"x\",\"domain\":[0.0,1.0],\"title\":{\"text\":\"Stock price\"},\"showgrid\":false},\"legend\":{\"title\":{\"text\":\"Close Price\"},\"tracegroupgap\":0},\"margin\":{\"t\":60},\"title\":{\"text\":\"Comparison of original close price and predicted close price\"},\"font\":{\"size\":15,\"color\":\"black\"},\"plot_bgcolor\":\"white\"},                        {\"responsive\": true}                    ).then(function(){\n",
              "                            \n",
              "var gd = document.getElementById('ad8c98c8-d7a0-4c26-bfd4-02dc4010f250');\n",
              "var x = new MutationObserver(function (mutations, observer) {{\n",
              "        var display = window.getComputedStyle(gd).display;\n",
              "        if (!display || display === 'none') {{\n",
              "            console.log([gd, 'removed!']);\n",
              "            Plotly.purge(gd);\n",
              "            observer.disconnect();\n",
              "        }}\n",
              "}});\n",
              "\n",
              "// Listen for the removal of the full notebook cells\n",
              "var notebookContainer = gd.closest('#notebook-container');\n",
              "if (notebookContainer) {{\n",
              "    x.observe(notebookContainer, {childList: true});\n",
              "}}\n",
              "\n",
              "// Listen for the clearing of the current output cell\n",
              "var outputEl = gd.closest('.output');\n",
              "if (outputEl) {{\n",
              "    x.observe(outputEl, {childList: true});\n",
              "}}\n",
              "\n",
              "                        })                };                            </script>        </div>\n",
              "</body>\n",
              "</html>"
            ]
          },
          "metadata": {}
        }
      ]
    },
    {
      "cell_type": "markdown",
      "source": [
        "<a name=\"days\"></a>\n",
        "\n",
        "# Predicting next 30 days"
      ],
      "metadata": {
        "id": "lfJNXidPgz5J"
      }
    },
    {
      "cell_type": "code",
      "source": [
        "x_input=test_data[len(test_data)-time_step:].reshape(1,-1)\n",
        "temp_input=list(x_input)\n",
        "temp_input=temp_input[0].tolist()\n",
        "\n",
        "from numpy import array\n",
        "\n",
        "lst_output=[]\n",
        "n_steps=time_step\n",
        "i=0\n",
        "pred_days = 30\n",
        "while(i<pred_days):\n",
        "\n",
        "    if(len(temp_input)>time_step):\n",
        "\n",
        "        x_input=np.array(temp_input[1:])\n",
        "        #print(\"{} day input {}\".format(i,x_input))\n",
        "        x_input = x_input.reshape(1,-1)\n",
        "        x_input = x_input.reshape((1, n_steps, 1))\n",
        "\n",
        "        yhat = model.predict(x_input, verbose=0)\n",
        "        #print(\"{} day output {}\".format(i,yhat))\n",
        "        temp_input.extend(yhat[0].tolist())\n",
        "        temp_input=temp_input[1:]\n",
        "        #print(temp_input)\n",
        "\n",
        "        lst_output.extend(yhat.tolist())\n",
        "        i=i+1\n",
        "\n",
        "    else:\n",
        "\n",
        "        x_input = x_input.reshape((1, n_steps,1))\n",
        "        yhat = model.predict(x_input, verbose=0)\n",
        "        temp_input.extend(yhat[0].tolist())\n",
        "\n",
        "        lst_output.extend(yhat.tolist())\n",
        "        i=i+1\n",
        "\n",
        "print(\"Output of predicted next days: \", len(lst_output))"
      ],
      "metadata": {
        "execution": {
          "iopub.status.busy": "2021-08-16T08:13:12.202422Z",
          "iopub.execute_input": "2021-08-16T08:13:12.203204Z",
          "iopub.status.idle": "2021-08-16T08:13:13.423648Z",
          "shell.execute_reply.started": "2021-08-16T08:13:12.203161Z",
          "shell.execute_reply": "2021-08-16T08:13:13.422750Z"
        },
        "trusted": true,
        "id": "pUWr4qKqgz5J",
        "colab": {
          "base_uri": "https://localhost:8080/"
        },
        "outputId": "0c2c92f5-1d4f-4d29-89e0-8e5e89e58b84"
      },
      "execution_count": null,
      "outputs": [
        {
          "output_type": "stream",
          "name": "stdout",
          "text": [
            "Output of predicted next days:  30\n"
          ]
        }
      ]
    },
    {
      "cell_type": "markdown",
      "source": [
        "<a name=\"pdays\"></a>\n",
        "\n",
        "### Plotting last 15 days of dataset and next predicted 30 days"
      ],
      "metadata": {
        "id": "XM1vUcRpgz5K"
      }
    },
    {
      "cell_type": "code",
      "source": [
        "last_days=np.arange(1,time_step+1)\n",
        "day_pred=np.arange(time_step+1,time_step+pred_days+1)\n",
        "print(last_days)\n",
        "print(day_pred)"
      ],
      "metadata": {
        "execution": {
          "iopub.status.busy": "2021-08-16T08:13:13.424697Z",
          "iopub.execute_input": "2021-08-16T08:13:13.425155Z",
          "iopub.status.idle": "2021-08-16T08:13:13.432608Z",
          "shell.execute_reply.started": "2021-08-16T08:13:13.425120Z",
          "shell.execute_reply": "2021-08-16T08:13:13.431426Z"
        },
        "trusted": true,
        "id": "Odo8Yvs7gz5K",
        "colab": {
          "base_uri": "https://localhost:8080/"
        },
        "outputId": "590c1d47-b318-4e4f-a275-af32f06bc587"
      },
      "execution_count": null,
      "outputs": [
        {
          "output_type": "stream",
          "name": "stdout",
          "text": [
            "[ 1  2  3  4  5  6  7  8  9 10 11 12 13 14 15]\n",
            "[16 17 18 19 20 21 22 23 24 25 26 27 28 29 30 31 32 33 34 35 36 37 38 39\n",
            " 40 41 42 43 44 45]\n"
          ]
        }
      ]
    },
    {
      "cell_type": "code",
      "source": [
        "temp_mat = np.empty((len(last_days)+pred_days+1,1))\n",
        "temp_mat[:] = np.nan\n",
        "temp_mat = temp_mat.reshape(1,-1).tolist()[0]\n",
        "\n",
        "last_original_days_value = temp_mat\n",
        "next_predicted_days_value = temp_mat\n",
        "\n",
        "last_original_days_value[0:time_step+1] = scaler.inverse_transform(closedf[len(closedf)-time_step:]).reshape(1,-1).tolist()[0]\n",
        "next_predicted_days_value[time_step+1:] = scaler.inverse_transform(np.array(lst_output).reshape(-1,1)).reshape(1,-1).tolist()[0]\n",
        "\n",
        "new_pred_plot = pd.DataFrame({\n",
        "    'last_original_days_value':last_original_days_value,\n",
        "    'next_predicted_days_value':next_predicted_days_value\n",
        "})\n",
        "\n",
        "names = cycle(['Last 15 days close price','Predicted next 30 days close price'])\n",
        "\n",
        "fig = px.line(new_pred_plot,x=new_pred_plot.index, y=[new_pred_plot['last_original_days_value'],\n",
        "                                                      new_pred_plot['next_predicted_days_value']],\n",
        "              labels={'value': 'Stock price','index': 'Timestamp'})\n",
        "fig.update_layout(title_text='Compare last 15 days vs next 30 days',\n",
        "                  plot_bgcolor='white', font_size=15, font_color='black',legend_title_text='Close Price')\n",
        "\n",
        "fig.for_each_trace(lambda t:  t.update(name = next(names)))\n",
        "fig.update_xaxes(showgrid=False)\n",
        "fig.update_yaxes(showgrid=False)\n",
        "fig.show()"
      ],
      "metadata": {
        "execution": {
          "iopub.status.busy": "2021-08-16T08:13:13.434212Z",
          "iopub.execute_input": "2021-08-16T08:13:13.434875Z",
          "iopub.status.idle": "2021-08-16T08:13:13.535134Z",
          "shell.execute_reply.started": "2021-08-16T08:13:13.434832Z",
          "shell.execute_reply": "2021-08-16T08:13:13.533748Z"
        },
        "trusted": true,
        "id": "TfqSpvQagz5L",
        "colab": {
          "base_uri": "https://localhost:8080/",
          "height": 542
        },
        "outputId": "d3712cb2-06ce-4ae6-c4de-a0d72df50bf2"
      },
      "execution_count": null,
      "outputs": [
        {
          "output_type": "display_data",
          "data": {
            "text/html": [
              "<html>\n",
              "<head><meta charset=\"utf-8\" /></head>\n",
              "<body>\n",
              "    <div>            <script src=\"https://cdnjs.cloudflare.com/ajax/libs/mathjax/2.7.5/MathJax.js?config=TeX-AMS-MML_SVG\"></script><script type=\"text/javascript\">if (window.MathJax && window.MathJax.Hub && window.MathJax.Hub.Config) {window.MathJax.Hub.Config({SVG: {font: \"STIX-Web\"}});}</script>                <script type=\"text/javascript\">window.PlotlyConfig = {MathJaxConfig: 'local'};</script>\n",
              "        <script src=\"https://cdn.plot.ly/plotly-2.18.2.min.js\"></script>                <div id=\"52c87a55-0b8f-4424-9ac4-d08cbea2b0e6\" class=\"plotly-graph-div\" style=\"height:525px; width:100%;\"></div>            <script type=\"text/javascript\">                                    window.PLOTLYENV=window.PLOTLYENV || {};                                    if (document.getElementById(\"52c87a55-0b8f-4424-9ac4-d08cbea2b0e6\")) {                    Plotly.newPlot(                        \"52c87a55-0b8f-4424-9ac4-d08cbea2b0e6\",                        [{\"hovertemplate\":\"variable=last_original_days_value<br>Timestamp=%{x}<br>Stock price=%{y}<extra></extra>\",\"legendgroup\":\"last_original_days_value\",\"line\":{\"color\":\"#636efa\",\"dash\":\"solid\"},\"marker\":{\"symbol\":\"circle\"},\"mode\":\"lines\",\"name\":\"Last 15 days close price\",\"orientation\":\"v\",\"showlegend\":true,\"x\":[0,1,2,3,4,5,6,7,8,9,10,11,12,13,14,15,16,17,18,19,20,21,22,23,24,25,26,27,28,29,30,31,32,33,34,35,36,37,38,39,40,41,42,43,44,45],\"xaxis\":\"x\",\"y\":[107.540001,108.919998,108.72000100000001,108.72000100000001,108.400002,99.410004,100.080002,99.56999999999998,100.139999,102.5,103.379997,104.040001,102.599998,102.77999899999999,104.459999,null,103.92533212718946,103.55602296494723,103.27746096887743,103.03390243373698,102.78538473897845,102.52097686275596,102.23664933965051,101.93495408537186,101.61699155427809,101.28340684030324,100.93499682418943,100.57165478083725,100.1932455251208,99.79880853114564,99.3881777820905,98.96180152337277,98.51912952781345,98.05985822179646,97.58382633183831,97.09096270787275,96.58126972156865,96.05485172635652,95.51190557075299,94.95273482837409,94.3777830012995,93.78763352007253,93.1830097437001,92.56479867634154,91.93405096730858,91.29198328273422],\"yaxis\":\"y\",\"type\":\"scatter\"},{\"hovertemplate\":\"variable=next_predicted_days_value<br>Timestamp=%{x}<br>Stock price=%{y}<extra></extra>\",\"legendgroup\":\"next_predicted_days_value\",\"line\":{\"color\":\"#EF553B\",\"dash\":\"solid\"},\"marker\":{\"symbol\":\"circle\"},\"mode\":\"lines\",\"name\":\"Predicted next 30 days close price\",\"orientation\":\"v\",\"showlegend\":true,\"x\":[0,1,2,3,4,5,6,7,8,9,10,11,12,13,14,15,16,17,18,19,20,21,22,23,24,25,26,27,28,29,30,31,32,33,34,35,36,37,38,39,40,41,42,43,44,45],\"xaxis\":\"x\",\"y\":[107.540001,108.919998,108.72000100000001,108.72000100000001,108.400002,99.410004,100.080002,99.56999999999998,100.139999,102.5,103.379997,104.040001,102.599998,102.77999899999999,104.459999,null,103.92533212718946,103.55602296494723,103.27746096887743,103.03390243373698,102.78538473897845,102.52097686275596,102.23664933965051,101.93495408537186,101.61699155427809,101.28340684030324,100.93499682418943,100.57165478083725,100.1932455251208,99.79880853114564,99.3881777820905,98.96180152337277,98.51912952781345,98.05985822179646,97.58382633183831,97.09096270787275,96.58126972156865,96.05485172635652,95.51190557075299,94.95273482837409,94.3777830012995,93.78763352007253,93.1830097437001,92.56479867634154,91.93405096730858,91.29198328273422],\"yaxis\":\"y\",\"type\":\"scatter\"}],                        {\"template\":{\"data\":{\"histogram2dcontour\":[{\"type\":\"histogram2dcontour\",\"colorbar\":{\"outlinewidth\":0,\"ticks\":\"\"},\"colorscale\":[[0.0,\"#0d0887\"],[0.1111111111111111,\"#46039f\"],[0.2222222222222222,\"#7201a8\"],[0.3333333333333333,\"#9c179e\"],[0.4444444444444444,\"#bd3786\"],[0.5555555555555556,\"#d8576b\"],[0.6666666666666666,\"#ed7953\"],[0.7777777777777778,\"#fb9f3a\"],[0.8888888888888888,\"#fdca26\"],[1.0,\"#f0f921\"]]}],\"choropleth\":[{\"type\":\"choropleth\",\"colorbar\":{\"outlinewidth\":0,\"ticks\":\"\"}}],\"histogram2d\":[{\"type\":\"histogram2d\",\"colorbar\":{\"outlinewidth\":0,\"ticks\":\"\"},\"colorscale\":[[0.0,\"#0d0887\"],[0.1111111111111111,\"#46039f\"],[0.2222222222222222,\"#7201a8\"],[0.3333333333333333,\"#9c179e\"],[0.4444444444444444,\"#bd3786\"],[0.5555555555555556,\"#d8576b\"],[0.6666666666666666,\"#ed7953\"],[0.7777777777777778,\"#fb9f3a\"],[0.8888888888888888,\"#fdca26\"],[1.0,\"#f0f921\"]]}],\"heatmap\":[{\"type\":\"heatmap\",\"colorbar\":{\"outlinewidth\":0,\"ticks\":\"\"},\"colorscale\":[[0.0,\"#0d0887\"],[0.1111111111111111,\"#46039f\"],[0.2222222222222222,\"#7201a8\"],[0.3333333333333333,\"#9c179e\"],[0.4444444444444444,\"#bd3786\"],[0.5555555555555556,\"#d8576b\"],[0.6666666666666666,\"#ed7953\"],[0.7777777777777778,\"#fb9f3a\"],[0.8888888888888888,\"#fdca26\"],[1.0,\"#f0f921\"]]}],\"heatmapgl\":[{\"type\":\"heatmapgl\",\"colorbar\":{\"outlinewidth\":0,\"ticks\":\"\"},\"colorscale\":[[0.0,\"#0d0887\"],[0.1111111111111111,\"#46039f\"],[0.2222222222222222,\"#7201a8\"],[0.3333333333333333,\"#9c179e\"],[0.4444444444444444,\"#bd3786\"],[0.5555555555555556,\"#d8576b\"],[0.6666666666666666,\"#ed7953\"],[0.7777777777777778,\"#fb9f3a\"],[0.8888888888888888,\"#fdca26\"],[1.0,\"#f0f921\"]]}],\"contourcarpet\":[{\"type\":\"contourcarpet\",\"colorbar\":{\"outlinewidth\":0,\"ticks\":\"\"}}],\"contour\":[{\"type\":\"contour\",\"colorbar\":{\"outlinewidth\":0,\"ticks\":\"\"},\"colorscale\":[[0.0,\"#0d0887\"],[0.1111111111111111,\"#46039f\"],[0.2222222222222222,\"#7201a8\"],[0.3333333333333333,\"#9c179e\"],[0.4444444444444444,\"#bd3786\"],[0.5555555555555556,\"#d8576b\"],[0.6666666666666666,\"#ed7953\"],[0.7777777777777778,\"#fb9f3a\"],[0.8888888888888888,\"#fdca26\"],[1.0,\"#f0f921\"]]}],\"surface\":[{\"type\":\"surface\",\"colorbar\":{\"outlinewidth\":0,\"ticks\":\"\"},\"colorscale\":[[0.0,\"#0d0887\"],[0.1111111111111111,\"#46039f\"],[0.2222222222222222,\"#7201a8\"],[0.3333333333333333,\"#9c179e\"],[0.4444444444444444,\"#bd3786\"],[0.5555555555555556,\"#d8576b\"],[0.6666666666666666,\"#ed7953\"],[0.7777777777777778,\"#fb9f3a\"],[0.8888888888888888,\"#fdca26\"],[1.0,\"#f0f921\"]]}],\"mesh3d\":[{\"type\":\"mesh3d\",\"colorbar\":{\"outlinewidth\":0,\"ticks\":\"\"}}],\"scatter\":[{\"fillpattern\":{\"fillmode\":\"overlay\",\"size\":10,\"solidity\":0.2},\"type\":\"scatter\"}],\"parcoords\":[{\"type\":\"parcoords\",\"line\":{\"colorbar\":{\"outlinewidth\":0,\"ticks\":\"\"}}}],\"scatterpolargl\":[{\"type\":\"scatterpolargl\",\"marker\":{\"colorbar\":{\"outlinewidth\":0,\"ticks\":\"\"}}}],\"bar\":[{\"error_x\":{\"color\":\"#2a3f5f\"},\"error_y\":{\"color\":\"#2a3f5f\"},\"marker\":{\"line\":{\"color\":\"#E5ECF6\",\"width\":0.5},\"pattern\":{\"fillmode\":\"overlay\",\"size\":10,\"solidity\":0.2}},\"type\":\"bar\"}],\"scattergeo\":[{\"type\":\"scattergeo\",\"marker\":{\"colorbar\":{\"outlinewidth\":0,\"ticks\":\"\"}}}],\"scatterpolar\":[{\"type\":\"scatterpolar\",\"marker\":{\"colorbar\":{\"outlinewidth\":0,\"ticks\":\"\"}}}],\"histogram\":[{\"marker\":{\"pattern\":{\"fillmode\":\"overlay\",\"size\":10,\"solidity\":0.2}},\"type\":\"histogram\"}],\"scattergl\":[{\"type\":\"scattergl\",\"marker\":{\"colorbar\":{\"outlinewidth\":0,\"ticks\":\"\"}}}],\"scatter3d\":[{\"type\":\"scatter3d\",\"line\":{\"colorbar\":{\"outlinewidth\":0,\"ticks\":\"\"}},\"marker\":{\"colorbar\":{\"outlinewidth\":0,\"ticks\":\"\"}}}],\"scattermapbox\":[{\"type\":\"scattermapbox\",\"marker\":{\"colorbar\":{\"outlinewidth\":0,\"ticks\":\"\"}}}],\"scatterternary\":[{\"type\":\"scatterternary\",\"marker\":{\"colorbar\":{\"outlinewidth\":0,\"ticks\":\"\"}}}],\"scattercarpet\":[{\"type\":\"scattercarpet\",\"marker\":{\"colorbar\":{\"outlinewidth\":0,\"ticks\":\"\"}}}],\"carpet\":[{\"aaxis\":{\"endlinecolor\":\"#2a3f5f\",\"gridcolor\":\"white\",\"linecolor\":\"white\",\"minorgridcolor\":\"white\",\"startlinecolor\":\"#2a3f5f\"},\"baxis\":{\"endlinecolor\":\"#2a3f5f\",\"gridcolor\":\"white\",\"linecolor\":\"white\",\"minorgridcolor\":\"white\",\"startlinecolor\":\"#2a3f5f\"},\"type\":\"carpet\"}],\"table\":[{\"cells\":{\"fill\":{\"color\":\"#EBF0F8\"},\"line\":{\"color\":\"white\"}},\"header\":{\"fill\":{\"color\":\"#C8D4E3\"},\"line\":{\"color\":\"white\"}},\"type\":\"table\"}],\"barpolar\":[{\"marker\":{\"line\":{\"color\":\"#E5ECF6\",\"width\":0.5},\"pattern\":{\"fillmode\":\"overlay\",\"size\":10,\"solidity\":0.2}},\"type\":\"barpolar\"}],\"pie\":[{\"automargin\":true,\"type\":\"pie\"}]},\"layout\":{\"autotypenumbers\":\"strict\",\"colorway\":[\"#636efa\",\"#EF553B\",\"#00cc96\",\"#ab63fa\",\"#FFA15A\",\"#19d3f3\",\"#FF6692\",\"#B6E880\",\"#FF97FF\",\"#FECB52\"],\"font\":{\"color\":\"#2a3f5f\"},\"hovermode\":\"closest\",\"hoverlabel\":{\"align\":\"left\"},\"paper_bgcolor\":\"white\",\"plot_bgcolor\":\"#E5ECF6\",\"polar\":{\"bgcolor\":\"#E5ECF6\",\"angularaxis\":{\"gridcolor\":\"white\",\"linecolor\":\"white\",\"ticks\":\"\"},\"radialaxis\":{\"gridcolor\":\"white\",\"linecolor\":\"white\",\"ticks\":\"\"}},\"ternary\":{\"bgcolor\":\"#E5ECF6\",\"aaxis\":{\"gridcolor\":\"white\",\"linecolor\":\"white\",\"ticks\":\"\"},\"baxis\":{\"gridcolor\":\"white\",\"linecolor\":\"white\",\"ticks\":\"\"},\"caxis\":{\"gridcolor\":\"white\",\"linecolor\":\"white\",\"ticks\":\"\"}},\"coloraxis\":{\"colorbar\":{\"outlinewidth\":0,\"ticks\":\"\"}},\"colorscale\":{\"sequential\":[[0.0,\"#0d0887\"],[0.1111111111111111,\"#46039f\"],[0.2222222222222222,\"#7201a8\"],[0.3333333333333333,\"#9c179e\"],[0.4444444444444444,\"#bd3786\"],[0.5555555555555556,\"#d8576b\"],[0.6666666666666666,\"#ed7953\"],[0.7777777777777778,\"#fb9f3a\"],[0.8888888888888888,\"#fdca26\"],[1.0,\"#f0f921\"]],\"sequentialminus\":[[0.0,\"#0d0887\"],[0.1111111111111111,\"#46039f\"],[0.2222222222222222,\"#7201a8\"],[0.3333333333333333,\"#9c179e\"],[0.4444444444444444,\"#bd3786\"],[0.5555555555555556,\"#d8576b\"],[0.6666666666666666,\"#ed7953\"],[0.7777777777777778,\"#fb9f3a\"],[0.8888888888888888,\"#fdca26\"],[1.0,\"#f0f921\"]],\"diverging\":[[0,\"#8e0152\"],[0.1,\"#c51b7d\"],[0.2,\"#de77ae\"],[0.3,\"#f1b6da\"],[0.4,\"#fde0ef\"],[0.5,\"#f7f7f7\"],[0.6,\"#e6f5d0\"],[0.7,\"#b8e186\"],[0.8,\"#7fbc41\"],[0.9,\"#4d9221\"],[1,\"#276419\"]]},\"xaxis\":{\"gridcolor\":\"white\",\"linecolor\":\"white\",\"ticks\":\"\",\"title\":{\"standoff\":15},\"zerolinecolor\":\"white\",\"automargin\":true,\"zerolinewidth\":2},\"yaxis\":{\"gridcolor\":\"white\",\"linecolor\":\"white\",\"ticks\":\"\",\"title\":{\"standoff\":15},\"zerolinecolor\":\"white\",\"automargin\":true,\"zerolinewidth\":2},\"scene\":{\"xaxis\":{\"backgroundcolor\":\"#E5ECF6\",\"gridcolor\":\"white\",\"linecolor\":\"white\",\"showbackground\":true,\"ticks\":\"\",\"zerolinecolor\":\"white\",\"gridwidth\":2},\"yaxis\":{\"backgroundcolor\":\"#E5ECF6\",\"gridcolor\":\"white\",\"linecolor\":\"white\",\"showbackground\":true,\"ticks\":\"\",\"zerolinecolor\":\"white\",\"gridwidth\":2},\"zaxis\":{\"backgroundcolor\":\"#E5ECF6\",\"gridcolor\":\"white\",\"linecolor\":\"white\",\"showbackground\":true,\"ticks\":\"\",\"zerolinecolor\":\"white\",\"gridwidth\":2}},\"shapedefaults\":{\"line\":{\"color\":\"#2a3f5f\"}},\"annotationdefaults\":{\"arrowcolor\":\"#2a3f5f\",\"arrowhead\":0,\"arrowwidth\":1},\"geo\":{\"bgcolor\":\"white\",\"landcolor\":\"#E5ECF6\",\"subunitcolor\":\"white\",\"showland\":true,\"showlakes\":true,\"lakecolor\":\"white\"},\"title\":{\"x\":0.05},\"mapbox\":{\"style\":\"light\"}}},\"xaxis\":{\"anchor\":\"y\",\"domain\":[0.0,1.0],\"title\":{\"text\":\"Timestamp\"},\"showgrid\":false},\"yaxis\":{\"anchor\":\"x\",\"domain\":[0.0,1.0],\"title\":{\"text\":\"Stock price\"},\"showgrid\":false},\"legend\":{\"title\":{\"text\":\"Close Price\"},\"tracegroupgap\":0},\"margin\":{\"t\":60},\"title\":{\"text\":\"Compare last 15 days vs next 30 days\"},\"font\":{\"size\":15,\"color\":\"black\"},\"plot_bgcolor\":\"white\"},                        {\"responsive\": true}                    ).then(function(){\n",
              "                            \n",
              "var gd = document.getElementById('52c87a55-0b8f-4424-9ac4-d08cbea2b0e6');\n",
              "var x = new MutationObserver(function (mutations, observer) {{\n",
              "        var display = window.getComputedStyle(gd).display;\n",
              "        if (!display || display === 'none') {{\n",
              "            console.log([gd, 'removed!']);\n",
              "            Plotly.purge(gd);\n",
              "            observer.disconnect();\n",
              "        }}\n",
              "}});\n",
              "\n",
              "// Listen for the removal of the full notebook cells\n",
              "var notebookContainer = gd.closest('#notebook-container');\n",
              "if (notebookContainer) {{\n",
              "    x.observe(notebookContainer, {childList: true});\n",
              "}}\n",
              "\n",
              "// Listen for the clearing of the current output cell\n",
              "var outputEl = gd.closest('.output');\n",
              "if (outputEl) {{\n",
              "    x.observe(outputEl, {childList: true});\n",
              "}}\n",
              "\n",
              "                        })                };                            </script>        </div>\n",
              "</body>\n",
              "</html>"
            ]
          },
          "metadata": {}
        }
      ]
    },
    {
      "cell_type": "markdown",
      "source": [
        "<a name=\"pwhole\"></a>\n",
        "\n",
        "### Plotting entire Closing Stock Price with next 30 days period of prediction"
      ],
      "metadata": {
        "id": "X3PS_ukjgz5L"
      }
    },
    {
      "cell_type": "code",
      "source": [
        "lstmdf=closedf.tolist()\n",
        "lstmdf.extend((np.array(lst_output).reshape(-1,1)).tolist())\n",
        "lstmdf=scaler.inverse_transform(lstmdf).reshape(1,-1).tolist()[0]\n",
        "\n",
        "names = cycle(['Close price'])\n",
        "\n",
        "fig = px.line(lstmdf,labels={'value': 'Stock price','index': 'Timestamp'})\n",
        "fig.update_layout(title_text='Plotting whole closing stock price with prediction',\n",
        "                  plot_bgcolor='white', font_size=15, font_color='black',legend_title_text='Stock')\n",
        "\n",
        "fig.for_each_trace(lambda t:  t.update(name = next(names)))\n",
        "\n",
        "fig.update_xaxes(showgrid=False)\n",
        "fig.update_yaxes(showgrid=False)\n",
        "fig.show()"
      ],
      "metadata": {
        "execution": {
          "iopub.status.busy": "2021-08-16T08:13:13.536835Z",
          "iopub.execute_input": "2021-08-16T08:13:13.537471Z",
          "iopub.status.idle": "2021-08-16T08:13:13.630151Z",
          "shell.execute_reply.started": "2021-08-16T08:13:13.537423Z",
          "shell.execute_reply": "2021-08-16T08:13:13.629155Z"
        },
        "trusted": true,
        "id": "rPQ4Y9AWgz5L",
        "colab": {
          "base_uri": "https://localhost:8080/",
          "height": 542
        },
        "outputId": "11ae381a-6ac5-4095-ad77-519ab0d0fbe3"
      },
      "execution_count": null,
      "outputs": [
        {
          "output_type": "display_data",
          "data": {
            "text/html": [
              "<html>\n",
              "<head><meta charset=\"utf-8\" /></head>\n",
              "<body>\n",
              "    <div>            <script src=\"https://cdnjs.cloudflare.com/ajax/libs/mathjax/2.7.5/MathJax.js?config=TeX-AMS-MML_SVG\"></script><script type=\"text/javascript\">if (window.MathJax && window.MathJax.Hub && window.MathJax.Hub.Config) {window.MathJax.Hub.Config({SVG: {font: \"STIX-Web\"}});}</script>                <script type=\"text/javascript\">window.PlotlyConfig = {MathJaxConfig: 'local'};</script>\n",
              "        <script src=\"https://cdn.plot.ly/plotly-2.18.2.min.js\"></script>                <div id=\"00b19d7e-7628-4882-86fe-a1727497f248\" class=\"plotly-graph-div\" style=\"height:525px; width:100%;\"></div>            <script type=\"text/javascript\">                                    window.PLOTLYENV=window.PLOTLYENV || {};                                    if (document.getElementById(\"00b19d7e-7628-4882-86fe-a1727497f248\")) {                    Plotly.newPlot(                        \"00b19d7e-7628-4882-86fe-a1727497f248\",                        [{\"hovertemplate\":\"variable=0<br>Timestamp=%{x}<br>Stock price=%{y}<extra></extra>\",\"legendgroup\":\"0\",\"line\":{\"color\":\"#636efa\",\"dash\":\"solid\"},\"marker\":{\"symbol\":\"circle\"},\"mode\":\"lines\",\"name\":\"Close price\",\"orientation\":\"v\",\"showlegend\":true,\"x\":[0,1,2,3,4,5,6,7,8,9,10,11,12,13,14,15,16,17,18,19,20,21,22,23,24,25,26,27,28,29,30,31,32,33,34,35,36,37,38,39,40,41,42,43,44,45,46,47,48,49,50,51,52,53,54,55,56,57,58,59,60,61,62,63,64,65,66,67,68,69,70,71,72,73,74,75,76,77,78,79,80,81,82,83,84,85,86,87,88,89,90,91,92,93,94,95,96,97,98,99,100,101,102,103,104,105,106,107,108,109,110,111,112,113,114,115,116,117,118,119,120,121,122,123,124,125,126,127,128,129,130,131,132,133,134,135,136,137,138,139,140,141,142,143,144,145,146,147,148,149,150,151,152,153,154,155,156,157,158,159,160,161,162,163,164,165,166,167,168,169,170,171,172,173,174,175,176,177,178,179,180,181,182,183,184,185,186,187,188,189,190,191,192,193,194,195,196,197,198,199,200,201,202,203,204,205,206,207,208,209,210,211,212,213,214,215,216,217,218,219,220,221,222,223,224,225,226,227,228,229,230,231,232,233,234,235,236,237,238,239,240,241,242,243,244,245,246,247,248,249,250,251,252,253,254,255,256,257,258,259,260,261,262,263,264,265,266,267,268,269,270,271,272,273,274,275,276,277,278,279,280,281,282],\"xaxis\":\"x\",\"y\":[80.629997,82.330002,82.330002,82.330002,83.580002,82.589996,83.5,82.660004,80.54000100000002,77.970001,77.610001,79.540001,77.150002,77.599998,78.720001,79.660004,78.160004,74.900002,74.940002,75.730003,76.480003,74.519997,73.459999,73.760002,72.790001,71.5,71.370003,74.779999,76.040001,73.790001,73.790001,72.459999,72.220001,75.120003,76.0,78.129997,77.529999,76.889999,77.099998,77.970001,76.080002,76.580002,78.43,79.480003,79.889999,81.080002,76.57,76.269997,76.610001,78.099998,77.089996,77.989998,77.709999,78.550003,78.120003,79.25,77.290001,77.889999,75.809998,73.019997,74.519997,74.139999,74.470001,73.120003,73.510002,73.809998,73.470001,72.809998,75.110001,72.440002,72.82,74.07,72.949997,73.510002,75.779999,74.860001,74.650002,74.68,74.389999,75.699997,75.07,75.25,74.169998,71.379997,72.160004,71.760002,71.580002,69.129997,69.989998,70.730003,72.849998,71.470001,71.970001,71.699997,72.029999,72.379997,73.169998,74.239998,75.019997,76.529999,77.620003,77.660004,77.529999,77.43,77.910004,78.220001,79.07,79.57,79.559998,79.519997,80.279999,80.23999800000001,76.5,79.800003,81.02999900000002,80.489998,80.25,82.849998,84.239998,85.029999,85.18,82.52999900000002,82.269997,84.150002,83.599998,84.099998,83.769997,84.010002,83.959999,83.440002,84.75,86.309998,85.13999900000002,85.260002,85.86000100000001,85.190002,84.559998,82.959999,84.540001,84.43,84.010002,83.849998,82.800003,82.62000299999998,83.620003,83.349998,84.150002,83.300003,83.5,83.650002,83.260002,83.830002,83.379997,85.80000300000002,85.830002,87.879997,88.949997,89.529999,89.980003,90.519997,91.779999,93.220001,91.73999800000001,91.839996,91.980003,91.43,90.019997,89.97000100000001,91.529999,91.790001,91.790001,92.349998,92.349998,91.480003,93.230003,95.269997,97.79000100000002,97.58000199999998,97.05999800000001,97.400002,97.57,99.459999,97.769997,97.610001,97.739998,99.18,99.239998,99.75,99.669998,98.699997,98.43,99.65000199999999,97.19000199999999,98.160004,97.75,99.33999600000001,99.349998,101.480003,101.459999,101.0,100.959999,99.529999,98.330002,94.639999,95.599998,94.690002,95.769997,94.849998,95.610001,97.339996,98.19999700000001,98.83000200000001,97.760002,98.650002,98.790001,98.93000000000002,100.68,100.940002,100.739998,101.339996,99.089996,98.620003,102.68,102.32000000000001,103.68,103.199997,104.099998,103.779999,100.019997,100.599998,101.160004,101.44000199999999,101.0,100.639999,101.44000199999999,100.580002,101.019997,103.800003,107.540001,108.919998,108.72000100000001,108.72000100000001,108.400002,99.410004,100.080002,99.56999999999998,100.139999,102.5,103.379997,104.040001,102.599998,102.77999899999999,104.459999,103.92533212718946,103.55602296494723,103.27746096887743,103.03390243373698,102.78538473897845,102.52097686275596,102.23664933965051,101.93495408537186,101.61699155427809,101.28340684030324,100.93499682418943,100.57165478083725,100.1932455251208,99.79880853114564,99.3881777820905,98.96180152337277,98.51912952781345,98.05985822179646,97.58382633183831,97.09096270787275,96.58126972156865,96.05485172635652,95.51190557075299,94.95273482837409,94.3777830012995,93.78763352007253,93.1830097437001,92.56479867634154,91.93405096730858,91.29198328273422],\"yaxis\":\"y\",\"type\":\"scatter\"}],                        {\"template\":{\"data\":{\"histogram2dcontour\":[{\"type\":\"histogram2dcontour\",\"colorbar\":{\"outlinewidth\":0,\"ticks\":\"\"},\"colorscale\":[[0.0,\"#0d0887\"],[0.1111111111111111,\"#46039f\"],[0.2222222222222222,\"#7201a8\"],[0.3333333333333333,\"#9c179e\"],[0.4444444444444444,\"#bd3786\"],[0.5555555555555556,\"#d8576b\"],[0.6666666666666666,\"#ed7953\"],[0.7777777777777778,\"#fb9f3a\"],[0.8888888888888888,\"#fdca26\"],[1.0,\"#f0f921\"]]}],\"choropleth\":[{\"type\":\"choropleth\",\"colorbar\":{\"outlinewidth\":0,\"ticks\":\"\"}}],\"histogram2d\":[{\"type\":\"histogram2d\",\"colorbar\":{\"outlinewidth\":0,\"ticks\":\"\"},\"colorscale\":[[0.0,\"#0d0887\"],[0.1111111111111111,\"#46039f\"],[0.2222222222222222,\"#7201a8\"],[0.3333333333333333,\"#9c179e\"],[0.4444444444444444,\"#bd3786\"],[0.5555555555555556,\"#d8576b\"],[0.6666666666666666,\"#ed7953\"],[0.7777777777777778,\"#fb9f3a\"],[0.8888888888888888,\"#fdca26\"],[1.0,\"#f0f921\"]]}],\"heatmap\":[{\"type\":\"heatmap\",\"colorbar\":{\"outlinewidth\":0,\"ticks\":\"\"},\"colorscale\":[[0.0,\"#0d0887\"],[0.1111111111111111,\"#46039f\"],[0.2222222222222222,\"#7201a8\"],[0.3333333333333333,\"#9c179e\"],[0.4444444444444444,\"#bd3786\"],[0.5555555555555556,\"#d8576b\"],[0.6666666666666666,\"#ed7953\"],[0.7777777777777778,\"#fb9f3a\"],[0.8888888888888888,\"#fdca26\"],[1.0,\"#f0f921\"]]}],\"heatmapgl\":[{\"type\":\"heatmapgl\",\"colorbar\":{\"outlinewidth\":0,\"ticks\":\"\"},\"colorscale\":[[0.0,\"#0d0887\"],[0.1111111111111111,\"#46039f\"],[0.2222222222222222,\"#7201a8\"],[0.3333333333333333,\"#9c179e\"],[0.4444444444444444,\"#bd3786\"],[0.5555555555555556,\"#d8576b\"],[0.6666666666666666,\"#ed7953\"],[0.7777777777777778,\"#fb9f3a\"],[0.8888888888888888,\"#fdca26\"],[1.0,\"#f0f921\"]]}],\"contourcarpet\":[{\"type\":\"contourcarpet\",\"colorbar\":{\"outlinewidth\":0,\"ticks\":\"\"}}],\"contour\":[{\"type\":\"contour\",\"colorbar\":{\"outlinewidth\":0,\"ticks\":\"\"},\"colorscale\":[[0.0,\"#0d0887\"],[0.1111111111111111,\"#46039f\"],[0.2222222222222222,\"#7201a8\"],[0.3333333333333333,\"#9c179e\"],[0.4444444444444444,\"#bd3786\"],[0.5555555555555556,\"#d8576b\"],[0.6666666666666666,\"#ed7953\"],[0.7777777777777778,\"#fb9f3a\"],[0.8888888888888888,\"#fdca26\"],[1.0,\"#f0f921\"]]}],\"surface\":[{\"type\":\"surface\",\"colorbar\":{\"outlinewidth\":0,\"ticks\":\"\"},\"colorscale\":[[0.0,\"#0d0887\"],[0.1111111111111111,\"#46039f\"],[0.2222222222222222,\"#7201a8\"],[0.3333333333333333,\"#9c179e\"],[0.4444444444444444,\"#bd3786\"],[0.5555555555555556,\"#d8576b\"],[0.6666666666666666,\"#ed7953\"],[0.7777777777777778,\"#fb9f3a\"],[0.8888888888888888,\"#fdca26\"],[1.0,\"#f0f921\"]]}],\"mesh3d\":[{\"type\":\"mesh3d\",\"colorbar\":{\"outlinewidth\":0,\"ticks\":\"\"}}],\"scatter\":[{\"fillpattern\":{\"fillmode\":\"overlay\",\"size\":10,\"solidity\":0.2},\"type\":\"scatter\"}],\"parcoords\":[{\"type\":\"parcoords\",\"line\":{\"colorbar\":{\"outlinewidth\":0,\"ticks\":\"\"}}}],\"scatterpolargl\":[{\"type\":\"scatterpolargl\",\"marker\":{\"colorbar\":{\"outlinewidth\":0,\"ticks\":\"\"}}}],\"bar\":[{\"error_x\":{\"color\":\"#2a3f5f\"},\"error_y\":{\"color\":\"#2a3f5f\"},\"marker\":{\"line\":{\"color\":\"#E5ECF6\",\"width\":0.5},\"pattern\":{\"fillmode\":\"overlay\",\"size\":10,\"solidity\":0.2}},\"type\":\"bar\"}],\"scattergeo\":[{\"type\":\"scattergeo\",\"marker\":{\"colorbar\":{\"outlinewidth\":0,\"ticks\":\"\"}}}],\"scatterpolar\":[{\"type\":\"scatterpolar\",\"marker\":{\"colorbar\":{\"outlinewidth\":0,\"ticks\":\"\"}}}],\"histogram\":[{\"marker\":{\"pattern\":{\"fillmode\":\"overlay\",\"size\":10,\"solidity\":0.2}},\"type\":\"histogram\"}],\"scattergl\":[{\"type\":\"scattergl\",\"marker\":{\"colorbar\":{\"outlinewidth\":0,\"ticks\":\"\"}}}],\"scatter3d\":[{\"type\":\"scatter3d\",\"line\":{\"colorbar\":{\"outlinewidth\":0,\"ticks\":\"\"}},\"marker\":{\"colorbar\":{\"outlinewidth\":0,\"ticks\":\"\"}}}],\"scattermapbox\":[{\"type\":\"scattermapbox\",\"marker\":{\"colorbar\":{\"outlinewidth\":0,\"ticks\":\"\"}}}],\"scatterternary\":[{\"type\":\"scatterternary\",\"marker\":{\"colorbar\":{\"outlinewidth\":0,\"ticks\":\"\"}}}],\"scattercarpet\":[{\"type\":\"scattercarpet\",\"marker\":{\"colorbar\":{\"outlinewidth\":0,\"ticks\":\"\"}}}],\"carpet\":[{\"aaxis\":{\"endlinecolor\":\"#2a3f5f\",\"gridcolor\":\"white\",\"linecolor\":\"white\",\"minorgridcolor\":\"white\",\"startlinecolor\":\"#2a3f5f\"},\"baxis\":{\"endlinecolor\":\"#2a3f5f\",\"gridcolor\":\"white\",\"linecolor\":\"white\",\"minorgridcolor\":\"white\",\"startlinecolor\":\"#2a3f5f\"},\"type\":\"carpet\"}],\"table\":[{\"cells\":{\"fill\":{\"color\":\"#EBF0F8\"},\"line\":{\"color\":\"white\"}},\"header\":{\"fill\":{\"color\":\"#C8D4E3\"},\"line\":{\"color\":\"white\"}},\"type\":\"table\"}],\"barpolar\":[{\"marker\":{\"line\":{\"color\":\"#E5ECF6\",\"width\":0.5},\"pattern\":{\"fillmode\":\"overlay\",\"size\":10,\"solidity\":0.2}},\"type\":\"barpolar\"}],\"pie\":[{\"automargin\":true,\"type\":\"pie\"}]},\"layout\":{\"autotypenumbers\":\"strict\",\"colorway\":[\"#636efa\",\"#EF553B\",\"#00cc96\",\"#ab63fa\",\"#FFA15A\",\"#19d3f3\",\"#FF6692\",\"#B6E880\",\"#FF97FF\",\"#FECB52\"],\"font\":{\"color\":\"#2a3f5f\"},\"hovermode\":\"closest\",\"hoverlabel\":{\"align\":\"left\"},\"paper_bgcolor\":\"white\",\"plot_bgcolor\":\"#E5ECF6\",\"polar\":{\"bgcolor\":\"#E5ECF6\",\"angularaxis\":{\"gridcolor\":\"white\",\"linecolor\":\"white\",\"ticks\":\"\"},\"radialaxis\":{\"gridcolor\":\"white\",\"linecolor\":\"white\",\"ticks\":\"\"}},\"ternary\":{\"bgcolor\":\"#E5ECF6\",\"aaxis\":{\"gridcolor\":\"white\",\"linecolor\":\"white\",\"ticks\":\"\"},\"baxis\":{\"gridcolor\":\"white\",\"linecolor\":\"white\",\"ticks\":\"\"},\"caxis\":{\"gridcolor\":\"white\",\"linecolor\":\"white\",\"ticks\":\"\"}},\"coloraxis\":{\"colorbar\":{\"outlinewidth\":0,\"ticks\":\"\"}},\"colorscale\":{\"sequential\":[[0.0,\"#0d0887\"],[0.1111111111111111,\"#46039f\"],[0.2222222222222222,\"#7201a8\"],[0.3333333333333333,\"#9c179e\"],[0.4444444444444444,\"#bd3786\"],[0.5555555555555556,\"#d8576b\"],[0.6666666666666666,\"#ed7953\"],[0.7777777777777778,\"#fb9f3a\"],[0.8888888888888888,\"#fdca26\"],[1.0,\"#f0f921\"]],\"sequentialminus\":[[0.0,\"#0d0887\"],[0.1111111111111111,\"#46039f\"],[0.2222222222222222,\"#7201a8\"],[0.3333333333333333,\"#9c179e\"],[0.4444444444444444,\"#bd3786\"],[0.5555555555555556,\"#d8576b\"],[0.6666666666666666,\"#ed7953\"],[0.7777777777777778,\"#fb9f3a\"],[0.8888888888888888,\"#fdca26\"],[1.0,\"#f0f921\"]],\"diverging\":[[0,\"#8e0152\"],[0.1,\"#c51b7d\"],[0.2,\"#de77ae\"],[0.3,\"#f1b6da\"],[0.4,\"#fde0ef\"],[0.5,\"#f7f7f7\"],[0.6,\"#e6f5d0\"],[0.7,\"#b8e186\"],[0.8,\"#7fbc41\"],[0.9,\"#4d9221\"],[1,\"#276419\"]]},\"xaxis\":{\"gridcolor\":\"white\",\"linecolor\":\"white\",\"ticks\":\"\",\"title\":{\"standoff\":15},\"zerolinecolor\":\"white\",\"automargin\":true,\"zerolinewidth\":2},\"yaxis\":{\"gridcolor\":\"white\",\"linecolor\":\"white\",\"ticks\":\"\",\"title\":{\"standoff\":15},\"zerolinecolor\":\"white\",\"automargin\":true,\"zerolinewidth\":2},\"scene\":{\"xaxis\":{\"backgroundcolor\":\"#E5ECF6\",\"gridcolor\":\"white\",\"linecolor\":\"white\",\"showbackground\":true,\"ticks\":\"\",\"zerolinecolor\":\"white\",\"gridwidth\":2},\"yaxis\":{\"backgroundcolor\":\"#E5ECF6\",\"gridcolor\":\"white\",\"linecolor\":\"white\",\"showbackground\":true,\"ticks\":\"\",\"zerolinecolor\":\"white\",\"gridwidth\":2},\"zaxis\":{\"backgroundcolor\":\"#E5ECF6\",\"gridcolor\":\"white\",\"linecolor\":\"white\",\"showbackground\":true,\"ticks\":\"\",\"zerolinecolor\":\"white\",\"gridwidth\":2}},\"shapedefaults\":{\"line\":{\"color\":\"#2a3f5f\"}},\"annotationdefaults\":{\"arrowcolor\":\"#2a3f5f\",\"arrowhead\":0,\"arrowwidth\":1},\"geo\":{\"bgcolor\":\"white\",\"landcolor\":\"#E5ECF6\",\"subunitcolor\":\"white\",\"showland\":true,\"showlakes\":true,\"lakecolor\":\"white\"},\"title\":{\"x\":0.05},\"mapbox\":{\"style\":\"light\"}}},\"xaxis\":{\"anchor\":\"y\",\"domain\":[0.0,1.0],\"title\":{\"text\":\"Timestamp\"},\"showgrid\":false},\"yaxis\":{\"anchor\":\"x\",\"domain\":[0.0,1.0],\"title\":{\"text\":\"Stock price\"},\"showgrid\":false},\"legend\":{\"title\":{\"text\":\"Stock\"},\"tracegroupgap\":0},\"margin\":{\"t\":60},\"title\":{\"text\":\"Plotting whole closing stock price with prediction\"},\"font\":{\"size\":15,\"color\":\"black\"},\"plot_bgcolor\":\"white\"},                        {\"responsive\": true}                    ).then(function(){\n",
              "                            \n",
              "var gd = document.getElementById('00b19d7e-7628-4882-86fe-a1727497f248');\n",
              "var x = new MutationObserver(function (mutations, observer) {{\n",
              "        var display = window.getComputedStyle(gd).display;\n",
              "        if (!display || display === 'none') {{\n",
              "            console.log([gd, 'removed!']);\n",
              "            Plotly.purge(gd);\n",
              "            observer.disconnect();\n",
              "        }}\n",
              "}});\n",
              "\n",
              "// Listen for the removal of the full notebook cells\n",
              "var notebookContainer = gd.closest('#notebook-container');\n",
              "if (notebookContainer) {{\n",
              "    x.observe(notebookContainer, {childList: true});\n",
              "}}\n",
              "\n",
              "// Listen for the clearing of the current output cell\n",
              "var outputEl = gd.closest('.output');\n",
              "if (outputEl) {{\n",
              "    x.observe(outputEl, {childList: true});\n",
              "}}\n",
              "\n",
              "                        })                };                            </script>        </div>\n",
              "</body>\n",
              "</html>"
            ]
          },
          "metadata": {}
        }
      ]
    }
  ]
}