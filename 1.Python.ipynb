{
  "nbformat": 4,
  "nbformat_minor": 0,
  "metadata": {
    "colab": {
      "provenance": [],
      "authorship_tag": "ABX9TyN2RWnSPhkOhOejD7iCnDJ/",
      "include_colab_link": true
    },
    "kernelspec": {
      "name": "python3",
      "display_name": "Python 3"
    },
    "language_info": {
      "name": "python"
    }
  },
  "cells": [
    {
      "cell_type": "markdown",
      "metadata": {
        "id": "view-in-github",
        "colab_type": "text"
      },
      "source": [
        "<a href=\"https://colab.research.google.com/github/Butsay-Cha/Butsaya-Portfolio/blob/main/1.Python.ipynb\" target=\"_parent\"><img src=\"https://colab.research.google.com/assets/colab-badge.svg\" alt=\"Open In Colab\"/></a>"
      ]
    },
    {
      "cell_type": "markdown",
      "source": [
        "# **TEST**"
      ],
      "metadata": {
        "id": "ydGamFEzpuI5"
      }
    },
    {
      "cell_type": "code",
      "execution_count": 1,
      "metadata": {
        "colab": {
          "base_uri": "https://localhost:8080/"
        },
        "id": "9Wt9HZIGN8OQ",
        "outputId": "9f2d1ff4-212c-4cb1-c561-78624b03f912"
      },
      "outputs": [
        {
          "output_type": "stream",
          "name": "stdout",
          "text": [
            "83.33333333333333\n"
          ]
        }
      ],
      "source": [
        "Grades = [85, 92, 78, 65, 98, 82]\n",
        "x = sum(Grades) / len(Grades)\n",
        "print(x)"
      ]
    },
    {
      "cell_type": "code",
      "source": [
        "Grades = [85, 92, 78, 65, 98, 82]\n",
        "\n",
        "# Average\n",
        "average_grade = sum(Grades) / len(Grades)\n",
        "print(\"Average grade:\", '{:.2f}'.format(average_grade))\n",
        "\n",
        "# Max\n",
        "highest_grade = max(Grades)\n",
        "print(\"Highest grade:\", highest_grade)\n",
        "\n",
        "# Min\n",
        "lowest_grade = min(Grades)\n",
        "print(\"Lowest grade:\", lowest_grade)"
      ],
      "metadata": {
        "colab": {
          "base_uri": "https://localhost:8080/"
        },
        "id": "NgNsK8e2pazU",
        "outputId": "415da908-85ea-4e3e-93c8-cf57eabd1e71"
      },
      "execution_count": 2,
      "outputs": [
        {
          "output_type": "stream",
          "name": "stdout",
          "text": [
            "Average grade: 83.33\n",
            "Highest grade: 98\n",
            "Lowest grade: 65\n"
          ]
        }
      ]
    },
    {
      "cell_type": "code",
      "source": [
        "# นับจำนวนคนในแต่ละเกรด A-F\n",
        "grade_counts = {'A': 0, 'B': 0, 'C': 0, 'D': 0, 'F': 0}\n",
        "for grade in Grades:\n",
        "    if grade >= 95:\n",
        "        grade_counts['A'] += 1\n",
        "    elif grade >= 85:\n",
        "        grade_counts['B'] += 1\n",
        "    elif grade >= 75:\n",
        "        grade_counts['C'] += 1\n",
        "    elif grade >= 65:\n",
        "        grade_counts['D'] += 1\n",
        "    else:\n",
        "        grade_counts['F'] += 1\n",
        "\n",
        "print(\"\\nGrades count:\")\n",
        "for grade, count in grade_counts.items():\n",
        "    print(grade + \":\", count)"
      ],
      "metadata": {
        "colab": {
          "base_uri": "https://localhost:8080/"
        },
        "id": "qt9sM-40prnC",
        "outputId": "bc77a3c4-ca32-427f-ed68-839ac6dcfaba"
      },
      "execution_count": 9,
      "outputs": [
        {
          "output_type": "stream",
          "name": "stdout",
          "text": [
            "\n",
            "Grades count:\n",
            "A: 1\n",
            "B: 2\n",
            "C: 2\n",
            "D: 1\n",
            "F: 2\n"
          ]
        }
      ]
    },
    {
      "cell_type": "code",
      "source": [
        "def calculate_grade(grades):\n",
        "    #declare valid grades\n",
        "    valid_grades = [grade for grade in grades if grade >= 0]\n",
        "\n",
        "    #Check valid grades\n",
        "    if not valid_grades:\n",
        "        print(\"No valid grades provided.\")\n",
        "        return\n",
        "\n",
        "    #Calculate average\n",
        "    average_grade = sum(valid_grades) / len(valid_grades)\n",
        "\n",
        "    #Find Max and min grade\n",
        "    highest_grade = max(valid_grades)\n",
        "    lowest_grade = min(valid_grades)\n",
        "\n",
        "    #Count grades\n",
        "    grade_counts = {'A': 0, 'B': 0, 'C': 0, 'D': 0, 'F': 0}\n",
        "    total_valid_grades = len(valid_grades)\n",
        "    for grade in valid_grades:\n",
        "        if grade >= 95:\n",
        "            grade_counts['A'] += 1\n",
        "        elif grade >= 85:\n",
        "            grade_counts['B'] += 1\n",
        "        elif grade >= 75:\n",
        "            grade_counts['C'] += 1\n",
        "        elif grade >= 65:\n",
        "            grade_counts['D'] += 1\n",
        "        else:\n",
        "            grade_counts['F'] += 1\n",
        "\n",
        "    #Calculate percentage\n",
        "    grade_percentages = {grade: (count / total_valid_grades) * 100 for grade, count in grade_counts.items()}\n",
        "\n",
        "    # Print statistics\n",
        "    print(\"Average grade:\", '{:.2f}'.format(average_grade))\n",
        "    print(\"Highest grade:\", highest_grade)\n",
        "    print(\"Lowest grade:\", lowest_grade)\n",
        "    print(\"\\nGrades count:\")\n",
        "    for grade, count in grade_counts.items():\n",
        "        print(grade + \":\", count)\n",
        "    print(\"\\nGrades percentage:\")\n",
        "    for grade, percentage in grade_percentages.items():\n",
        "        print(grade + \":\", '{:.2f}'.format(percentage) + \"%\")\n",
        "\n",
        "#Example\n",
        "Grades = [85, 92, 78, -10, 65, 98, 82, -5]\n",
        "\n",
        "#Call function\n",
        "calculate_grade(Grades)\n"
      ],
      "metadata": {
        "colab": {
          "base_uri": "https://localhost:8080/"
        },
        "id": "jp65RN4iq_h0",
        "outputId": "34b82522-8bc2-42a1-875d-e6b9dc27bf87"
      },
      "execution_count": 8,
      "outputs": [
        {
          "output_type": "stream",
          "name": "stdout",
          "text": [
            "Average grade: 83.33\n",
            "Highest grade: 98\n",
            "Lowest grade: 65\n",
            "\n",
            "Grades count:\n",
            "A: 1\n",
            "B: 2\n",
            "C: 2\n",
            "D: 1\n",
            "F: 0\n",
            "\n",
            "Grades percentage:\n",
            "A: 16.67%\n",
            "B: 33.33%\n",
            "C: 33.33%\n",
            "D: 16.67%\n",
            "F: 0.00%\n"
          ]
        }
      ]
    }
  ]
}