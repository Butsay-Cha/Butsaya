{
  "cells": [
    {
      "cell_type": "markdown",
      "source": [
        "# ดาวน์โหลด Dataset"
      ],
      "metadata": {
        "id": "4CtVjPgP86oE"
      }
    },
    {
      "cell_type": "markdown",
      "metadata": {
        "id": "U9uTRk6LUtpD"
      },
      "source": [
        "Dataset : https://www.kaggle.com/datasets/johnsmith88/heart-disease-dataset"
      ]
    },
    {
      "cell_type": "code",
      "execution_count": null,
      "metadata": {
        "id": "dFxtd45yv4Fj"
      },
      "outputs": [],
      "source": [
        "import numpy as np\n",
        "import pandas as pd\n",
        "import matplotlib.pyplot as plt\n",
        "import seaborn as sns\n",
        "import warnings\n",
        "warnings.filterwarnings(\"ignore\")"
      ]
    },
    {
      "cell_type": "code",
      "execution_count": null,
      "metadata": {
        "id": "eNf3RUfDws8x"
      },
      "outputs": [],
      "source": [
        "df = pd.read_csv(\"/content/heart.csv\")"
      ]
    },
    {
      "cell_type": "code",
      "execution_count": null,
      "metadata": {
        "colab": {
          "base_uri": "https://localhost:8080/"
        },
        "id": "haS5Deig0waP",
        "outputId": "653781c5-6693-4f75-c079-479737125619"
      },
      "outputs": [
        {
          "output_type": "execute_result",
          "data": {
            "text/plain": [
              "      age  sex  cp  trestbps  chol  fbs  restecg  thalach  exang  oldpeak  \\\n",
              "0      52    1   0       125   212    0        1      168      0      1.0   \n",
              "1      53    1   0       140   203    1        0      155      1      3.1   \n",
              "2      70    1   0       145   174    0        1      125      1      2.6   \n",
              "3      61    1   0       148   203    0        1      161      0      0.0   \n",
              "4      62    0   0       138   294    1        1      106      0      1.9   \n",
              "...   ...  ...  ..       ...   ...  ...      ...      ...    ...      ...   \n",
              "1020   59    1   1       140   221    0        1      164      1      0.0   \n",
              "1021   60    1   0       125   258    0        0      141      1      2.8   \n",
              "1022   47    1   0       110   275    0        0      118      1      1.0   \n",
              "1023   50    0   0       110   254    0        0      159      0      0.0   \n",
              "1024   54    1   0       120   188    0        1      113      0      1.4   \n",
              "\n",
              "      slope  ca  thal  target  \n",
              "0         2   2     3       0  \n",
              "1         0   0     3       0  \n",
              "2         0   0     3       0  \n",
              "3         2   1     3       0  \n",
              "4         1   3     2       0  \n",
              "...     ...  ..   ...     ...  \n",
              "1020      2   0     2       1  \n",
              "1021      1   1     3       0  \n",
              "1022      1   1     2       0  \n",
              "1023      2   0     2       1  \n",
              "1024      1   1     3       0  \n",
              "\n",
              "[1025 rows x 14 columns]"
            ],
            "text/html": [
              "\n",
              "  <div id=\"df-25509814-e939-4af8-b1f2-6b80fc241a24\">\n",
              "    <div class=\"colab-df-container\">\n",
              "      <div>\n",
              "<style scoped>\n",
              "    .dataframe tbody tr th:only-of-type {\n",
              "        vertical-align: middle;\n",
              "    }\n",
              "\n",
              "    .dataframe tbody tr th {\n",
              "        vertical-align: top;\n",
              "    }\n",
              "\n",
              "    .dataframe thead th {\n",
              "        text-align: right;\n",
              "    }\n",
              "</style>\n",
              "<table border=\"1\" class=\"dataframe\">\n",
              "  <thead>\n",
              "    <tr style=\"text-align: right;\">\n",
              "      <th></th>\n",
              "      <th>age</th>\n",
              "      <th>sex</th>\n",
              "      <th>cp</th>\n",
              "      <th>trestbps</th>\n",
              "      <th>chol</th>\n",
              "      <th>fbs</th>\n",
              "      <th>restecg</th>\n",
              "      <th>thalach</th>\n",
              "      <th>exang</th>\n",
              "      <th>oldpeak</th>\n",
              "      <th>slope</th>\n",
              "      <th>ca</th>\n",
              "      <th>thal</th>\n",
              "      <th>target</th>\n",
              "    </tr>\n",
              "  </thead>\n",
              "  <tbody>\n",
              "    <tr>\n",
              "      <th>0</th>\n",
              "      <td>52</td>\n",
              "      <td>1</td>\n",
              "      <td>0</td>\n",
              "      <td>125</td>\n",
              "      <td>212</td>\n",
              "      <td>0</td>\n",
              "      <td>1</td>\n",
              "      <td>168</td>\n",
              "      <td>0</td>\n",
              "      <td>1.0</td>\n",
              "      <td>2</td>\n",
              "      <td>2</td>\n",
              "      <td>3</td>\n",
              "      <td>0</td>\n",
              "    </tr>\n",
              "    <tr>\n",
              "      <th>1</th>\n",
              "      <td>53</td>\n",
              "      <td>1</td>\n",
              "      <td>0</td>\n",
              "      <td>140</td>\n",
              "      <td>203</td>\n",
              "      <td>1</td>\n",
              "      <td>0</td>\n",
              "      <td>155</td>\n",
              "      <td>1</td>\n",
              "      <td>3.1</td>\n",
              "      <td>0</td>\n",
              "      <td>0</td>\n",
              "      <td>3</td>\n",
              "      <td>0</td>\n",
              "    </tr>\n",
              "    <tr>\n",
              "      <th>2</th>\n",
              "      <td>70</td>\n",
              "      <td>1</td>\n",
              "      <td>0</td>\n",
              "      <td>145</td>\n",
              "      <td>174</td>\n",
              "      <td>0</td>\n",
              "      <td>1</td>\n",
              "      <td>125</td>\n",
              "      <td>1</td>\n",
              "      <td>2.6</td>\n",
              "      <td>0</td>\n",
              "      <td>0</td>\n",
              "      <td>3</td>\n",
              "      <td>0</td>\n",
              "    </tr>\n",
              "    <tr>\n",
              "      <th>3</th>\n",
              "      <td>61</td>\n",
              "      <td>1</td>\n",
              "      <td>0</td>\n",
              "      <td>148</td>\n",
              "      <td>203</td>\n",
              "      <td>0</td>\n",
              "      <td>1</td>\n",
              "      <td>161</td>\n",
              "      <td>0</td>\n",
              "      <td>0.0</td>\n",
              "      <td>2</td>\n",
              "      <td>1</td>\n",
              "      <td>3</td>\n",
              "      <td>0</td>\n",
              "    </tr>\n",
              "    <tr>\n",
              "      <th>4</th>\n",
              "      <td>62</td>\n",
              "      <td>0</td>\n",
              "      <td>0</td>\n",
              "      <td>138</td>\n",
              "      <td>294</td>\n",
              "      <td>1</td>\n",
              "      <td>1</td>\n",
              "      <td>106</td>\n",
              "      <td>0</td>\n",
              "      <td>1.9</td>\n",
              "      <td>1</td>\n",
              "      <td>3</td>\n",
              "      <td>2</td>\n",
              "      <td>0</td>\n",
              "    </tr>\n",
              "    <tr>\n",
              "      <th>...</th>\n",
              "      <td>...</td>\n",
              "      <td>...</td>\n",
              "      <td>...</td>\n",
              "      <td>...</td>\n",
              "      <td>...</td>\n",
              "      <td>...</td>\n",
              "      <td>...</td>\n",
              "      <td>...</td>\n",
              "      <td>...</td>\n",
              "      <td>...</td>\n",
              "      <td>...</td>\n",
              "      <td>...</td>\n",
              "      <td>...</td>\n",
              "      <td>...</td>\n",
              "    </tr>\n",
              "    <tr>\n",
              "      <th>1020</th>\n",
              "      <td>59</td>\n",
              "      <td>1</td>\n",
              "      <td>1</td>\n",
              "      <td>140</td>\n",
              "      <td>221</td>\n",
              "      <td>0</td>\n",
              "      <td>1</td>\n",
              "      <td>164</td>\n",
              "      <td>1</td>\n",
              "      <td>0.0</td>\n",
              "      <td>2</td>\n",
              "      <td>0</td>\n",
              "      <td>2</td>\n",
              "      <td>1</td>\n",
              "    </tr>\n",
              "    <tr>\n",
              "      <th>1021</th>\n",
              "      <td>60</td>\n",
              "      <td>1</td>\n",
              "      <td>0</td>\n",
              "      <td>125</td>\n",
              "      <td>258</td>\n",
              "      <td>0</td>\n",
              "      <td>0</td>\n",
              "      <td>141</td>\n",
              "      <td>1</td>\n",
              "      <td>2.8</td>\n",
              "      <td>1</td>\n",
              "      <td>1</td>\n",
              "      <td>3</td>\n",
              "      <td>0</td>\n",
              "    </tr>\n",
              "    <tr>\n",
              "      <th>1022</th>\n",
              "      <td>47</td>\n",
              "      <td>1</td>\n",
              "      <td>0</td>\n",
              "      <td>110</td>\n",
              "      <td>275</td>\n",
              "      <td>0</td>\n",
              "      <td>0</td>\n",
              "      <td>118</td>\n",
              "      <td>1</td>\n",
              "      <td>1.0</td>\n",
              "      <td>1</td>\n",
              "      <td>1</td>\n",
              "      <td>2</td>\n",
              "      <td>0</td>\n",
              "    </tr>\n",
              "    <tr>\n",
              "      <th>1023</th>\n",
              "      <td>50</td>\n",
              "      <td>0</td>\n",
              "      <td>0</td>\n",
              "      <td>110</td>\n",
              "      <td>254</td>\n",
              "      <td>0</td>\n",
              "      <td>0</td>\n",
              "      <td>159</td>\n",
              "      <td>0</td>\n",
              "      <td>0.0</td>\n",
              "      <td>2</td>\n",
              "      <td>0</td>\n",
              "      <td>2</td>\n",
              "      <td>1</td>\n",
              "    </tr>\n",
              "    <tr>\n",
              "      <th>1024</th>\n",
              "      <td>54</td>\n",
              "      <td>1</td>\n",
              "      <td>0</td>\n",
              "      <td>120</td>\n",
              "      <td>188</td>\n",
              "      <td>0</td>\n",
              "      <td>1</td>\n",
              "      <td>113</td>\n",
              "      <td>0</td>\n",
              "      <td>1.4</td>\n",
              "      <td>1</td>\n",
              "      <td>1</td>\n",
              "      <td>3</td>\n",
              "      <td>0</td>\n",
              "    </tr>\n",
              "  </tbody>\n",
              "</table>\n",
              "<p>1025 rows × 14 columns</p>\n",
              "</div>\n",
              "      <button class=\"colab-df-convert\" onclick=\"convertToInteractive('df-25509814-e939-4af8-b1f2-6b80fc241a24')\"\n",
              "              title=\"Convert this dataframe to an interactive table.\"\n",
              "              style=\"display:none;\">\n",
              "        \n",
              "  <svg xmlns=\"http://www.w3.org/2000/svg\" height=\"24px\"viewBox=\"0 0 24 24\"\n",
              "       width=\"24px\">\n",
              "    <path d=\"M0 0h24v24H0V0z\" fill=\"none\"/>\n",
              "    <path d=\"M18.56 5.44l.94 2.06.94-2.06 2.06-.94-2.06-.94-.94-2.06-.94 2.06-2.06.94zm-11 1L8.5 8.5l.94-2.06 2.06-.94-2.06-.94L8.5 2.5l-.94 2.06-2.06.94zm10 10l.94 2.06.94-2.06 2.06-.94-2.06-.94-.94-2.06-.94 2.06-2.06.94z\"/><path d=\"M17.41 7.96l-1.37-1.37c-.4-.4-.92-.59-1.43-.59-.52 0-1.04.2-1.43.59L10.3 9.45l-7.72 7.72c-.78.78-.78 2.05 0 2.83L4 21.41c.39.39.9.59 1.41.59.51 0 1.02-.2 1.41-.59l7.78-7.78 2.81-2.81c.8-.78.8-2.07 0-2.86zM5.41 20L4 18.59l7.72-7.72 1.47 1.35L5.41 20z\"/>\n",
              "  </svg>\n",
              "      </button>\n",
              "      \n",
              "  <style>\n",
              "    .colab-df-container {\n",
              "      display:flex;\n",
              "      flex-wrap:wrap;\n",
              "      gap: 12px;\n",
              "    }\n",
              "\n",
              "    .colab-df-convert {\n",
              "      background-color: #E8F0FE;\n",
              "      border: none;\n",
              "      border-radius: 50%;\n",
              "      cursor: pointer;\n",
              "      display: none;\n",
              "      fill: #1967D2;\n",
              "      height: 32px;\n",
              "      padding: 0 0 0 0;\n",
              "      width: 32px;\n",
              "    }\n",
              "\n",
              "    .colab-df-convert:hover {\n",
              "      background-color: #E2EBFA;\n",
              "      box-shadow: 0px 1px 2px rgba(60, 64, 67, 0.3), 0px 1px 3px 1px rgba(60, 64, 67, 0.15);\n",
              "      fill: #174EA6;\n",
              "    }\n",
              "\n",
              "    [theme=dark] .colab-df-convert {\n",
              "      background-color: #3B4455;\n",
              "      fill: #D2E3FC;\n",
              "    }\n",
              "\n",
              "    [theme=dark] .colab-df-convert:hover {\n",
              "      background-color: #434B5C;\n",
              "      box-shadow: 0px 1px 3px 1px rgba(0, 0, 0, 0.15);\n",
              "      filter: drop-shadow(0px 1px 2px rgba(0, 0, 0, 0.3));\n",
              "      fill: #FFFFFF;\n",
              "    }\n",
              "  </style>\n",
              "\n",
              "      <script>\n",
              "        const buttonEl =\n",
              "          document.querySelector('#df-25509814-e939-4af8-b1f2-6b80fc241a24 button.colab-df-convert');\n",
              "        buttonEl.style.display =\n",
              "          google.colab.kernel.accessAllowed ? 'block' : 'none';\n",
              "\n",
              "        async function convertToInteractive(key) {\n",
              "          const element = document.querySelector('#df-25509814-e939-4af8-b1f2-6b80fc241a24');\n",
              "          const dataTable =\n",
              "            await google.colab.kernel.invokeFunction('convertToInteractive',\n",
              "                                                     [key], {});\n",
              "          if (!dataTable) return;\n",
              "\n",
              "          const docLinkHtml = 'Like what you see? Visit the ' +\n",
              "            '<a target=\"_blank\" href=https://colab.research.google.com/notebooks/data_table.ipynb>data table notebook</a>'\n",
              "            + ' to learn more about interactive tables.';\n",
              "          element.innerHTML = '';\n",
              "          dataTable['output_type'] = 'display_data';\n",
              "          await google.colab.output.renderOutput(dataTable, element);\n",
              "          const docLink = document.createElement('div');\n",
              "          docLink.innerHTML = docLinkHtml;\n",
              "          element.appendChild(docLink);\n",
              "        }\n",
              "      </script>\n",
              "    </div>\n",
              "  </div>\n",
              "  "
            ]
          },
          "metadata": {},
          "execution_count": 37
        }
      ],
      "source": [
        "df"
      ]
    },
    {
      "cell_type": "markdown",
      "metadata": {
        "id": "k6s4GLdS7Zz1"
      },
      "source": [
        "# Data Exploration"
      ]
    },
    {
      "cell_type": "code",
      "execution_count": null,
      "metadata": {
        "colab": {
          "base_uri": "https://localhost:8080/"
        },
        "id": "U7y1C64oCm1m",
        "outputId": "67af0cae-6891-40f0-ac07-dc69a663df36"
      },
      "outputs": [
        {
          "output_type": "stream",
          "name": "stdout",
          "text": [
            "<class 'pandas.core.frame.DataFrame'>\n",
            "RangeIndex: 1025 entries, 0 to 1024\n",
            "Data columns (total 14 columns):\n",
            " #   Column    Non-Null Count  Dtype  \n",
            "---  ------    --------------  -----  \n",
            " 0   age       1025 non-null   int64  \n",
            " 1   sex       1025 non-null   int64  \n",
            " 2   cp        1025 non-null   int64  \n",
            " 3   trestbps  1025 non-null   int64  \n",
            " 4   chol      1025 non-null   int64  \n",
            " 5   fbs       1025 non-null   int64  \n",
            " 6   restecg   1025 non-null   int64  \n",
            " 7   thalach   1025 non-null   int64  \n",
            " 8   exang     1025 non-null   int64  \n",
            " 9   oldpeak   1025 non-null   float64\n",
            " 10  slope     1025 non-null   int64  \n",
            " 11  ca        1025 non-null   int64  \n",
            " 12  thal      1025 non-null   int64  \n",
            " 13  target    1025 non-null   int64  \n",
            "dtypes: float64(1), int64(13)\n",
            "memory usage: 112.2 KB\n"
          ]
        }
      ],
      "source": [
        "df.info()"
      ]
    },
    {
      "cell_type": "code",
      "execution_count": null,
      "metadata": {
        "colab": {
          "base_uri": "https://localhost:8080/"
        },
        "id": "IWiVhZgD2HwD",
        "outputId": "9b1a0f1c-eb58-48f5-c0db-3ec6277dd7a3"
      },
      "outputs": [
        {
          "output_type": "execute_result",
          "data": {
            "text/plain": [
              "1    526\n",
              "0    499\n",
              "Name: target, dtype: int64"
            ]
          },
          "metadata": {},
          "execution_count": 39
        }
      ],
      "source": [
        "df.target.value_counts()"
      ]
    },
    {
      "cell_type": "code",
      "execution_count": null,
      "metadata": {
        "colab": {
          "base_uri": "https://localhost:8080/"
        },
        "id": "VNplVehP2HwF",
        "outputId": "1ca52879-2f7f-4d2b-d918-6aad81ce5f07"
      },
      "outputs": [
        {
          "output_type": "stream",
          "name": "stdout",
          "text": [
            "51.32% of patients have Heart Disease.\n",
            "48.68% of patients don't have Heart Disease.\n"
          ]
        }
      ],
      "source": [
        "haveDisease = len(df[df.target == 1])\n",
        "dontHaveDisease = len(df[df.target == 0])\n",
        "\n",
        "print(\"{:.2f}% of patients have Heart Disease.\".format((haveDisease / (len(df.target)) * 100)))\n",
        "print(\"{:.2f}% of patients don't have Heart Disease.\".format((dontHaveDisease / (len(df.target)) * 100)))"
      ]
    },
    {
      "cell_type": "code",
      "source": [
        "label = [\"Don't have disease\", \"Have disease\"]\n",
        "value = (dontHaveDisease, haveDisease)\n",
        "\n",
        "plt.subplots(figsize=(6,4))\n",
        "plt.bar(label, value, width=0.75, color=['mediumseagreen', 'indianred'])\n",
        "plt.ylabel(\"Number of Patients\")\n",
        "plt.xlabel(\"Target\")\n",
        "plt.show()"
      ],
      "metadata": {
        "colab": {
          "base_uri": "https://localhost:8080/"
        },
        "id": "jyR7dqFvBoHC",
        "outputId": "c09d51ae-66b5-45ec-d936-f0788ee9f6f0"
      },
      "execution_count": null,
      "outputs": [
        {
          "output_type": "display_data",
          "data": {
            "text/plain": [
              "<Figure size 432x288 with 1 Axes>"
            ],
            "image/png": "[encoded data removed]"
          },
          "metadata": {
            "needs_background": "light"
          }
        }
      ]
    },
    {
      "cell_type": "code",
      "execution_count": null,
      "metadata": {
        "colab": {
          "base_uri": "https://localhost:8080/"
        },
        "id": "SVPA1iOj2HwJ",
        "outputId": "5ad38961-4e78-4fe2-9dec-6f6bad154652"
      },
      "outputs": [
        {
          "output_type": "display_data",
          "data": {
            "text/plain": [
              "<Figure size 432x288 with 1 Axes>"
            ],
            "image/png": "[encoded data removed]"
          },
          "metadata": {
            "needs_background": "light"
          }
        }
      ],
      "source": [
        "pd.crosstab(df.sex, df.target).plot(kind=\"bar\", figsize=(6,4), color=['#3cb371', '#cd5c5c'])\n",
        "plt.title('Heart Disease according to Sex')\n",
        "plt.ylabel('Number of Patients')\n",
        "plt.xlabel('Sex (0 : Female, 1 : Male)')\n",
        "plt.legend([\"Don't have Disease\", \"Have Disease\"])\n",
        "plt.xticks(rotation=0)\n",
        "plt.show()"
      ]
    },
    {
      "cell_type": "code",
      "execution_count": null,
      "metadata": {
        "colab": {
          "base_uri": "https://localhost:8080/"
        },
        "id": "WTWOsX4d2HwI",
        "outputId": "9cf17d48-fc43-4021-b812-a01f6f0b1c6c"
      },
      "outputs": [
        {
          "output_type": "display_data",
          "data": {
            "text/plain": [
              "<Figure size 1440x360 with 1 Axes>"
            ],
            "image/png": "[encoded data removed]"
          },
          "metadata": {
            "needs_background": "light"
          }
        }
      ],
      "source": [
        "pd.crosstab(df.age, df.target).plot(kind=\"bar\", figsize=(20,5), color=['#3cb371', '#cd5c5c'])\n",
        "plt.title('Heart Disease according to Age')\n",
        "plt.ylabel('Number of Patients')\n",
        "plt.xlabel('Age')\n",
        "plt.legend([\"Don't have Disease\", \"Have Disease\"])\n",
        "plt.show()"
      ]
    },
    {
      "cell_type": "code",
      "execution_count": null,
      "metadata": {
        "colab": {
          "base_uri": "https://localhost:8080/",
          "height": 307
        },
        "id": "1Odhija62HwL",
        "outputId": "f383c2dc-b6ff-4c94-ac2f-3bef3437db12"
      },
      "outputs": [
        {
          "output_type": "display_data",
          "data": {
            "text/plain": [
              "<Figure size 432x288 with 1 Axes>"
            ],
            "image/png": "[encoded data removed]"
          },
          "metadata": {
            "needs_background": "light"
          }
        }
      ],
      "source": [
        "pd.crosstab(df.fbs, df.target).plot(kind=\"bar\", figsize=(6,4), color=['#3cb371', '#cd5c5c'])\n",
        "plt.title('Heart Disease according to FBS (Fasting Blood Sugar)')\n",
        "plt.ylabel('Number of Patients')\n",
        "plt.xlabel('Fasting Blood Sugar > 120 mg/dl\\n(0 : False or < 120, 1 : True or > 120)')\n",
        "plt.legend([\"Don't have Disease\", \"Have Disease\"])\n",
        "plt.xticks(rotation=0)\n",
        "plt.show()"
      ]
    },
    {
      "cell_type": "code",
      "execution_count": null,
      "metadata": {
        "colab": {
          "base_uri": "https://localhost:8080/",
          "height": 295
        },
        "id": "Ev017WhR2HwM",
        "outputId": "d5d5d0fc-5185-4204-d76c-f1dc1c4fbc0c"
      },
      "outputs": [
        {
          "output_type": "display_data",
          "data": {
            "text/plain": [
              "<Figure size 432x288 with 1 Axes>"
            ],
            "image/png": "[encoded data removed]"
          },
          "metadata": {
            "needs_background": "light"
          }
        }
      ],
      "source": [
        "pd.crosstab(df.cp, df.target).plot(kind=\"bar\", figsize=(6,4), color=['#3cb371', '#cd5c5c'])\n",
        "plt.title('Heart Disease according to Chest Pain Type')\n",
        "plt.ylabel('Number of Patients')\n",
        "plt.xlabel('Chest Pain Type')\n",
        "plt.legend([\"Don't have Disease\", \"Have Disease\"])\n",
        "plt.xticks(rotation = 0)\n",
        "plt.show()"
      ]
    },
    {
      "cell_type": "markdown",
      "metadata": {
        "id": "_O62PZV8Dc6r"
      },
      "source": [
        "#Data Preprocessing"
      ]
    },
    {
      "cell_type": "code",
      "execution_count": null,
      "metadata": {
        "id": "vIWhzsWe2HwN"
      },
      "outputs": [],
      "source": [
        "cp = pd.get_dummies(df['cp'], prefix=\"cp\")\n",
        "thal = pd.get_dummies(df['thal'], prefix=\"thal\")\n",
        "slope = pd.get_dummies(df['slope'], prefix=\"slope\")"
      ]
    },
    {
      "cell_type": "code",
      "execution_count": null,
      "metadata": {
        "colab": {
          "base_uri": "https://localhost:8080/",
          "height": 424
        },
        "id": "aev6vybc2HwO",
        "outputId": "eefbb199-9b81-426b-b917-6b6920bb36f6"
      },
      "outputs": [
        {
          "output_type": "execute_result",
          "data": {
            "text/plain": [
              "      age  sex  trestbps  chol  fbs  restecg  thalach  exang  oldpeak  ca  \\\n",
              "0      52    1       125   212    0        1      168      0      1.0   2   \n",
              "1      53    1       140   203    1        0      155      1      3.1   0   \n",
              "2      70    1       145   174    0        1      125      1      2.6   0   \n",
              "3      61    1       148   203    0        1      161      0      0.0   1   \n",
              "4      62    0       138   294    1        1      106      0      1.9   3   \n",
              "...   ...  ...       ...   ...  ...      ...      ...    ...      ...  ..   \n",
              "1020   59    1       140   221    0        1      164      1      0.0   0   \n",
              "1021   60    1       125   258    0        0      141      1      2.8   1   \n",
              "1022   47    1       110   275    0        0      118      1      1.0   1   \n",
              "1023   50    0       110   254    0        0      159      0      0.0   0   \n",
              "1024   54    1       120   188    0        1      113      0      1.4   1   \n",
              "\n",
              "      ...  cp_1  cp_2  cp_3  thal_0  thal_1  thal_2  thal_3  slope_0  slope_1  \\\n",
              "0     ...     0     0     0       0       0       0       1        0        0   \n",
              "1     ...     0     0     0       0       0       0       1        1        0   \n",
              "2     ...     0     0     0       0       0       0       1        1        0   \n",
              "3     ...     0     0     0       0       0       0       1        0        0   \n",
              "4     ...     0     0     0       0       0       1       0        0        1   \n",
              "...   ...   ...   ...   ...     ...     ...     ...     ...      ...      ...   \n",
              "1020  ...     1     0     0       0       0       1       0        0        0   \n",
              "1021  ...     0     0     0       0       0       0       1        0        1   \n",
              "1022  ...     0     0     0       0       0       1       0        0        1   \n",
              "1023  ...     0     0     0       0       0       1       0        0        0   \n",
              "1024  ...     0     0     0       0       0       0       1        0        1   \n",
              "\n",
              "      slope_2  \n",
              "0           1  \n",
              "1           0  \n",
              "2           0  \n",
              "3           1  \n",
              "4           0  \n",
              "...       ...  \n",
              "1020        1  \n",
              "1021        0  \n",
              "1022        0  \n",
              "1023        1  \n",
              "1024        0  \n",
              "\n",
              "[1025 rows x 22 columns]"
            ],
            "text/html": [
              "\n",
              "  <div id=\"df-790ae786-d149-4e9b-b26e-fc14ce9f9c49\">\n",
              "    <div class=\"colab-df-container\">\n",
              "      <div>\n",
              "<style scoped>\n",
              "    .dataframe tbody tr th:only-of-type {\n",
              "        vertical-align: middle;\n",
              "    }\n",
              "\n",
              "    .dataframe tbody tr th {\n",
              "        vertical-align: top;\n",
              "    }\n",
              "\n",
              "    .dataframe thead th {\n",
              "        text-align: right;\n",
              "    }\n",
              "</style>\n",
              "<table border=\"1\" class=\"dataframe\">\n",
              "  <thead>\n",
              "    <tr style=\"text-align: right;\">\n",
              "      <th></th>\n",
              "      <th>age</th>\n",
              "      <th>sex</th>\n",
              "      <th>trestbps</th>\n",
              "      <th>chol</th>\n",
              "      <th>fbs</th>\n",
              "      <th>restecg</th>\n",
              "      <th>thalach</th>\n",
              "      <th>exang</th>\n",
              "      <th>oldpeak</th>\n",
              "      <th>ca</th>\n",
              "      <th>...</th>\n",
              "      <th>cp_1</th>\n",
              "      <th>cp_2</th>\n",
              "      <th>cp_3</th>\n",
              "      <th>thal_0</th>\n",
              "      <th>thal_1</th>\n",
              "      <th>thal_2</th>\n",
              "      <th>thal_3</th>\n",
              "      <th>slope_0</th>\n",
              "      <th>slope_1</th>\n",
              "      <th>slope_2</th>\n",
              "    </tr>\n",
              "  </thead>\n",
              "  <tbody>\n",
              "    <tr>\n",
              "      <th>0</th>\n",
              "      <td>52</td>\n",
              "      <td>1</td>\n",
              "      <td>125</td>\n",
              "      <td>212</td>\n",
              "      <td>0</td>\n",
              "      <td>1</td>\n",
              "      <td>168</td>\n",
              "      <td>0</td>\n",
              "      <td>1.0</td>\n",
              "      <td>2</td>\n",
              "      <td>...</td>\n",
              "      <td>0</td>\n",
              "      <td>0</td>\n",
              "      <td>0</td>\n",
              "      <td>0</td>\n",
              "      <td>0</td>\n",
              "      <td>0</td>\n",
              "      <td>1</td>\n",
              "      <td>0</td>\n",
              "      <td>0</td>\n",
              "      <td>1</td>\n",
              "    </tr>\n",
              "    <tr>\n",
              "      <th>1</th>\n",
              "      <td>53</td>\n",
              "      <td>1</td>\n",
              "      <td>140</td>\n",
              "      <td>203</td>\n",
              "      <td>1</td>\n",
              "      <td>0</td>\n",
              "      <td>155</td>\n",
              "      <td>1</td>\n",
              "      <td>3.1</td>\n",
              "      <td>0</td>\n",
              "      <td>...</td>\n",
              "      <td>0</td>\n",
              "      <td>0</td>\n",
              "      <td>0</td>\n",
              "      <td>0</td>\n",
              "      <td>0</td>\n",
              "      <td>0</td>\n",
              "      <td>1</td>\n",
              "      <td>1</td>\n",
              "      <td>0</td>\n",
              "      <td>0</td>\n",
              "    </tr>\n",
              "    <tr>\n",
              "      <th>2</th>\n",
              "      <td>70</td>\n",
              "      <td>1</td>\n",
              "      <td>145</td>\n",
              "      <td>174</td>\n",
              "      <td>0</td>\n",
              "      <td>1</td>\n",
              "      <td>125</td>\n",
              "      <td>1</td>\n",
              "      <td>2.6</td>\n",
              "      <td>0</td>\n",
              "      <td>...</td>\n",
              "      <td>0</td>\n",
              "      <td>0</td>\n",
              "      <td>0</td>\n",
              "      <td>0</td>\n",
              "      <td>0</td>\n",
              "      <td>0</td>\n",
              "      <td>1</td>\n",
              "      <td>1</td>\n",
              "      <td>0</td>\n",
              "      <td>0</td>\n",
              "    </tr>\n",
              "    <tr>\n",
              "      <th>3</th>\n",
              "      <td>61</td>\n",
              "      <td>1</td>\n",
              "      <td>148</td>\n",
              "      <td>203</td>\n",
              "      <td>0</td>\n",
              "      <td>1</td>\n",
              "      <td>161</td>\n",
              "      <td>0</td>\n",
              "      <td>0.0</td>\n",
              "      <td>1</td>\n",
              "      <td>...</td>\n",
              "      <td>0</td>\n",
              "      <td>0</td>\n",
              "      <td>0</td>\n",
              "      <td>0</td>\n",
              "      <td>0</td>\n",
              "      <td>0</td>\n",
              "      <td>1</td>\n",
              "      <td>0</td>\n",
              "      <td>0</td>\n",
              "      <td>1</td>\n",
              "    </tr>\n",
              "    <tr>\n",
              "      <th>4</th>\n",
              "      <td>62</td>\n",
              "      <td>0</td>\n",
              "      <td>138</td>\n",
              "      <td>294</td>\n",
              "      <td>1</td>\n",
              "      <td>1</td>\n",
              "      <td>106</td>\n",
              "      <td>0</td>\n",
              "      <td>1.9</td>\n",
              "      <td>3</td>\n",
              "      <td>...</td>\n",
              "      <td>0</td>\n",
              "      <td>0</td>\n",
              "      <td>0</td>\n",
              "      <td>0</td>\n",
              "      <td>0</td>\n",
              "      <td>1</td>\n",
              "      <td>0</td>\n",
              "      <td>0</td>\n",
              "      <td>1</td>\n",
              "      <td>0</td>\n",
              "    </tr>\n",
              "    <tr>\n",
              "      <th>...</th>\n",
              "      <td>...</td>\n",
              "      <td>...</td>\n",
              "      <td>...</td>\n",
              "      <td>...</td>\n",
              "      <td>...</td>\n",
              "      <td>...</td>\n",
              "      <td>...</td>\n",
              "      <td>...</td>\n",
              "      <td>...</td>\n",
              "      <td>...</td>\n",
              "      <td>...</td>\n",
              "      <td>...</td>\n",
              "      <td>...</td>\n",
              "      <td>...</td>\n",
              "      <td>...</td>\n",
              "      <td>...</td>\n",
              "      <td>...</td>\n",
              "      <td>...</td>\n",
              "      <td>...</td>\n",
              "      <td>...</td>\n",
              "      <td>...</td>\n",
              "    </tr>\n",
              "    <tr>\n",
              "      <th>1020</th>\n",
              "      <td>59</td>\n",
              "      <td>1</td>\n",
              "      <td>140</td>\n",
              "      <td>221</td>\n",
              "      <td>0</td>\n",
              "      <td>1</td>\n",
              "      <td>164</td>\n",
              "      <td>1</td>\n",
              "      <td>0.0</td>\n",
              "      <td>0</td>\n",
              "      <td>...</td>\n",
              "      <td>1</td>\n",
              "      <td>0</td>\n",
              "      <td>0</td>\n",
              "      <td>0</td>\n",
              "      <td>0</td>\n",
              "      <td>1</td>\n",
              "      <td>0</td>\n",
              "      <td>0</td>\n",
              "      <td>0</td>\n",
              "      <td>1</td>\n",
              "    </tr>\n",
              "    <tr>\n",
              "      <th>1021</th>\n",
              "      <td>60</td>\n",
              "      <td>1</td>\n",
              "      <td>125</td>\n",
              "      <td>258</td>\n",
              "      <td>0</td>\n",
              "      <td>0</td>\n",
              "      <td>141</td>\n",
              "      <td>1</td>\n",
              "      <td>2.8</td>\n",
              "      <td>1</td>\n",
              "      <td>...</td>\n",
              "      <td>0</td>\n",
              "      <td>0</td>\n",
              "      <td>0</td>\n",
              "      <td>0</td>\n",
              "      <td>0</td>\n",
              "      <td>0</td>\n",
              "      <td>1</td>\n",
              "      <td>0</td>\n",
              "      <td>1</td>\n",
              "      <td>0</td>\n",
              "    </tr>\n",
              "    <tr>\n",
              "      <th>1022</th>\n",
              "      <td>47</td>\n",
              "      <td>1</td>\n",
              "      <td>110</td>\n",
              "      <td>275</td>\n",
              "      <td>0</td>\n",
              "      <td>0</td>\n",
              "      <td>118</td>\n",
              "      <td>1</td>\n",
              "      <td>1.0</td>\n",
              "      <td>1</td>\n",
              "      <td>...</td>\n",
              "      <td>0</td>\n",
              "      <td>0</td>\n",
              "      <td>0</td>\n",
              "      <td>0</td>\n",
              "      <td>0</td>\n",
              "      <td>1</td>\n",
              "      <td>0</td>\n",
              "      <td>0</td>\n",
              "      <td>1</td>\n",
              "      <td>0</td>\n",
              "    </tr>\n",
              "    <tr>\n",
              "      <th>1023</th>\n",
              "      <td>50</td>\n",
              "      <td>0</td>\n",
              "      <td>110</td>\n",
              "      <td>254</td>\n",
              "      <td>0</td>\n",
              "      <td>0</td>\n",
              "      <td>159</td>\n",
              "      <td>0</td>\n",
              "      <td>0.0</td>\n",
              "      <td>0</td>\n",
              "      <td>...</td>\n",
              "      <td>0</td>\n",
              "      <td>0</td>\n",
              "      <td>0</td>\n",
              "      <td>0</td>\n",
              "      <td>0</td>\n",
              "      <td>1</td>\n",
              "      <td>0</td>\n",
              "      <td>0</td>\n",
              "      <td>0</td>\n",
              "      <td>1</td>\n",
              "    </tr>\n",
              "    <tr>\n",
              "      <th>1024</th>\n",
              "      <td>54</td>\n",
              "      <td>1</td>\n",
              "      <td>120</td>\n",
              "      <td>188</td>\n",
              "      <td>0</td>\n",
              "      <td>1</td>\n",
              "      <td>113</td>\n",
              "      <td>0</td>\n",
              "      <td>1.4</td>\n",
              "      <td>1</td>\n",
              "      <td>...</td>\n",
              "      <td>0</td>\n",
              "      <td>0</td>\n",
              "      <td>0</td>\n",
              "      <td>0</td>\n",
              "      <td>0</td>\n",
              "      <td>0</td>\n",
              "      <td>1</td>\n",
              "      <td>0</td>\n",
              "      <td>1</td>\n",
              "      <td>0</td>\n",
              "    </tr>\n",
              "  </tbody>\n",
              "</table>\n",
              "<p>1025 rows × 22 columns</p>\n",
              "</div>\n",
              "      <button class=\"colab-df-convert\" onclick=\"convertToInteractive('df-790ae786-d149-4e9b-b26e-fc14ce9f9c49')\"\n",
              "              title=\"Convert this dataframe to an interactive table.\"\n",
              "              style=\"display:none;\">\n",
              "        \n",
              "  <svg xmlns=\"http://www.w3.org/2000/svg\" height=\"24px\"viewBox=\"0 0 24 24\"\n",
              "       width=\"24px\">\n",
              "    <path d=\"M0 0h24v24H0V0z\" fill=\"none\"/>\n",
              "    <path d=\"M18.56 5.44l.94 2.06.94-2.06 2.06-.94-2.06-.94-.94-2.06-.94 2.06-2.06.94zm-11 1L8.5 8.5l.94-2.06 2.06-.94-2.06-.94L8.5 2.5l-.94 2.06-2.06.94zm10 10l.94 2.06.94-2.06 2.06-.94-2.06-.94-.94-2.06-.94 2.06-2.06.94z\"/><path d=\"M17.41 7.96l-1.37-1.37c-.4-.4-.92-.59-1.43-.59-.52 0-1.04.2-1.43.59L10.3 9.45l-7.72 7.72c-.78.78-.78 2.05 0 2.83L4 21.41c.39.39.9.59 1.41.59.51 0 1.02-.2 1.41-.59l7.78-7.78 2.81-2.81c.8-.78.8-2.07 0-2.86zM5.41 20L4 18.59l7.72-7.72 1.47 1.35L5.41 20z\"/>\n",
              "  </svg>\n",
              "      </button>\n",
              "      \n",
              "  <style>\n",
              "    .colab-df-container {\n",
              "      display:flex;\n",
              "      flex-wrap:wrap;\n",
              "      gap: 12px;\n",
              "    }\n",
              "\n",
              "    .colab-df-convert {\n",
              "      background-color: #E8F0FE;\n",
              "      border: none;\n",
              "      border-radius: 50%;\n",
              "      cursor: pointer;\n",
              "      display: none;\n",
              "      fill: #1967D2;\n",
              "      height: 32px;\n",
              "      padding: 0 0 0 0;\n",
              "      width: 32px;\n",
              "    }\n",
              "\n",
              "    .colab-df-convert:hover {\n",
              "      background-color: #E2EBFA;\n",
              "      box-shadow: 0px 1px 2px rgba(60, 64, 67, 0.3), 0px 1px 3px 1px rgba(60, 64, 67, 0.15);\n",
              "      fill: #174EA6;\n",
              "    }\n",
              "\n",
              "    [theme=dark] .colab-df-convert {\n",
              "      background-color: #3B4455;\n",
              "      fill: #D2E3FC;\n",
              "    }\n",
              "\n",
              "    [theme=dark] .colab-df-convert:hover {\n",
              "      background-color: #434B5C;\n",
              "      box-shadow: 0px 1px 3px 1px rgba(0, 0, 0, 0.15);\n",
              "      filter: drop-shadow(0px 1px 2px rgba(0, 0, 0, 0.3));\n",
              "      fill: #FFFFFF;\n",
              "    }\n",
              "  </style>\n",
              "\n",
              "      <script>\n",
              "        const buttonEl =\n",
              "          document.querySelector('#df-790ae786-d149-4e9b-b26e-fc14ce9f9c49 button.colab-df-convert');\n",
              "        buttonEl.style.display =\n",
              "          google.colab.kernel.accessAllowed ? 'block' : 'none';\n",
              "\n",
              "        async function convertToInteractive(key) {\n",
              "          const element = document.querySelector('#df-790ae786-d149-4e9b-b26e-fc14ce9f9c49');\n",
              "          const dataTable =\n",
              "            await google.colab.kernel.invokeFunction('convertToInteractive',\n",
              "                                                     [key], {});\n",
              "          if (!dataTable) return;\n",
              "\n",
              "          const docLinkHtml = 'Like what you see? Visit the ' +\n",
              "            '<a target=\"_blank\" href=https://colab.research.google.com/notebooks/data_table.ipynb>data table notebook</a>'\n",
              "            + ' to learn more about interactive tables.';\n",
              "          element.innerHTML = '';\n",
              "          dataTable['output_type'] = 'display_data';\n",
              "          await google.colab.output.renderOutput(dataTable, element);\n",
              "          const docLink = document.createElement('div');\n",
              "          docLink.innerHTML = docLinkHtml;\n",
              "          element.appendChild(docLink);\n",
              "        }\n",
              "      </script>\n",
              "    </div>\n",
              "  </div>\n",
              "  "
            ]
          },
          "metadata": {},
          "execution_count": 47
        }
      ],
      "source": [
        "df_ = [df, cp, thal, slope]\n",
        "df = pd.concat(df_, axis=1)\n",
        "df = df.drop(columns=['cp', 'thal', 'slope'])\n",
        "df"
      ]
    },
    {
      "cell_type": "markdown",
      "metadata": {
        "id": "qicFyYWaJ-nm"
      },
      "source": [
        "# แบ่งชุดข้อมูล"
      ]
    },
    {
      "cell_type": "code",
      "execution_count": null,
      "metadata": {
        "id": "ZVVoMOA02HwQ"
      },
      "outputs": [],
      "source": [
        "X = df.drop(['target'], axis = 1)\n",
        "y = df.target.values"
      ]
    },
    {
      "cell_type": "markdown",
      "metadata": {
        "id": "etE5FrPqUcf3"
      },
      "source": [
        "# Data Transformation (Feature Extraction)"
      ]
    },
    {
      "cell_type": "code",
      "execution_count": null,
      "metadata": {
        "id": "Ze67-bHZP5az"
      },
      "outputs": [],
      "source": [
        "from sklearn.preprocessing import StandardScaler\n",
        "\n",
        "scaler = StandardScaler()\n",
        "scaler.fit(X)\n",
        "X_scaled = scaler.transform(X)"
      ]
    },
    {
      "cell_type": "code",
      "execution_count": null,
      "metadata": {
        "id": "NFT-QY-QQfc5",
        "colab": {
          "base_uri": "https://localhost:8080/"
        },
        "outputId": "5009c930-9920-4b39-b363-328b9f3a7c29"
      },
      "outputs": [
        {
          "output_type": "stream",
          "name": "stdout",
          "text": [
            "Original shape : (1025, 21)\n",
            "Reduced shape : (1025, 14)\n"
          ]
        }
      ],
      "source": [
        "from sklearn.decomposition import PCA\n",
        "\n",
        "pca = PCA(n_components=0.9, random_state=0)\n",
        "pca.fit(X_scaled)\n",
        "X_pca = pca.transform(X_scaled)\n",
        "\n",
        "print('Original shape : {}'.format(str(X_scaled.shape)))\n",
        "print('Reduced shape : {}'.format(str(X_pca.shape)))"
      ]
    },
    {
      "cell_type": "markdown",
      "metadata": {
        "id": "8Sf8N8flUlwT"
      },
      "source": [
        "# แบ่ง Training set และ Test set"
      ]
    },
    {
      "cell_type": "code",
      "execution_count": null,
      "metadata": {
        "id": "G3osGo852HwR",
        "colab": {
          "base_uri": "https://localhost:8080/"
        },
        "outputId": "ae57e870-a4c3-4a4c-fd1a-fe4fae4a23f0"
      },
      "outputs": [
        {
          "output_type": "stream",
          "name": "stdout",
          "text": [
            "(768, 14) (257, 14) (768,) (257,)\n"
          ]
        }
      ],
      "source": [
        "from sklearn.model_selection import train_test_split\n",
        "\n",
        "X_train, X_test, y_train, y_test = train_test_split(X_pca, y, random_state=0)\n",
        "print(X_train.shape, X_test.shape, y_train.shape, y_test.shape)"
      ]
    },
    {
      "cell_type": "markdown",
      "metadata": {
        "id": "GieIN1zpLJDR"
      },
      "source": [
        "# K-Nearest Neightbors"
      ]
    },
    {
      "cell_type": "code",
      "execution_count": null,
      "metadata": {
        "colab": {
          "base_uri": "https://localhost:8080/"
        },
        "id": "UjGX4Cm4Q1nY",
        "outputId": "3a61592d-103d-4551-f171-5eb0909662ce"
      },
      "outputs": [
        {
          "output_type": "stream",
          "name": "stdout",
          "text": [
            "k-NN train score : 0.8880\n",
            "k-NN test score : 0.8716\n"
          ]
        }
      ],
      "source": [
        "from sklearn.neighbors import KNeighborsClassifier\n",
        "\n",
        "knn = KNeighborsClassifier(n_neighbors=6)\n",
        "knn.fit(X_train, y_train)\n",
        "prediction = knn.predict(X_test)\n",
        "\n",
        "print(\"k-NN train score : {:.4f}\".format(knn.score(X_train, y_train)))\n",
        "print(\"k-NN test score : {:.4f}\".format(knn.score(X_test, y_test)))"
      ]
    },
    {
      "cell_type": "markdown",
      "metadata": {
        "id": "g39kX0siLGgm"
      },
      "source": [
        "# Logistic Regression"
      ]
    },
    {
      "cell_type": "code",
      "execution_count": null,
      "metadata": {
        "colab": {
          "base_uri": "https://localhost:8080/"
        },
        "id": "yZLM97Nz2HwZ",
        "outputId": "e097748e-ce75-4744-fefe-a30b9047203c"
      },
      "outputs": [
        {
          "output_type": "stream",
          "name": "stdout",
          "text": [
            "Logistic Regression train score : 0.8464\n",
            "Logistic Regression test score : 0.8521\n"
          ]
        }
      ],
      "source": [
        "from sklearn.linear_model import LogisticRegression\n",
        "\n",
        "logreg = LogisticRegression(penalty='l2', C=1, random_state=0).fit(X_train,y_train)\n",
        "\n",
        "print(\"Logistic Regression train score : {:.4f}\".format(logreg.score(X_train, y_train)))\n",
        "print(\"Logistic Regression test score : {:.4f}\".format(logreg.score(X_test, y_test)))"
      ]
    },
    {
      "cell_type": "markdown",
      "metadata": {
        "id": "HKl14GN4NGy6"
      },
      "source": [
        "# Support Vector Machine"
      ]
    },
    {
      "cell_type": "code",
      "execution_count": null,
      "metadata": {
        "colab": {
          "base_uri": "https://localhost:8080/"
        },
        "id": "0hDsRF8fNE93",
        "outputId": "4f308f6e-276e-475b-e642-74202c367500"
      },
      "outputs": [
        {
          "output_type": "stream",
          "name": "stdout",
          "text": [
            "SVM train score : 0.9206\n",
            "SVM test score : 0.9300\n"
          ]
        }
      ],
      "source": [
        "from sklearn.svm import SVC\n",
        "\n",
        "svm = SVC(random_state=0).fit(X_train, y_train)\n",
        "\n",
        "print(\"SVM train score : {:.4f}\".format(svm.score(X_train, y_train)))\n",
        "print(\"SVM test score : {:.4f}\".format(svm.score(X_test, y_test)))"
      ]
    },
    {
      "cell_type": "markdown",
      "metadata": {
        "id": "FNBlCuW4NXfT"
      },
      "source": [
        "# Naive Bayes"
      ]
    },
    {
      "cell_type": "code",
      "execution_count": null,
      "metadata": {
        "colab": {
          "base_uri": "https://localhost:8080/"
        },
        "id": "CONRXbMWNW6b",
        "outputId": "df37fe76-779d-486c-a981-363ff9e56a5d"
      },
      "outputs": [
        {
          "output_type": "stream",
          "name": "stdout",
          "text": [
            "Naive Bayes train score : 0.8372\n",
            "Naive Bayes test score : 0.8521\n"
          ]
        }
      ],
      "source": [
        "from sklearn.naive_bayes import GaussianNB\n",
        "\n",
        "nb = GaussianNB().fit(X_train, y_train)\n",
        "\n",
        "print(\"Naive Bayes train score : {:.4f}\".format(nb.score(X_train, y_train)))\n",
        "print(\"Naive Bayes test score : {:.4f}\".format(nb.score(X_test, y_test)))"
      ]
    },
    {
      "cell_type": "markdown",
      "metadata": {
        "id": "tKlMLM7ENh3p"
      },
      "source": [
        "# Decision Tree"
      ]
    },
    {
      "cell_type": "code",
      "execution_count": null,
      "metadata": {
        "colab": {
          "base_uri": "https://localhost:8080/"
        },
        "id": "RXtOWFMaTASp",
        "outputId": "ea11d4c7-a8b8-40f8-d2c8-c60287899a91"
      },
      "outputs": [
        {
          "output_type": "stream",
          "name": "stdout",
          "text": [
            "Decision Tree train score : 0.9922\n",
            "Decision Tree test score : 0.9844\n"
          ]
        }
      ],
      "source": [
        "from sklearn.tree import DecisionTreeClassifier\n",
        "\n",
        "tree = DecisionTreeClassifier(max_depth=8, random_state=0)\n",
        "tree.fit(X_train, y_train)\n",
        "\n",
        "print(\"Decision Tree train score : {:.4f}\".format(tree.score(X_train, y_train)))\n",
        "print(\"Decision Tree test score : {:.4f}\".format(tree.score(X_test, y_test)))"
      ]
    },
    {
      "cell_type": "markdown",
      "metadata": {
        "id": "u7q_5Ci-N2gk"
      },
      "source": [
        "# Random Forest"
      ]
    },
    {
      "cell_type": "code",
      "execution_count": null,
      "metadata": {
        "colab": {
          "base_uri": "https://localhost:8080/"
        },
        "id": "1F5WA1YUTIHA",
        "outputId": "480afddf-9cbc-48df-a8d2-d7085246b73a"
      },
      "outputs": [
        {
          "output_type": "stream",
          "name": "stdout",
          "text": [
            "Random Forest train score : 0.9987\n",
            "Random Forest test score : 0.9922\n"
          ]
        }
      ],
      "source": [
        "from sklearn.ensemble import RandomForestClassifier\n",
        "\n",
        "forest = RandomForestClassifier(n_estimators=4, random_state = 0)\n",
        "forest.fit(X_train, y_train)\n",
        "\n",
        "print(\"Random Forest train score : {:.4f}\".format(forest.score(X_train, y_train)))\n",
        "print(\"Random Forest test score : {:.4f}\".format(forest.score(X_test, y_test)))"
      ]
    },
    {
      "cell_type": "markdown",
      "metadata": {
        "id": "wuhdEvlfXhNr"
      },
      "source": [
        "# เปรียบเทียบ Accuracy"
      ]
    },
    {
      "cell_type": "code",
      "source": [
        "print(\"k-NN test score : {:.4f}\".format(knn.score(X_test, y_test)))\n",
        "print(\"Logistic Regression test score : {:.4f}\".format(logreg.score(X_test, y_test)))\n",
        "print(\"SVM test score : {:.4f}\".format(svm.score(X_test, y_test)))\n",
        "print(\"Naive Bayes test score : {:.4f}\".format(nb.score(X_test,y_test)))\n",
        "print(\"Decision Tree test score {:.4f}\".format(tree.score(X_test, y_test)))\n",
        "print(\"Random Forest test score : {:.4f}\".format(forest.score(X_test, y_test)))"
      ],
      "metadata": {
        "colab": {
          "base_uri": "https://localhost:8080/"
        },
        "id": "wWKsx1s9r3vt",
        "outputId": "7bf45078-698c-45c4-efb3-1850c0d7fdd4"
      },
      "execution_count": null,
      "outputs": [
        {
          "output_type": "stream",
          "name": "stdout",
          "text": [
            "k-NN test score : 0.8716\n",
            "Logistic Regression test score : 0.8521\n",
            "SVM test score : 0.9300\n",
            "Naive Bayes test score : 0.8521\n",
            "Decision Tree test score 0.9844\n",
            "Random Forest test score : 0.9922\n"
          ]
        }
      ]
    },
    {
      "cell_type": "markdown",
      "metadata": {
        "id": "7g8tlk2nVEbi"
      },
      "source": [
        "# Confusion Matrix"
      ]
    },
    {
      "cell_type": "code",
      "source": [
        "pred_knn = knn.predict(X_test)\n",
        "pred_logreg = logreg.predict(X_test)\n",
        "pred_svm = svm.predict(X_test)\n",
        "pred_nb = nb.predict(X_test)\n",
        "pred_tree = tree.predict(X_test)\n",
        "pred_forest = forest.predict(X_test)"
      ],
      "metadata": {
        "id": "9n5SZG5CZc9D"
      },
      "execution_count": null,
      "outputs": []
    },
    {
      "cell_type": "code",
      "execution_count": null,
      "metadata": {
        "id": "OsEAqoXd2Hwl"
      },
      "outputs": [],
      "source": [
        "from sklearn.metrics import confusion_matrix\n",
        "\n",
        "cm_knn = confusion_matrix(y_test, pred_knn)\n",
        "cm_logreg = confusion_matrix(y_test, pred_logreg)\n",
        "cm_svm = confusion_matrix(y_test, pred_svm)\n",
        "cm_nb = confusion_matrix(y_test, pred_nb)\n",
        "cm_tree = confusion_matrix(y_test, pred_tree)\n",
        "cm_forest = confusion_matrix(y_test, pred_forest)"
      ]
    },
    {
      "cell_type": "code",
      "execution_count": null,
      "metadata": {
        "colab": {
          "base_uri": "https://localhost:8080/",
          "height": 602
        },
        "id": "MqbuT-Pe2Hwm",
        "outputId": "45949922-cb09-4442-9479-9115eccfee36"
      },
      "outputs": [
        {
          "output_type": "display_data",
          "data": {
            "text/plain": [
              "<Figure size 1296x648 with 6 Axes>"
            ],
            "image/png": "[encoded data removed]"
          },
          "metadata": {
            "needs_background": "light"
          }
        }
      ],
      "source": [
        "plt.figure(figsize=(18,9))\n",
        "\n",
        "plt.suptitle(\"Confusion Matrixes\", fontsize=24)\n",
        "plt.subplots_adjust(wspace=0.4, hspace=0.4)\n",
        "\n",
        "plt.subplot(2,3,1)\n",
        "plt.title(\"K-Nearest Neighbors\")\n",
        "sns.heatmap(cm_knn, annot=True, cmap=\"Reds\", fmt=\"d\", cbar=False, annot_kws={\"size\": 24})\n",
        "\n",
        "plt.subplot(2,3,2)\n",
        "plt.title(\"Logistic Regression\")\n",
        "sns.heatmap(cm_logreg, annot=True, cmap=\"Reds\", fmt=\"d\", cbar=False, annot_kws={\"size\": 24})\n",
        "\n",
        "plt.subplot(2,3,3)\n",
        "plt.title(\"Support Vector Machine\")\n",
        "sns.heatmap(cm_svm, annot=True, cmap=\"Reds\", fmt=\"d\", cbar=False, annot_kws={\"size\": 24})\n",
        "\n",
        "plt.subplot(2,3,4)\n",
        "plt.title(\"Naive Bayes\")\n",
        "sns.heatmap(cm_nb, annot=True, cmap=\"Reds\", fmt=\"d\", cbar=False, annot_kws={\"size\": 24})\n",
        "\n",
        "plt.subplot(2,3,5)\n",
        "plt.title(\"Decision Tree\")\n",
        "sns.heatmap(cm_tree, annot=True, cmap=\"Reds\", fmt=\"d\", cbar=False, annot_kws={\"size\": 24})\n",
        "\n",
        "plt.subplot(2,3,6)\n",
        "plt.title(\"Random Forest\")\n",
        "sns.heatmap(cm_forest, annot=True, cmap=\"Reds\", fmt=\"d\", cbar=False, annot_kws={\"size\": 24})\n",
        "\n",
        "plt.show()"
      ]
    },
    {
      "cell_type": "markdown",
      "source": [
        "## ค่า Precision, Recall และ F1-Score"
      ],
      "metadata": {
        "id": "UJjcb4Un71D1"
      }
    },
    {
      "cell_type": "code",
      "source": [
        "from sklearn.metrics import classification_report\n",
        "\n",
        "print(\"k-NN\")\n",
        "print('------------------------------------------------------------------')\n",
        "print(classification_report(y_test, pred_knn, target_names=[\"Have Disease\", \"Don't have Disease\"]))\n",
        "print('------------------------------------------------------------------\\n\\nLogistic Regression')\n",
        "print('------------------------------------------------------------------')\n",
        "print(classification_report(y_test, pred_logreg, target_names=[\"Have Disease\", \"Don't have Disease\"]))\n",
        "print('------------------------------------------------------------------\\n\\nSVM')\n",
        "print('------------------------------------------------------------------')\n",
        "print(classification_report(y_test, pred_svm, target_names=[\"Have Disease\", \"Don't have Disease\"]))\n",
        "print('------------------------------------------------------------------\\n\\nNaive Bayes')\n",
        "print('------------------------------------------------------------------')\n",
        "print(classification_report(y_test, pred_nb, target_names=[\"Have Disease\", \"Don't have Disease\"]))\n",
        "print('------------------------------------------------------------------\\n\\nDecision Tree')\n",
        "print('------------------------------------------------------------------')\n",
        "print(classification_report(y_test, pred_tree, target_names=[\"Have Disease\", \"Don't have Disease\"]))\n",
        "print('------------------------------------------------------------------\\n\\nRandom Forest')\n",
        "print('------------------------------------------------------------------')\n",
        "print(classification_report(y_test, pred_forest, target_names=[\"Have Disease\", \"Don't have Disease\"]))\n",
        "print('------------------------------------------------------------------')"
      ],
      "metadata": {
        "colab": {
          "base_uri": "https://localhost:8080/"
        },
        "id": "5NB02b95ZGHH",
        "outputId": "6498f999-fbcb-4198-d2ca-129b6b4d04d7"
      },
      "execution_count": null,
      "outputs": [
        {
          "output_type": "stream",
          "name": "stdout",
          "text": [
            "k-NN\n",
            "------------------------------------------------------------------\n",
            "                    precision    recall  f1-score   support\n",
            "\n",
            "      Have Disease       0.83      0.92      0.87       123\n",
            "Don't have Disease       0.92      0.83      0.87       134\n",
            "\n",
            "          accuracy                           0.87       257\n",
            "         macro avg       0.87      0.87      0.87       257\n",
            "      weighted avg       0.88      0.87      0.87       257\n",
            "\n",
            "------------------------------------------------------------------\n",
            "\n",
            "Logistic Regression\n",
            "------------------------------------------------------------------\n",
            "                    precision    recall  f1-score   support\n",
            "\n",
            "      Have Disease       0.87      0.81      0.84       123\n",
            "Don't have Disease       0.84      0.89      0.86       134\n",
            "\n",
            "          accuracy                           0.85       257\n",
            "         macro avg       0.85      0.85      0.85       257\n",
            "      weighted avg       0.85      0.85      0.85       257\n",
            "\n",
            "------------------------------------------------------------------\n",
            "\n",
            "SVM\n",
            "------------------------------------------------------------------\n",
            "                    precision    recall  f1-score   support\n",
            "\n",
            "      Have Disease       0.94      0.91      0.93       123\n",
            "Don't have Disease       0.92      0.95      0.93       134\n",
            "\n",
            "          accuracy                           0.93       257\n",
            "         macro avg       0.93      0.93      0.93       257\n",
            "      weighted avg       0.93      0.93      0.93       257\n",
            "\n",
            "------------------------------------------------------------------\n",
            "\n",
            "Naive Bayes\n",
            "------------------------------------------------------------------\n",
            "                    precision    recall  f1-score   support\n",
            "\n",
            "      Have Disease       0.84      0.85      0.85       123\n",
            "Don't have Disease       0.86      0.85      0.86       134\n",
            "\n",
            "          accuracy                           0.85       257\n",
            "         macro avg       0.85      0.85      0.85       257\n",
            "      weighted avg       0.85      0.85      0.85       257\n",
            "\n",
            "------------------------------------------------------------------\n",
            "\n",
            "Decision Tree\n",
            "------------------------------------------------------------------\n",
            "                    precision    recall  f1-score   support\n",
            "\n",
            "      Have Disease       0.98      0.99      0.98       123\n",
            "Don't have Disease       0.99      0.98      0.98       134\n",
            "\n",
            "          accuracy                           0.98       257\n",
            "         macro avg       0.98      0.98      0.98       257\n",
            "      weighted avg       0.98      0.98      0.98       257\n",
            "\n",
            "------------------------------------------------------------------\n",
            "\n",
            "Random Forest\n",
            "------------------------------------------------------------------\n",
            "                    precision    recall  f1-score   support\n",
            "\n",
            "      Have Disease       0.98      1.00      0.99       123\n",
            "Don't have Disease       1.00      0.99      0.99       134\n",
            "\n",
            "          accuracy                           0.99       257\n",
            "         macro avg       0.99      0.99      0.99       257\n",
            "      weighted avg       0.99      0.99      0.99       257\n",
            "\n",
            "------------------------------------------------------------------\n"
          ]
        }
      ]
    }
  ],
  "metadata": {
    "colab": {
      "provenance": []
    },
    "kernelspec": {
      "display_name": "Python 3",
      "name": "python3"
    },
    "language_info": {
      "name": "python"
    }
  },
  "nbformat": 4,
  "nbformat_minor": 0
}